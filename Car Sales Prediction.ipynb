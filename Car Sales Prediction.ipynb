{
 "cells": [
  {
   "cell_type": "code",
   "execution_count": 1,
   "metadata": {
    "colab": {
     "base_uri": "https://localhost:8080/"
    },
    "id": "8Ufmt-vgOPA1",
    "outputId": "a66d09a3-9e30-4ae0-fe78-1de9a2ba7412"
   },
   "outputs": [
    {
     "name": "stdout",
     "output_type": "stream",
     "text": [
      "Collecting pyspark\n",
      "  Downloading pyspark-3.2.1.tar.gz (281.4 MB)\n",
      "\u001b[K     |████████████████████████████████| 281.4 MB 40 kB/s \n",
      "\u001b[?25hCollecting py4j==0.10.9.3\n",
      "  Downloading py4j-0.10.9.3-py2.py3-none-any.whl (198 kB)\n",
      "\u001b[K     |████████████████████████████████| 198 kB 67.9 MB/s \n",
      "\u001b[?25hBuilding wheels for collected packages: pyspark\n",
      "  Building wheel for pyspark (setup.py) ... \u001b[?25l\u001b[?25hdone\n",
      "  Created wheel for pyspark: filename=pyspark-3.2.1-py2.py3-none-any.whl size=281853642 sha256=a2d1fda036fec4411c7632bd2a48eae101531758cb1e8f11354b00987e5d4521\n",
      "  Stored in directory: /root/.cache/pip/wheels/9f/f5/07/7cd8017084dce4e93e84e92efd1e1d5334db05f2e83bcef74f\n",
      "Successfully built pyspark\n",
      "Installing collected packages: py4j, pyspark\n",
      "Successfully installed py4j-0.10.9.3 pyspark-3.2.1\n"
     ]
    }
   ],
   "source": [
    "!pip install pyspark\n",
    "\n",
    "!apt-get install openjdk-8-jdk-headless -qq > /dev/null\n",
    "\n",
    "!wget -q https://dlcdn.apache.org/spark/spark-3.2.1/spark-3.2.1-bin-hadoop2.7.tgz\n",
    "!tar xf spark-3.2.1-bin-hadoop2.7.tgz\n",
    "\n",
    "!pip install -q findspark\n",
    "\n",
    "import os\n",
    "os.environ[\"JAVA_HOME\"] = \"/usr/lib/jvm/java-8-openjdk-amd64\"\n",
    "os.environ[\"SPARK_HOME\"] = \"/content/spark-3.2.1-bin-hadoop2.7\""
   ]
  },
  {
   "cell_type": "code",
   "execution_count": 2,
   "metadata": {
    "id": "zGyxEikPOTc2"
   },
   "outputs": [],
   "source": [
    "### Initialize the spark\n",
    "from pyspark.sql import SparkSession\n",
    "spark = SparkSession.builder.getOrCreate()"
   ]
  },
  {
   "cell_type": "code",
   "execution_count": 3,
   "metadata": {
    "id": "TINah9gSOTZu"
   },
   "outputs": [],
   "source": [
    "import pyspark.ml as ml"
   ]
  },
  {
   "cell_type": "code",
   "execution_count": 4,
   "metadata": {
    "id": "6OJrydwOOTWf"
   },
   "outputs": [],
   "source": [
    "# Load the dataset\n",
    "car_df  = spark.read.csv('Car_sales.csv',inferSchema=True,header=True)"
   ]
  },
  {
   "cell_type": "code",
   "execution_count": 5,
   "metadata": {
    "colab": {
     "base_uri": "https://localhost:8080/"
    },
    "id": "XTojwOPYOTTS",
    "outputId": "5486bd4d-3393-432f-b5e5-7a964d8dda2c"
   },
   "outputs": [
    {
     "name": "stdout",
     "output_type": "stream",
     "text": [
      "+------------+-------+------------------+----------------------+------------+------------------+-----------+----------+---------+-----+------+-----------+-------------+---------------+-------------+-----------------+\n",
      "|Manufacturer|Model  |Sales_in_thousands|four_year_resale_value|Vehicle_type|Price_in_thousands|Engine_size|Horsepower|Wheelbase|Width|Length|Curb_weight|Fuel_capacity|Fuel_efficiency|Latest_Launch|Power_perf_factor|\n",
      "+------------+-------+------------------+----------------------+------------+------------------+-----------+----------+---------+-----+------+-----------+-------------+---------------+-------------+-----------------+\n",
      "|Acura       |Integra|16.919            |16.36                 |Passenger   |21.5              |1.8        |140       |101.2    |67.3 |172.4 |2.639      |13.2         |28             |2/2/2012     |58.28014952      |\n",
      "|Acura       |TL     |39.384            |19.875                |Passenger   |28.4              |3.2        |225       |108.1    |70.3 |192.9 |3.517      |17.2         |25             |6/3/2011     |91.37077766      |\n",
      "|Acura       |CL     |14.114            |18.225                |Passenger   |null              |3.2        |225       |106.9    |70.6 |192.0 |3.47       |17.2         |26             |1/4/2012     |null             |\n",
      "|Acura       |RL     |8.588             |29.725                |Passenger   |42.0              |3.5        |210       |114.6    |71.4 |196.6 |3.85       |18.0         |22             |3/10/2011    |91.38977933      |\n",
      "|Audi        |A4     |20.397            |22.255                |Passenger   |23.99             |1.8        |150       |102.6    |68.2 |178.0 |2.998      |16.4         |27             |10/8/2011    |62.7776392       |\n",
      "+------------+-------+------------------+----------------------+------------+------------------+-----------+----------+---------+-----+------+-----------+-------------+---------------+-------------+-----------------+\n",
      "only showing top 5 rows\n",
      "\n"
     ]
    }
   ],
   "source": [
    "car_df.show(5, truncate=False)"
   ]
  },
  {
   "cell_type": "code",
   "execution_count": 6,
   "metadata": {
    "id": "vvab0-HsOTPr"
   },
   "outputs": [],
   "source": [
    "car_df = car_df.drop(\"four_year_resale_value\",\"Latest_Launch\")"
   ]
  },
  {
   "cell_type": "code",
   "execution_count": 7,
   "metadata": {
    "id": "WnO5LvirOTMx"
   },
   "outputs": [],
   "source": [
    "car_df = car_df.na.drop()"
   ]
  },
  {
   "cell_type": "code",
   "execution_count": 8,
   "metadata": {
    "colab": {
     "base_uri": "https://localhost:8080/"
    },
    "id": "C7HlmQa3OTJ_",
    "outputId": "d62ff717-4f45-4603-dd67-ee590c1addd9"
   },
   "outputs": [
    {
     "name": "stdout",
     "output_type": "stream",
     "text": [
      "(152, 14)\n"
     ]
    }
   ],
   "source": [
    "print((car_df.count(),len(car_df.columns)))"
   ]
  },
  {
   "cell_type": "code",
   "execution_count": 9,
   "metadata": {
    "id": "1bJwXUJxOTHj"
   },
   "outputs": [],
   "source": [
    "final_car_df = car_df"
   ]
  },
  {
   "cell_type": "code",
   "execution_count": 10,
   "metadata": {
    "colab": {
     "base_uri": "https://localhost:8080/"
    },
    "id": "_w54491EPA51",
    "outputId": "de239e46-3f37-4200-8a82-16cb3ccae191"
   },
   "outputs": [
    {
     "name": "stdout",
     "output_type": "stream",
     "text": [
      "+-------+------------------+------------+\n",
      "|summary|Sales_in_thousands|Manufacturer|\n",
      "+-------+------------------+------------+\n",
      "|  count|               152|         152|\n",
      "|   mean|53.359072368421046|        null|\n",
      "| stddev| 68.93837994118559|        null|\n",
      "|    min|              0.11|       Acura|\n",
      "|    max|           540.561|       Volvo|\n",
      "+-------+------------------+------------+\n",
      "\n"
     ]
    }
   ],
   "source": [
    "\n",
    "final_car_df.describe(\"Sales_in_thousands\", \"Manufacturer\").show()"
   ]
  },
  {
   "cell_type": "code",
   "execution_count": 11,
   "metadata": {
    "colab": {
     "base_uri": "https://localhost:8080/"
    },
    "id": "v8C3r7G_PA1_",
    "outputId": "b3cb40f1-e551-4ce0-834d-8b8718a8f386"
   },
   "outputs": [
    {
     "name": "stdout",
     "output_type": "stream",
     "text": [
      "+-----------------------+-----------------------+-----------------------+\n",
      "|max(Sales_in_thousands)|avg(Sales_in_thousands)|min(Sales_in_thousands)|\n",
      "+-----------------------+-----------------------+-----------------------+\n",
      "|                540.561|     53.359072368421046|                   0.11|\n",
      "+-----------------------+-----------------------+-----------------------+\n",
      "\n"
     ]
    }
   ],
   "source": [
    "from pyspark.sql.functions import mean, min, max\n",
    "final_car_df.select([max('Sales_in_thousands'), mean('Sales_in_thousands'), min('Sales_in_thousands')] ).show()"
   ]
  },
  {
   "cell_type": "code",
   "execution_count": 12,
   "metadata": {
    "colab": {
     "base_uri": "https://localhost:8080/"
    },
    "id": "qFGZ__ulPAy8",
    "outputId": "7e0b3b89-00f3-4853-d71e-f4ffa88e9356"
   },
   "outputs": [
    {
     "name": "stdout",
     "output_type": "stream",
     "text": [
      "+-------------+-----------------------+\n",
      "|        model|avg(Sales_in_thousands)|\n",
      "+-------------+-----------------------+\n",
      "|       Cirrus|                 32.306|\n",
      "|      Contour|                 35.068|\n",
      "|        RX300|                 51.238|\n",
      "|     Villager|                  20.38|\n",
      "|           SC|                 24.546|\n",
      "|      Cutlass|                  1.112|\n",
      "|           SL|                  80.62|\n",
      "|        Camry|                247.994|\n",
      "|    Ram Wagon|                 16.767|\n",
      "|      Outback|                 47.107|\n",
      "|         300M|                 30.696|\n",
      "|           A6|                  18.78|\n",
      "|Grand Marquis|                 81.174|\n",
      "|         Golf|                  9.761|\n",
      "|     Forester|                 33.028|\n",
      "|       Sentra|                 42.643|\n",
      "|     Cherokee|                 80.556|\n",
      "|        Focus|                 175.67|\n",
      "|     Wrangler|                 55.557|\n",
      "|          SLK|                  7.998|\n",
      "+-------------+-----------------------+\n",
      "only showing top 20 rows\n",
      "\n"
     ]
    }
   ],
   "source": [
    "from pyspark.sql.functions import avg, stddev\n",
    "\n",
    "Sales_model_avg_df = final_car_df.groupBy('model').agg(avg('Sales_in_thousands'))\n",
    "Sales_model_avg_df.show()"
   ]
  },
  {
   "cell_type": "code",
   "execution_count": 13,
   "metadata": {
    "id": "OyAIapU2PAvz"
   },
   "outputs": [],
   "source": [
    "import matplotlib.pyplot as plt\n",
    "import seaborn as sn\n",
    "%matplotlib inline"
   ]
  },
  {
   "cell_type": "code",
   "execution_count": 14,
   "metadata": {
    "id": "N9m9bjIdPAtE"
   },
   "outputs": [],
   "source": [
    "Sales_pd = final_car_df.select('Sales_in_thousands').toPandas()"
   ]
  },
  {
   "cell_type": "code",
   "execution_count": 15,
   "metadata": {
    "colab": {
     "base_uri": "https://localhost:8080/",
     "height": 206
    },
    "id": "9sLfURLiPAqQ",
    "outputId": "a049f711-5c28-4545-cef7-4d8021f3507e"
   },
   "outputs": [
    {
     "data": {
      "text/html": [
       "\n",
       "  <div id=\"df-adda4b1f-5496-40c6-980e-a9bb809430d0\">\n",
       "    <div class=\"colab-df-container\">\n",
       "      <div>\n",
       "<style scoped>\n",
       "    .dataframe tbody tr th:only-of-type {\n",
       "        vertical-align: middle;\n",
       "    }\n",
       "\n",
       "    .dataframe tbody tr th {\n",
       "        vertical-align: top;\n",
       "    }\n",
       "\n",
       "    .dataframe thead th {\n",
       "        text-align: right;\n",
       "    }\n",
       "</style>\n",
       "<table border=\"1\" class=\"dataframe\">\n",
       "  <thead>\n",
       "    <tr style=\"text-align: right;\">\n",
       "      <th></th>\n",
       "      <th>Sales_in_thousands</th>\n",
       "    </tr>\n",
       "  </thead>\n",
       "  <tbody>\n",
       "    <tr>\n",
       "      <th>0</th>\n",
       "      <td>16.919</td>\n",
       "    </tr>\n",
       "    <tr>\n",
       "      <th>1</th>\n",
       "      <td>39.384</td>\n",
       "    </tr>\n",
       "    <tr>\n",
       "      <th>2</th>\n",
       "      <td>8.588</td>\n",
       "    </tr>\n",
       "    <tr>\n",
       "      <th>3</th>\n",
       "      <td>20.397</td>\n",
       "    </tr>\n",
       "    <tr>\n",
       "      <th>4</th>\n",
       "      <td>18.780</td>\n",
       "    </tr>\n",
       "  </tbody>\n",
       "</table>\n",
       "</div>\n",
       "      <button class=\"colab-df-convert\" onclick=\"convertToInteractive('df-adda4b1f-5496-40c6-980e-a9bb809430d0')\"\n",
       "              title=\"Convert this dataframe to an interactive table.\"\n",
       "              style=\"display:none;\">\n",
       "        \n",
       "  <svg xmlns=\"http://www.w3.org/2000/svg\" height=\"24px\"viewBox=\"0 0 24 24\"\n",
       "       width=\"24px\">\n",
       "    <path d=\"M0 0h24v24H0V0z\" fill=\"none\"/>\n",
       "    <path d=\"M18.56 5.44l.94 2.06.94-2.06 2.06-.94-2.06-.94-.94-2.06-.94 2.06-2.06.94zm-11 1L8.5 8.5l.94-2.06 2.06-.94-2.06-.94L8.5 2.5l-.94 2.06-2.06.94zm10 10l.94 2.06.94-2.06 2.06-.94-2.06-.94-.94-2.06-.94 2.06-2.06.94z\"/><path d=\"M17.41 7.96l-1.37-1.37c-.4-.4-.92-.59-1.43-.59-.52 0-1.04.2-1.43.59L10.3 9.45l-7.72 7.72c-.78.78-.78 2.05 0 2.83L4 21.41c.39.39.9.59 1.41.59.51 0 1.02-.2 1.41-.59l7.78-7.78 2.81-2.81c.8-.78.8-2.07 0-2.86zM5.41 20L4 18.59l7.72-7.72 1.47 1.35L5.41 20z\"/>\n",
       "  </svg>\n",
       "      </button>\n",
       "      \n",
       "  <style>\n",
       "    .colab-df-container {\n",
       "      display:flex;\n",
       "      flex-wrap:wrap;\n",
       "      gap: 12px;\n",
       "    }\n",
       "\n",
       "    .colab-df-convert {\n",
       "      background-color: #E8F0FE;\n",
       "      border: none;\n",
       "      border-radius: 50%;\n",
       "      cursor: pointer;\n",
       "      display: none;\n",
       "      fill: #1967D2;\n",
       "      height: 32px;\n",
       "      padding: 0 0 0 0;\n",
       "      width: 32px;\n",
       "    }\n",
       "\n",
       "    .colab-df-convert:hover {\n",
       "      background-color: #E2EBFA;\n",
       "      box-shadow: 0px 1px 2px rgba(60, 64, 67, 0.3), 0px 1px 3px 1px rgba(60, 64, 67, 0.15);\n",
       "      fill: #174EA6;\n",
       "    }\n",
       "\n",
       "    [theme=dark] .colab-df-convert {\n",
       "      background-color: #3B4455;\n",
       "      fill: #D2E3FC;\n",
       "    }\n",
       "\n",
       "    [theme=dark] .colab-df-convert:hover {\n",
       "      background-color: #434B5C;\n",
       "      box-shadow: 0px 1px 3px 1px rgba(0, 0, 0, 0.15);\n",
       "      filter: drop-shadow(0px 1px 2px rgba(0, 0, 0, 0.3));\n",
       "      fill: #FFFFFF;\n",
       "    }\n",
       "  </style>\n",
       "\n",
       "      <script>\n",
       "        const buttonEl =\n",
       "          document.querySelector('#df-adda4b1f-5496-40c6-980e-a9bb809430d0 button.colab-df-convert');\n",
       "        buttonEl.style.display =\n",
       "          google.colab.kernel.accessAllowed ? 'block' : 'none';\n",
       "\n",
       "        async function convertToInteractive(key) {\n",
       "          const element = document.querySelector('#df-adda4b1f-5496-40c6-980e-a9bb809430d0');\n",
       "          const dataTable =\n",
       "            await google.colab.kernel.invokeFunction('convertToInteractive',\n",
       "                                                     [key], {});\n",
       "          if (!dataTable) return;\n",
       "\n",
       "          const docLinkHtml = 'Like what you see? Visit the ' +\n",
       "            '<a target=\"_blank\" href=https://colab.research.google.com/notebooks/data_table.ipynb>data table notebook</a>'\n",
       "            + ' to learn more about interactive tables.';\n",
       "          element.innerHTML = '';\n",
       "          dataTable['output_type'] = 'display_data';\n",
       "          await google.colab.output.renderOutput(dataTable, element);\n",
       "          const docLink = document.createElement('div');\n",
       "          docLink.innerHTML = docLinkHtml;\n",
       "          element.appendChild(docLink);\n",
       "        }\n",
       "      </script>\n",
       "    </div>\n",
       "  </div>\n",
       "  "
      ],
      "text/plain": [
       "   Sales_in_thousands\n",
       "0              16.919\n",
       "1              39.384\n",
       "2               8.588\n",
       "3              20.397\n",
       "4              18.780"
      ]
     },
     "execution_count": 15,
     "metadata": {},
     "output_type": "execute_result"
    }
   ],
   "source": [
    "Sales_pd.head()"
   ]
  },
  {
   "cell_type": "code",
   "execution_count": 16,
   "metadata": {
    "id": "GyR-vzkePAnX"
   },
   "outputs": [],
   "source": [
    "import pandas as pd"
   ]
  },
  {
   "cell_type": "code",
   "execution_count": 17,
   "metadata": {
    "colab": {
     "base_uri": "https://localhost:8080/",
     "height": 468
    },
    "id": "lc600_Q8PAkh",
    "outputId": "3b9a9b54-b2b5-4d26-e671-8eebed246c96"
   },
   "outputs": [
    {
     "name": "stderr",
     "output_type": "stream",
     "text": [
      "/usr/local/lib/python3.7/dist-packages/seaborn/distributions.py:2619: FutureWarning: `distplot` is a deprecated function and will be removed in a future version. Please adapt your code to use either `displot` (a figure-level function with similar flexibility) or `histplot` (an axes-level function for histograms).\n",
      "  warnings.warn(msg, FutureWarning)\n"
     ]
    },
    {
     "data": {
      "text/plain": [
       "<matplotlib.axes._subplots.AxesSubplot at 0x7f029cde0b90>"
      ]
     },
     "execution_count": 17,
     "metadata": {},
     "output_type": "execute_result"
    },
    {
     "data": {
      "image/png": "[encoded data removed]",
      "text/plain": [
       "<Figure size 720x432 with 1 Axes>"
      ]
     },
     "metadata": {},
     "output_type": "display_data"
    }
   ],
   "source": [
    "#Density Plot\n",
    "sn.set(rc={\"figure.figsize\": (10, 6)})\n",
    "sn.distplot(pd.to_numeric(Sales_pd['Sales_in_thousands']), norm_hist=True)"
   ]
  },
  {
   "cell_type": "code",
   "execution_count": 18,
   "metadata": {
    "id": "CnrGdakbPAhm"
   },
   "outputs": [],
   "source": [
    "import numpy as np\n",
    "from pyspark.mllib.stat import Statistics"
   ]
  },
  {
   "cell_type": "code",
   "execution_count": 19,
   "metadata": {
    "id": "iGpq0ePuPAeu"
   },
   "outputs": [],
   "source": [
    "from pyspark.sql.functions import desc\n",
    "\n",
    "sales_by_manufacturer_df = final_car_df.groupBy('Manufacturer').agg(avg('Sales_in_thousands')).sort( desc( 'avg(Sales_in_thousands)') )"
   ]
  },
  {
   "cell_type": "code",
   "execution_count": 20,
   "metadata": {
    "colab": {
     "base_uri": "https://localhost:8080/",
     "height": 363
    },
    "id": "p_1bCk9lPAcb",
    "outputId": "c6819722-d3da-481c-e6c6-ef30997a8043"
   },
   "outputs": [
    {
     "data": {
      "text/html": [
       "\n",
       "  <div id=\"df-11a6773f-5ef1-4f90-82f1-6304799f0e89\">\n",
       "    <div class=\"colab-df-container\">\n",
       "      <div>\n",
       "<style scoped>\n",
       "    .dataframe tbody tr th:only-of-type {\n",
       "        vertical-align: middle;\n",
       "    }\n",
       "\n",
       "    .dataframe tbody tr th {\n",
       "        vertical-align: top;\n",
       "    }\n",
       "\n",
       "    .dataframe thead th {\n",
       "        text-align: right;\n",
       "    }\n",
       "</style>\n",
       "<table border=\"1\" class=\"dataframe\">\n",
       "  <thead>\n",
       "    <tr style=\"text-align: right;\">\n",
       "      <th></th>\n",
       "      <th>Manufacturer</th>\n",
       "      <th>avg(Sales_in_thousands)</th>\n",
       "    </tr>\n",
       "  </thead>\n",
       "  <tbody>\n",
       "    <tr>\n",
       "      <th>0</th>\n",
       "      <td>Ford</td>\n",
       "      <td>183.875909</td>\n",
       "    </tr>\n",
       "    <tr>\n",
       "      <th>1</th>\n",
       "      <td>Honda</td>\n",
       "      <td>118.534800</td>\n",
       "    </tr>\n",
       "    <tr>\n",
       "      <th>2</th>\n",
       "      <td>Jeep</td>\n",
       "      <td>97.717667</td>\n",
       "    </tr>\n",
       "    <tr>\n",
       "      <th>3</th>\n",
       "      <td>Toyota</td>\n",
       "      <td>82.245000</td>\n",
       "    </tr>\n",
       "    <tr>\n",
       "      <th>4</th>\n",
       "      <td>Dodge</td>\n",
       "      <td>82.212100</td>\n",
       "    </tr>\n",
       "    <tr>\n",
       "      <th>5</th>\n",
       "      <td>Pontiac</td>\n",
       "      <td>61.755667</td>\n",
       "    </tr>\n",
       "    <tr>\n",
       "      <th>6</th>\n",
       "      <td>Chevrolet</td>\n",
       "      <td>61.596111</td>\n",
       "    </tr>\n",
       "    <tr>\n",
       "      <th>7</th>\n",
       "      <td>Buick</td>\n",
       "      <td>60.504750</td>\n",
       "    </tr>\n",
       "    <tr>\n",
       "      <th>8</th>\n",
       "      <td>Nissan</td>\n",
       "      <td>57.090714</td>\n",
       "    </tr>\n",
       "    <tr>\n",
       "      <th>9</th>\n",
       "      <td>Hyundai</td>\n",
       "      <td>45.775333</td>\n",
       "    </tr>\n",
       "  </tbody>\n",
       "</table>\n",
       "</div>\n",
       "      <button class=\"colab-df-convert\" onclick=\"convertToInteractive('df-11a6773f-5ef1-4f90-82f1-6304799f0e89')\"\n",
       "              title=\"Convert this dataframe to an interactive table.\"\n",
       "              style=\"display:none;\">\n",
       "        \n",
       "  <svg xmlns=\"http://www.w3.org/2000/svg\" height=\"24px\"viewBox=\"0 0 24 24\"\n",
       "       width=\"24px\">\n",
       "    <path d=\"M0 0h24v24H0V0z\" fill=\"none\"/>\n",
       "    <path d=\"M18.56 5.44l.94 2.06.94-2.06 2.06-.94-2.06-.94-.94-2.06-.94 2.06-2.06.94zm-11 1L8.5 8.5l.94-2.06 2.06-.94-2.06-.94L8.5 2.5l-.94 2.06-2.06.94zm10 10l.94 2.06.94-2.06 2.06-.94-2.06-.94-.94-2.06-.94 2.06-2.06.94z\"/><path d=\"M17.41 7.96l-1.37-1.37c-.4-.4-.92-.59-1.43-.59-.52 0-1.04.2-1.43.59L10.3 9.45l-7.72 7.72c-.78.78-.78 2.05 0 2.83L4 21.41c.39.39.9.59 1.41.59.51 0 1.02-.2 1.41-.59l7.78-7.78 2.81-2.81c.8-.78.8-2.07 0-2.86zM5.41 20L4 18.59l7.72-7.72 1.47 1.35L5.41 20z\"/>\n",
       "  </svg>\n",
       "      </button>\n",
       "      \n",
       "  <style>\n",
       "    .colab-df-container {\n",
       "      display:flex;\n",
       "      flex-wrap:wrap;\n",
       "      gap: 12px;\n",
       "    }\n",
       "\n",
       "    .colab-df-convert {\n",
       "      background-color: #E8F0FE;\n",
       "      border: none;\n",
       "      border-radius: 50%;\n",
       "      cursor: pointer;\n",
       "      display: none;\n",
       "      fill: #1967D2;\n",
       "      height: 32px;\n",
       "      padding: 0 0 0 0;\n",
       "      width: 32px;\n",
       "    }\n",
       "\n",
       "    .colab-df-convert:hover {\n",
       "      background-color: #E2EBFA;\n",
       "      box-shadow: 0px 1px 2px rgba(60, 64, 67, 0.3), 0px 1px 3px 1px rgba(60, 64, 67, 0.15);\n",
       "      fill: #174EA6;\n",
       "    }\n",
       "\n",
       "    [theme=dark] .colab-df-convert {\n",
       "      background-color: #3B4455;\n",
       "      fill: #D2E3FC;\n",
       "    }\n",
       "\n",
       "    [theme=dark] .colab-df-convert:hover {\n",
       "      background-color: #434B5C;\n",
       "      box-shadow: 0px 1px 3px 1px rgba(0, 0, 0, 0.15);\n",
       "      filter: drop-shadow(0px 1px 2px rgba(0, 0, 0, 0.3));\n",
       "      fill: #FFFFFF;\n",
       "    }\n",
       "  </style>\n",
       "\n",
       "      <script>\n",
       "        const buttonEl =\n",
       "          document.querySelector('#df-11a6773f-5ef1-4f90-82f1-6304799f0e89 button.colab-df-convert');\n",
       "        buttonEl.style.display =\n",
       "          google.colab.kernel.accessAllowed ? 'block' : 'none';\n",
       "\n",
       "        async function convertToInteractive(key) {\n",
       "          const element = document.querySelector('#df-11a6773f-5ef1-4f90-82f1-6304799f0e89');\n",
       "          const dataTable =\n",
       "            await google.colab.kernel.invokeFunction('convertToInteractive',\n",
       "                                                     [key], {});\n",
       "          if (!dataTable) return;\n",
       "\n",
       "          const docLinkHtml = 'Like what you see? Visit the ' +\n",
       "            '<a target=\"_blank\" href=https://colab.research.google.com/notebooks/data_table.ipynb>data table notebook</a>'\n",
       "            + ' to learn more about interactive tables.';\n",
       "          element.innerHTML = '';\n",
       "          dataTable['output_type'] = 'display_data';\n",
       "          await google.colab.output.renderOutput(dataTable, element);\n",
       "          const docLink = document.createElement('div');\n",
       "          docLink.innerHTML = docLinkHtml;\n",
       "          element.appendChild(docLink);\n",
       "        }\n",
       "      </script>\n",
       "    </div>\n",
       "  </div>\n",
       "  "
      ],
      "text/plain": [
       "  Manufacturer  avg(Sales_in_thousands)\n",
       "0         Ford               183.875909\n",
       "1        Honda               118.534800\n",
       "2         Jeep                97.717667\n",
       "3       Toyota                82.245000\n",
       "4        Dodge                82.212100\n",
       "5      Pontiac                61.755667\n",
       "6    Chevrolet                61.596111\n",
       "7        Buick                60.504750\n",
       "8       Nissan                57.090714\n",
       "9      Hyundai                45.775333"
      ]
     },
     "execution_count": 20,
     "metadata": {},
     "output_type": "execute_result"
    }
   ],
   "source": [
    "sales_by_manufacturer_df.toPandas()[0:10]"
   ]
  },
  {
   "cell_type": "code",
   "execution_count": 21,
   "metadata": {
    "id": "pj-b6gjOP8HL"
   },
   "outputs": [],
   "source": [
    "top_10_manufacturer = sales_by_manufacturer_df.toPandas()[0:10]"
   ]
  },
  {
   "cell_type": "code",
   "execution_count": 22,
   "metadata": {
    "colab": {
     "base_uri": "https://localhost:8080/",
     "height": 412
    },
    "id": "DvP-mauHP9p7",
    "outputId": "03d94138-8da0-442d-a7d1-07a4617d498c"
   },
   "outputs": [
    {
     "data": {
      "text/plain": [
       "<matplotlib.axes._subplots.AxesSubplot at 0x7f0297416290>"
      ]
     },
     "execution_count": 22,
     "metadata": {},
     "output_type": "execute_result"
    },
    {
     "data": {
      "image/png": "[encoded data removed]",
      "text/plain": [
       "<Figure size 720x432 with 1 Axes>"
      ]
     },
     "metadata": {},
     "output_type": "display_data"
    }
   ],
   "source": [
    "sn.barplot( data = top_10_manufacturer,\n",
    "          x='Manufacturer',\n",
    "          y='avg(Sales_in_thousands)',\n",
    "          order = top_10_manufacturer.Manufacturer)"
   ]
  },
  {
   "cell_type": "code",
   "execution_count": 23,
   "metadata": {
    "id": "DCakrZnhP9lM"
   },
   "outputs": [],
   "source": [
    "from pyspark.sql.functions import col, log\n",
    "final_car_df = final_car_df.withColumn( 'log_Sales_in_thousands', log('Sales_in_thousands') )"
   ]
  },
  {
   "cell_type": "code",
   "execution_count": 24,
   "metadata": {
    "colab": {
     "base_uri": "https://localhost:8080/",
     "height": 451
    },
    "id": "ZRtCVjb6QIri",
    "outputId": "b01bb510-3111-4c91-8cfb-47f11a654ace"
   },
   "outputs": [
    {
     "name": "stderr",
     "output_type": "stream",
     "text": [
      "/usr/local/lib/python3.7/dist-packages/seaborn/distributions.py:2619: FutureWarning: `distplot` is a deprecated function and will be removed in a future version. Please adapt your code to use either `displot` (a figure-level function with similar flexibility) or `histplot` (an axes-level function for histograms).\n",
      "  warnings.warn(msg, FutureWarning)\n"
     ]
    },
    {
     "data": {
      "text/plain": [
       "<matplotlib.axes._subplots.AxesSubplot at 0x7f02973618d0>"
      ]
     },
     "execution_count": 24,
     "metadata": {},
     "output_type": "execute_result"
    },
    {
     "data": {
      "image/png": "[encoded data removed]",
      "text/plain": [
       "<Figure size 720x432 with 1 Axes>"
      ]
     },
     "metadata": {},
     "output_type": "display_data"
    }
   ],
   "source": [
    "sn.set(rc={\"figure.figsize\": (10, 6)})\n",
    "sn.distplot(final_car_df.select('log_Sales_in_thousands').toPandas(), norm_hist=True)"
   ]
  },
  {
   "cell_type": "code",
   "execution_count": 75,
   "metadata": {
    "id": "_tRbKLAZQImc"
   },
   "outputs": [],
   "source": [
    "#Columns that will be used as features and their types\n",
    "continuous_features = ['Price_in_thousands','Engine_size','Fuel_capacity', 'Fuel_efficiency']\n",
    "\n",
    "categorical_features = ['Manufacturer',  'Vehicle_type']"
   ]
  },
  {
   "cell_type": "code",
   "execution_count": 76,
   "metadata": {
    "id": "n4-zant2QIh1"
   },
   "outputs": [],
   "source": [
    "#Encoding all categorical features\n",
    "from pyspark.ml.feature import OneHotEncoder, StringIndexer, VectorAssembler, PolynomialExpansion, VectorIndexer"
   ]
  },
  {
   "cell_type": "code",
   "execution_count": 79,
   "metadata": {
    "colab": {
     "base_uri": "https://localhost:8080/"
    },
    "id": "xY1hOFcaQIbb",
    "outputId": "25d3d929-ba0b-4a8e-ab94-70d1ba12aab7"
   },
   "outputs": [
    {
     "name": "stdout",
     "output_type": "stream",
     "text": [
      "+------------+-------------------+------------+-------------------+\n",
      "|Manufacturer|Manufacturer_Index1|Vehicle_type|Vehicle_type_Index1|\n",
      "+------------+-------------------+------------+-------------------+\n",
      "|       Acura|               19.0|   Passenger|                0.0|\n",
      "|       Acura|               19.0|   Passenger|                0.0|\n",
      "|       Acura|               19.0|   Passenger|                0.0|\n",
      "|        Audi|               20.0|   Passenger|                0.0|\n",
      "|        Audi|               20.0|   Passenger|                0.0|\n",
      "|        Audi|               20.0|   Passenger|                0.0|\n",
      "|         BMW|               21.0|   Passenger|                0.0|\n",
      "|         BMW|               21.0|   Passenger|                0.0|\n",
      "|         BMW|               21.0|   Passenger|                0.0|\n",
      "|       Buick|               16.0|   Passenger|                0.0|\n",
      "+------------+-------------------+------------+-------------------+\n",
      "only showing top 10 rows\n",
      "\n"
     ]
    }
   ],
   "source": [
    "# create object of StringIndexer class and specify input and output column\n",
    "SI_Manufacturer = StringIndexer(inputCol='Manufacturer',outputCol='Manufacturer_Index1')\n",
    "\n",
    "SI_Vehicle_type = StringIndexer(inputCol='Vehicle_type',outputCol='Vehicle_type_Index1')\n",
    "\n",
    "\n",
    "# transform the data\n",
    "final_car_df = SI_Manufacturer.fit(final_car_df).transform(final_car_df)\n",
    "\n",
    "final_car_df = SI_Vehicle_type.fit(final_car_df).transform(final_car_df)\n",
    "\n",
    "\n",
    "\n",
    "\n",
    "# view the transformed data\n",
    "final_car_df.select('Manufacturer', 'Manufacturer_Index1',  'Vehicle_type', 'Vehicle_type_Index1').show(10)\n"
   ]
  },
  {
   "cell_type": "code",
   "execution_count": 80,
   "metadata": {
    "colab": {
     "base_uri": "https://localhost:8080/"
    },
    "id": "7lDSHZ5kQd3X",
    "outputId": "c9e900b7-a688-4adb-f8c8-6e3098b2d308"
   },
   "outputs": [
    {
     "name": "stdout",
     "output_type": "stream",
     "text": [
      "+------------+-------------------+--------------------+------------+-------------------+--------------------+\n",
      "|Manufacturer|Manufacturer_Index1|Manufacturer_vector1|Vehicle_type|Vehicle_type_Index1|Vehicle_type_vector1|\n",
      "+------------+-------------------+--------------------+------------+-------------------+--------------------+\n",
      "|       Acura|               19.0|     (29,[19],[1.0])|   Passenger|                0.0|       (1,[0],[1.0])|\n",
      "|       Acura|               19.0|     (29,[19],[1.0])|   Passenger|                0.0|       (1,[0],[1.0])|\n",
      "|       Acura|               19.0|     (29,[19],[1.0])|   Passenger|                0.0|       (1,[0],[1.0])|\n",
      "|        Audi|               20.0|     (29,[20],[1.0])|   Passenger|                0.0|       (1,[0],[1.0])|\n",
      "|        Audi|               20.0|     (29,[20],[1.0])|   Passenger|                0.0|       (1,[0],[1.0])|\n",
      "|        Audi|               20.0|     (29,[20],[1.0])|   Passenger|                0.0|       (1,[0],[1.0])|\n",
      "|         BMW|               21.0|     (29,[21],[1.0])|   Passenger|                0.0|       (1,[0],[1.0])|\n",
      "|         BMW|               21.0|     (29,[21],[1.0])|   Passenger|                0.0|       (1,[0],[1.0])|\n",
      "|         BMW|               21.0|     (29,[21],[1.0])|   Passenger|                0.0|       (1,[0],[1.0])|\n",
      "|       Buick|               16.0|     (29,[16],[1.0])|   Passenger|                0.0|       (1,[0],[1.0])|\n",
      "+------------+-------------------+--------------------+------------+-------------------+--------------------+\n",
      "only showing top 10 rows\n",
      "\n"
     ]
    }
   ],
   "source": [
    "# create object and specify input and output column\n",
    "OHE = OneHotEncoder(inputCols=['Manufacturer_Index1', 'Vehicle_type_Index1' ],outputCols=['Manufacturer_vector1','Vehicle_type_vector1'])\n",
    "\n",
    "# transform the data\n",
    "final_car_df = OHE.fit(final_car_df).transform(final_car_df)\n",
    "\n",
    "# view and transform the data\n",
    "final_car_df.select('Manufacturer', 'Manufacturer_Index1', 'Manufacturer_vector1',  'Vehicle_type', 'Vehicle_type_Index1', 'Vehicle_type_vector1').show(10)"
   ]
  },
  {
   "cell_type": "code",
   "execution_count": 81,
   "metadata": {
    "id": "Mx0PWqRSQdzT"
   },
   "outputs": [],
   "source": [
    "#Create vectors from all features column\n",
    "featureCols = continuous_features + ['Manufacturer_vector1',  'Vehicle_type_vector1']                           "
   ]
  },
  {
   "cell_type": "code",
   "execution_count": 82,
   "metadata": {
    "colab": {
     "base_uri": "https://localhost:8080/"
    },
    "id": "T4O4LQkiQdwm",
    "outputId": "ec68d2d2-12da-42e4-ad91-9509aa15f6bb"
   },
   "outputs": [
    {
     "data": {
      "text/plain": [
       "['Price_in_thousands',\n",
       " 'Engine_size',\n",
       " 'Fuel_capacity',\n",
       " 'Fuel_efficiency',\n",
       " 'Manufacturer_vector1',\n",
       " 'Vehicle_type_vector1']"
      ]
     },
     "execution_count": 82,
     "metadata": {},
     "output_type": "execute_result"
    }
   ],
   "source": [
    "featureCols"
   ]
  },
  {
   "cell_type": "code",
   "execution_count": 83,
   "metadata": {
    "colab": {
     "base_uri": "https://localhost:8080/"
    },
    "id": "Itwb2AnJQduJ",
    "outputId": "dd48127b-d7ca-4e61-b728-12caf0d1e46e"
   },
   "outputs": [
    {
     "name": "stdout",
     "output_type": "stream",
     "text": [
      "+------------+-----------+------------------+------------+------------------+-----------+----------+---------+-----+------+-----------+-------------+---------------+-----------------+----------------------+-----------------+----------+-----------------+-------------------+-----------------+-------------------+-----------------+----------+-----------------+------------------+-------------------+-------------------+--------------------+--------------------+\n",
      "|Manufacturer|      Model|Sales_in_thousands|Vehicle_type|Price_in_thousands|Engine_size|Horsepower|Wheelbase|Width|Length|Curb_weight|Fuel_capacity|Fuel_efficiency|Power_perf_factor|log_Sales_in_thousands|Manufacturer_Idx1|Model_Idx1|Vehicle_type_Idx1|Manufacturer_vector|     Model_vector|Vehicle_type_vector|Manufacturer_Idx2|Model_Idx2|Vehicle_type_Idx2|Manufacturer_Index|Manufacturer_Index1|Vehicle_type_Index1|Manufacturer_vector1|Vehicle_type_vector1|\n",
      "+------------+-----------+------------------+------------+------------------+-----------+----------+---------+-----+------+-----------+-------------+---------------+-----------------+----------------------+-----------------+----------+-----------------+-------------------+-----------------+-------------------+-----------------+----------+-----------------+------------------+-------------------+-------------------+--------------------+--------------------+\n",
      "|       Acura|    Integra|            16.919|   Passenger|              21.5|        1.8|       140|    101.2| 67.3| 172.4|      2.639|         13.2|             28|      58.28014952|     2.828437250776659|             19.0|      79.0|              0.0|    (29,[19],[1.0])| (150,[79],[1.0])|      (1,[0],[1.0])|             19.0|      79.0|              0.0|              19.0|               19.0|                0.0|     (29,[19],[1.0])|       (1,[0],[1.0])|\n",
      "|       Acura|         TL|            39.384|   Passenger|              28.4|        3.2|       225|    108.1| 70.3| 192.9|      3.517|         17.2|             25|      91.37077766|    3.6733596424558996|             19.0|     139.0|              0.0|    (29,[19],[1.0])|(150,[139],[1.0])|      (1,[0],[1.0])|             19.0|     139.0|              0.0|              19.0|               19.0|                0.0|     (29,[19],[1.0])|       (1,[0],[1.0])|\n",
      "|       Acura|         RL|             8.588|   Passenger|              42.0|        3.5|       210|    114.6| 71.4| 196.6|       3.85|         18.0|             22|      91.38977933|    2.1503658800165346|             19.0|     112.0|              0.0|    (29,[19],[1.0])|(150,[112],[1.0])|      (1,[0],[1.0])|             19.0|     112.0|              0.0|              19.0|               19.0|                0.0|     (29,[19],[1.0])|       (1,[0],[1.0])|\n",
      "|        Audi|         A4|            20.397|   Passenger|             23.99|        1.8|       150|    102.6| 68.2| 178.0|      2.998|         16.4|             27|       62.7776392|    3.0153878312124323|             20.0|       9.0|              0.0|    (29,[20],[1.0])|  (150,[9],[1.0])|      (1,[0],[1.0])|             20.0|       9.0|              0.0|              20.0|               20.0|                0.0|     (29,[20],[1.0])|       (1,[0],[1.0])|\n",
      "|        Audi|         A6|             18.78|   Passenger|             33.95|        2.8|       200|    108.7| 76.1| 192.0|      3.561|         18.5|             22|      84.56510502|     2.932792473780117|             20.0|      10.0|              0.0|    (29,[20],[1.0])| (150,[10],[1.0])|      (1,[0],[1.0])|             20.0|      10.0|              0.0|              20.0|               20.0|                0.0|     (29,[20],[1.0])|       (1,[0],[1.0])|\n",
      "|        Audi|         A8|              1.38|   Passenger|              62.0|        4.2|       310|    113.0| 74.0| 198.2|      3.902|         23.7|             21|      134.6568582|    0.3220834991691133|             20.0|      11.0|              0.0|    (29,[20],[1.0])| (150,[11],[1.0])|      (1,[0],[1.0])|             20.0|      11.0|              0.0|              20.0|               20.0|                0.0|     (29,[20],[1.0])|       (1,[0],[1.0])|\n",
      "|         BMW|       323i|            19.747|   Passenger|             26.99|        2.5|       170|    107.3| 68.4| 176.0|      3.179|         16.6|             26|      71.19120671|    2.9830015810751727|             21.0|       4.0|              0.0|    (29,[21],[1.0])|  (150,[4],[1.0])|      (1,[0],[1.0])|             21.0|       4.0|              0.0|              21.0|               21.0|                0.0|     (29,[21],[1.0])|       (1,[0],[1.0])|\n",
      "|         BMW|       328i|             9.231|   Passenger|              33.4|        2.8|       193|    107.3| 68.5| 176.0|      3.197|         16.6|             24|      81.87706856|    2.2225673850080145|             21.0|       5.0|              0.0|    (29,[21],[1.0])|  (150,[5],[1.0])|      (1,[0],[1.0])|             21.0|       5.0|              0.0|              21.0|               21.0|                0.0|     (29,[21],[1.0])|       (1,[0],[1.0])|\n",
      "|         BMW|       528i|            17.527|   Passenger|              38.9|        2.8|       193|    111.4| 70.9| 188.0|      3.472|         18.5|             25|       83.9987238|     2.863742549091039|             21.0|       8.0|              0.0|    (29,[21],[1.0])|  (150,[8],[1.0])|      (1,[0],[1.0])|             21.0|       8.0|              0.0|              21.0|               21.0|                0.0|     (29,[21],[1.0])|       (1,[0],[1.0])|\n",
      "|       Buick|    Century|            91.561|   Passenger|            21.975|        3.1|       175|    109.0| 72.7| 194.6|      3.368|         17.5|             25|      71.18145132|     4.517005416824636|             16.0|      38.0|              0.0|    (29,[16],[1.0])| (150,[38],[1.0])|      (1,[0],[1.0])|             16.0|      38.0|              0.0|              16.0|               16.0|                0.0|     (29,[16],[1.0])|       (1,[0],[1.0])|\n",
      "|       Buick|      Regal|             39.35|   Passenger|              25.3|        3.8|       240|    109.0| 72.7| 196.2|      3.543|         17.5|             23|      95.63670253|    3.6724959748634123|             16.0|     118.0|              0.0|    (29,[16],[1.0])|(150,[118],[1.0])|      (1,[0],[1.0])|             16.0|     118.0|              0.0|              16.0|               16.0|                0.0|     (29,[16],[1.0])|       (1,[0],[1.0])|\n",
      "|       Buick|Park Avenue|            27.851|   Passenger|            31.965|        3.8|       205|    113.8| 74.7| 206.8|      3.778|         18.5|             24|      85.82840825|     3.326868872371394|             16.0|     104.0|              0.0|    (29,[16],[1.0])|(150,[104],[1.0])|      (1,[0],[1.0])|             16.0|     104.0|              0.0|              16.0|               16.0|                0.0|     (29,[16],[1.0])|       (1,[0],[1.0])|\n",
      "|       Buick|    LeSabre|            83.257|   Passenger|            27.885|        3.8|       205|    112.2| 73.5| 200.0|      3.591|         17.5|             25|      84.25452581|     4.421932209409769|             16.0|      87.0|              0.0|    (29,[16],[1.0])| (150,[87],[1.0])|      (1,[0],[1.0])|             16.0|      87.0|              0.0|              16.0|               16.0|                0.0|     (29,[16],[1.0])|       (1,[0],[1.0])|\n",
      "|    Cadillac|    DeVille|            63.729|   Passenger|            39.895|        4.6|       275|    115.3| 74.5| 207.2|      3.978|         18.5|             22|      113.8545976|     4.154639718005856|             17.0|      51.0|              0.0|    (29,[17],[1.0])| (150,[51],[1.0])|      (1,[0],[1.0])|             17.0|      51.0|              0.0|              17.0|               17.0|                0.0|     (29,[17],[1.0])|       (1,[0],[1.0])|\n",
      "|    Cadillac|   Eldorado|             6.536|   Passenger|            39.665|        4.6|       275|    108.0| 75.5| 200.6|      3.843|         19.0|             22|      113.7658739|    1.8773253575577016|             17.0|      58.0|              0.0|    (29,[17],[1.0])| (150,[58],[1.0])|      (1,[0],[1.0])|             17.0|      58.0|              0.0|              17.0|               17.0|                0.0|     (29,[17],[1.0])|       (1,[0],[1.0])|\n",
      "|    Cadillac|     Catera|            11.185|   Passenger|             31.01|        3.0|       200|    107.4| 70.3| 194.8|       3.77|         18.0|             22|      83.48309358|     2.414573594942093|             17.0|      35.0|              0.0|    (29,[17],[1.0])| (150,[35],[1.0])|      (1,[0],[1.0])|             17.0|      35.0|              0.0|              17.0|               17.0|                0.0|     (29,[17],[1.0])|       (1,[0],[1.0])|\n",
      "|    Cadillac|   Escalade|            14.785|         Car|            46.225|        5.7|       255|    117.5| 77.0| 201.2|      5.572|         30.0|             15|      109.5091165|    2.6936131533044407|             17.0|      59.0|              1.0|    (29,[17],[1.0])| (150,[59],[1.0])|          (1,[],[])|             17.0|      59.0|              1.0|              17.0|               17.0|                1.0|     (29,[17],[1.0])|           (1,[],[])|\n",
      "|   Chevrolet|   Cavalier|           145.519|   Passenger|             13.26|        2.2|       115|    104.1| 67.9| 180.9|      2.676|         14.3|             27|      46.36334747|     4.980306662278614|              2.0|      36.0|              0.0|     (29,[2],[1.0])| (150,[36],[1.0])|      (1,[0],[1.0])|              2.0|      36.0|              0.0|               2.0|                2.0|                0.0|      (29,[2],[1.0])|       (1,[0],[1.0])|\n",
      "|   Chevrolet|     Malibu|           135.126|   Passenger|            16.535|        3.1|       170|    107.0| 69.4| 190.4|      3.051|         15.0|             25|      67.31446216|      4.90620767648703|              2.0|      90.0|              0.0|     (29,[2],[1.0])| (150,[90],[1.0])|      (1,[0],[1.0])|              2.0|      90.0|              0.0|               2.0|                2.0|                0.0|      (29,[2],[1.0])|       (1,[0],[1.0])|\n",
      "|   Chevrolet|     Lumina|            24.629|   Passenger|             18.89|        3.1|       175|    107.5| 72.5| 200.9|       3.33|         16.6|             25|       69.9913956|    3.2039246104149885|              2.0|      88.0|              0.0|     (29,[2],[1.0])| (150,[88],[1.0])|      (1,[0],[1.0])|              2.0|      88.0|              0.0|               2.0|                2.0|                0.0|      (29,[2],[1.0])|       (1,[0],[1.0])|\n",
      "+------------+-----------+------------------+------------+------------------+-----------+----------+---------+-----+------+-----------+-------------+---------------+-----------------+----------------------+-----------------+----------+-----------------+-------------------+-----------------+-------------------+-----------------+----------+-----------------+------------------+-------------------+-------------------+--------------------+--------------------+\n",
      "only showing top 20 rows\n",
      "\n"
     ]
    }
   ],
   "source": [
    "final_car_df.show()"
   ]
  },
  {
   "cell_type": "code",
   "execution_count": 84,
   "metadata": {
    "id": "dSKXqrMAQdrs"
   },
   "outputs": [],
   "source": [
    "assembler = VectorAssembler( inputCols = featureCols, outputCol = \"features\")"
   ]
  },
  {
   "cell_type": "code",
   "execution_count": 85,
   "metadata": {
    "id": "tdGuatDwP9hH"
   },
   "outputs": [],
   "source": [
    "final_car_train_df = assembler.transform( final_car_df )"
   ]
  },
  {
   "cell_type": "code",
   "execution_count": 86,
   "metadata": {
    "id": "3X-zVq1iQyfV"
   },
   "outputs": [],
   "source": [
    "from pyspark.sql.functions import round\n",
    "\n",
    "final_car_train_df = final_car_train_df.withColumn( \"label\", round('log_Sales_in_thousands', 4) )"
   ]
  },
  {
   "cell_type": "code",
   "execution_count": 87,
   "metadata": {
    "id": "gOvkax7CQyQh"
   },
   "outputs": [],
   "source": [
    "#Split the dataset\n",
    "train_df, test_df = final_car_train_df.randomSplit( [0.7, 0.3], seed = 42 )"
   ]
  },
  {
   "cell_type": "code",
   "execution_count": 88,
   "metadata": {
    "id": "okArM1YcQyM4"
   },
   "outputs": [],
   "source": [
    "#Build the Linear Regression Model\n",
    "from pyspark.ml.regression import LinearRegression"
   ]
  },
  {
   "cell_type": "code",
   "execution_count": 89,
   "metadata": {
    "colab": {
     "base_uri": "https://localhost:8080/"
    },
    "id": "x44f5-koQyJy",
    "outputId": "36513d2b-97b7-4365-e2f6-f3cd47239dea"
   },
   "outputs": [
    {
     "name": "stdout",
     "output_type": "stream",
     "text": [
      "+------------+-----------+------------------+------------+------------------+-----------+----------+---------+-----+------+-----------+-------------+---------------+-----------------+----------------------+-----------------+----------+-----------------+-------------------+-----------------+-------------------+-----------------+----------+-----------------+------------------+-------------------+-------------------+--------------------+--------------------+--------------------+------+\n",
      "|Manufacturer|      Model|Sales_in_thousands|Vehicle_type|Price_in_thousands|Engine_size|Horsepower|Wheelbase|Width|Length|Curb_weight|Fuel_capacity|Fuel_efficiency|Power_perf_factor|log_Sales_in_thousands|Manufacturer_Idx1|Model_Idx1|Vehicle_type_Idx1|Manufacturer_vector|     Model_vector|Vehicle_type_vector|Manufacturer_Idx2|Model_Idx2|Vehicle_type_Idx2|Manufacturer_Index|Manufacturer_Index1|Vehicle_type_Index1|Manufacturer_vector1|Vehicle_type_vector1|            features| label|\n",
      "+------------+-----------+------------------+------------+------------------+-----------+----------+---------+-----+------+-----------+-------------+---------------+-----------------+----------------------+-----------------+----------+-----------------+-------------------+-----------------+-------------------+-----------------+----------+-----------------+------------------+-------------------+-------------------+--------------------+--------------------+--------------------+------+\n",
      "|       Acura|    Integra|            16.919|   Passenger|              21.5|        1.8|       140|    101.2| 67.3| 172.4|      2.639|         13.2|             28|      58.28014952|     2.828437250776659|             19.0|      79.0|              0.0|    (29,[19],[1.0])| (150,[79],[1.0])|      (1,[0],[1.0])|             19.0|      79.0|              0.0|              19.0|               19.0|                0.0|     (29,[19],[1.0])|       (1,[0],[1.0])|(34,[0,1,2,3,23,3...|2.8284|\n",
      "|       Acura|         TL|            39.384|   Passenger|              28.4|        3.2|       225|    108.1| 70.3| 192.9|      3.517|         17.2|             25|      91.37077766|    3.6733596424558996|             19.0|     139.0|              0.0|    (29,[19],[1.0])|(150,[139],[1.0])|      (1,[0],[1.0])|             19.0|     139.0|              0.0|              19.0|               19.0|                0.0|     (29,[19],[1.0])|       (1,[0],[1.0])|(34,[0,1,2,3,23,3...|3.6734|\n",
      "|       Acura|         RL|             8.588|   Passenger|              42.0|        3.5|       210|    114.6| 71.4| 196.6|       3.85|         18.0|             22|      91.38977933|    2.1503658800165346|             19.0|     112.0|              0.0|    (29,[19],[1.0])|(150,[112],[1.0])|      (1,[0],[1.0])|             19.0|     112.0|              0.0|              19.0|               19.0|                0.0|     (29,[19],[1.0])|       (1,[0],[1.0])|(34,[0,1,2,3,23,3...|2.1504|\n",
      "|        Audi|         A4|            20.397|   Passenger|             23.99|        1.8|       150|    102.6| 68.2| 178.0|      2.998|         16.4|             27|       62.7776392|    3.0153878312124323|             20.0|       9.0|              0.0|    (29,[20],[1.0])|  (150,[9],[1.0])|      (1,[0],[1.0])|             20.0|       9.0|              0.0|              20.0|               20.0|                0.0|     (29,[20],[1.0])|       (1,[0],[1.0])|(34,[0,1,2,3,24,3...|3.0154|\n",
      "|        Audi|         A6|             18.78|   Passenger|             33.95|        2.8|       200|    108.7| 76.1| 192.0|      3.561|         18.5|             22|      84.56510502|     2.932792473780117|             20.0|      10.0|              0.0|    (29,[20],[1.0])| (150,[10],[1.0])|      (1,[0],[1.0])|             20.0|      10.0|              0.0|              20.0|               20.0|                0.0|     (29,[20],[1.0])|       (1,[0],[1.0])|(34,[0,1,2,3,24,3...|2.9328|\n",
      "|        Audi|         A8|              1.38|   Passenger|              62.0|        4.2|       310|    113.0| 74.0| 198.2|      3.902|         23.7|             21|      134.6568582|    0.3220834991691133|             20.0|      11.0|              0.0|    (29,[20],[1.0])| (150,[11],[1.0])|      (1,[0],[1.0])|             20.0|      11.0|              0.0|              20.0|               20.0|                0.0|     (29,[20],[1.0])|       (1,[0],[1.0])|(34,[0,1,2,3,24,3...|0.3221|\n",
      "|         BMW|       323i|            19.747|   Passenger|             26.99|        2.5|       170|    107.3| 68.4| 176.0|      3.179|         16.6|             26|      71.19120671|    2.9830015810751727|             21.0|       4.0|              0.0|    (29,[21],[1.0])|  (150,[4],[1.0])|      (1,[0],[1.0])|             21.0|       4.0|              0.0|              21.0|               21.0|                0.0|     (29,[21],[1.0])|       (1,[0],[1.0])|(34,[0,1,2,3,25,3...| 2.983|\n",
      "|         BMW|       328i|             9.231|   Passenger|              33.4|        2.8|       193|    107.3| 68.5| 176.0|      3.197|         16.6|             24|      81.87706856|    2.2225673850080145|             21.0|       5.0|              0.0|    (29,[21],[1.0])|  (150,[5],[1.0])|      (1,[0],[1.0])|             21.0|       5.0|              0.0|              21.0|               21.0|                0.0|     (29,[21],[1.0])|       (1,[0],[1.0])|(34,[0,1,2,3,25,3...|2.2226|\n",
      "|         BMW|       528i|            17.527|   Passenger|              38.9|        2.8|       193|    111.4| 70.9| 188.0|      3.472|         18.5|             25|       83.9987238|     2.863742549091039|             21.0|       8.0|              0.0|    (29,[21],[1.0])|  (150,[8],[1.0])|      (1,[0],[1.0])|             21.0|       8.0|              0.0|              21.0|               21.0|                0.0|     (29,[21],[1.0])|       (1,[0],[1.0])|(34,[0,1,2,3,25,3...|2.8637|\n",
      "|       Buick|    Century|            91.561|   Passenger|            21.975|        3.1|       175|    109.0| 72.7| 194.6|      3.368|         17.5|             25|      71.18145132|     4.517005416824636|             16.0|      38.0|              0.0|    (29,[16],[1.0])| (150,[38],[1.0])|      (1,[0],[1.0])|             16.0|      38.0|              0.0|              16.0|               16.0|                0.0|     (29,[16],[1.0])|       (1,[0],[1.0])|(34,[0,1,2,3,20,3...| 4.517|\n",
      "|       Buick|      Regal|             39.35|   Passenger|              25.3|        3.8|       240|    109.0| 72.7| 196.2|      3.543|         17.5|             23|      95.63670253|    3.6724959748634123|             16.0|     118.0|              0.0|    (29,[16],[1.0])|(150,[118],[1.0])|      (1,[0],[1.0])|             16.0|     118.0|              0.0|              16.0|               16.0|                0.0|     (29,[16],[1.0])|       (1,[0],[1.0])|(34,[0,1,2,3,20,3...|3.6725|\n",
      "|       Buick|Park Avenue|            27.851|   Passenger|            31.965|        3.8|       205|    113.8| 74.7| 206.8|      3.778|         18.5|             24|      85.82840825|     3.326868872371394|             16.0|     104.0|              0.0|    (29,[16],[1.0])|(150,[104],[1.0])|      (1,[0],[1.0])|             16.0|     104.0|              0.0|              16.0|               16.0|                0.0|     (29,[16],[1.0])|       (1,[0],[1.0])|(34,[0,1,2,3,20,3...|3.3269|\n",
      "|       Buick|    LeSabre|            83.257|   Passenger|            27.885|        3.8|       205|    112.2| 73.5| 200.0|      3.591|         17.5|             25|      84.25452581|     4.421932209409769|             16.0|      87.0|              0.0|    (29,[16],[1.0])| (150,[87],[1.0])|      (1,[0],[1.0])|             16.0|      87.0|              0.0|              16.0|               16.0|                0.0|     (29,[16],[1.0])|       (1,[0],[1.0])|(34,[0,1,2,3,20,3...|4.4219|\n",
      "|    Cadillac|    DeVille|            63.729|   Passenger|            39.895|        4.6|       275|    115.3| 74.5| 207.2|      3.978|         18.5|             22|      113.8545976|     4.154639718005856|             17.0|      51.0|              0.0|    (29,[17],[1.0])| (150,[51],[1.0])|      (1,[0],[1.0])|             17.0|      51.0|              0.0|              17.0|               17.0|                0.0|     (29,[17],[1.0])|       (1,[0],[1.0])|(34,[0,1,2,3,21,3...|4.1546|\n",
      "|    Cadillac|   Eldorado|             6.536|   Passenger|            39.665|        4.6|       275|    108.0| 75.5| 200.6|      3.843|         19.0|             22|      113.7658739|    1.8773253575577016|             17.0|      58.0|              0.0|    (29,[17],[1.0])| (150,[58],[1.0])|      (1,[0],[1.0])|             17.0|      58.0|              0.0|              17.0|               17.0|                0.0|     (29,[17],[1.0])|       (1,[0],[1.0])|(34,[0,1,2,3,21,3...|1.8773|\n",
      "|    Cadillac|     Catera|            11.185|   Passenger|             31.01|        3.0|       200|    107.4| 70.3| 194.8|       3.77|         18.0|             22|      83.48309358|     2.414573594942093|             17.0|      35.0|              0.0|    (29,[17],[1.0])| (150,[35],[1.0])|      (1,[0],[1.0])|             17.0|      35.0|              0.0|              17.0|               17.0|                0.0|     (29,[17],[1.0])|       (1,[0],[1.0])|(34,[0,1,2,3,21,3...|2.4146|\n",
      "|    Cadillac|   Escalade|            14.785|         Car|            46.225|        5.7|       255|    117.5| 77.0| 201.2|      5.572|         30.0|             15|      109.5091165|    2.6936131533044407|             17.0|      59.0|              1.0|    (29,[17],[1.0])| (150,[59],[1.0])|          (1,[],[])|             17.0|      59.0|              1.0|              17.0|               17.0|                1.0|     (29,[17],[1.0])|           (1,[],[])|(34,[0,1,2,3,21],...|2.6936|\n",
      "|   Chevrolet|   Cavalier|           145.519|   Passenger|             13.26|        2.2|       115|    104.1| 67.9| 180.9|      2.676|         14.3|             27|      46.36334747|     4.980306662278614|              2.0|      36.0|              0.0|     (29,[2],[1.0])| (150,[36],[1.0])|      (1,[0],[1.0])|              2.0|      36.0|              0.0|               2.0|                2.0|                0.0|      (29,[2],[1.0])|       (1,[0],[1.0])|(34,[0,1,2,3,6,33...|4.9803|\n",
      "|   Chevrolet|     Malibu|           135.126|   Passenger|            16.535|        3.1|       170|    107.0| 69.4| 190.4|      3.051|         15.0|             25|      67.31446216|      4.90620767648703|              2.0|      90.0|              0.0|     (29,[2],[1.0])| (150,[90],[1.0])|      (1,[0],[1.0])|              2.0|      90.0|              0.0|               2.0|                2.0|                0.0|      (29,[2],[1.0])|       (1,[0],[1.0])|(34,[0,1,2,3,6,33...|4.9062|\n",
      "|   Chevrolet|     Lumina|            24.629|   Passenger|             18.89|        3.1|       175|    107.5| 72.5| 200.9|       3.33|         16.6|             25|       69.9913956|    3.2039246104149885|              2.0|      88.0|              0.0|     (29,[2],[1.0])| (150,[88],[1.0])|      (1,[0],[1.0])|              2.0|      88.0|              0.0|               2.0|                2.0|                0.0|      (29,[2],[1.0])|       (1,[0],[1.0])|(34,[0,1,2,3,6,33...|3.2039|\n",
      "+------------+-----------+------------------+------------+------------------+-----------+----------+---------+-----+------+-----------+-------------+---------------+-----------------+----------------------+-----------------+----------+-----------------+-------------------+-----------------+-------------------+-----------------+----------+-----------------+------------------+-------------------+-------------------+--------------------+--------------------+--------------------+------+\n",
      "only showing top 20 rows\n",
      "\n"
     ]
    }
   ],
   "source": [
    "final_car_train_df.show()"
   ]
  },
  {
   "cell_type": "code",
   "execution_count": 90,
   "metadata": {
    "id": "gzpT8T6URAPX"
   },
   "outputs": [],
   "source": [
    "#linreg = LinearRegression(maxIter=500, regParam=0.0)\n",
    "linreg = LinearRegression()"
   ]
  },
  {
   "cell_type": "code",
   "execution_count": 91,
   "metadata": {
    "id": "2R5sO60fRALh"
   },
   "outputs": [],
   "source": [
    "lm = linreg.fit( train_df )"
   ]
  },
  {
   "cell_type": "code",
   "execution_count": 92,
   "metadata": {
    "id": "ABJ34xsaRAIn"
   },
   "outputs": [],
   "source": [
    "#Make predictions on train data and evaluate\n",
    "y_pred_train = lm.transform(train_df)"
   ]
  },
  {
   "cell_type": "code",
   "execution_count": 93,
   "metadata": {
    "id": "UHCbeqnJRAF0"
   },
   "outputs": [],
   "source": [
    "#Make predictions on test data and evaluate\n",
    "y_pred_test = lm.transform( test_df )"
   ]
  },
  {
   "cell_type": "code",
   "execution_count": 94,
   "metadata": {
    "colab": {
     "base_uri": "https://localhost:8080/"
    },
    "id": "atIYh92xRACV",
    "outputId": "2c7c7391-66ef-41a0-c885-3f8e3338318c"
   },
   "outputs": [
    {
     "name": "stdout",
     "output_type": "stream",
     "text": [
      "+--------------------+------+------------------+------------------+\n",
      "|            features| label|        prediction|Sales_in_thousands|\n",
      "+--------------------+------+------------------+------------------+\n",
      "|(34,[0,1,2,3,23,3...|3.6734| 2.901906792030189|            39.384|\n",
      "|(34,[0,1,2,3,25,3...| 2.983|2.7431308633616895|            19.747|\n",
      "|(34,[0,1,2,3,25,3...|2.8637|1.9805558280335196|            17.527|\n",
      "|(34,[0,1,2,3,20,3...| 4.517|   4.1528351723834|            91.561|\n",
      "|(34,[0,1,2,3,21,3...|2.4146| 2.773725270390788|            11.185|\n",
      "+--------------------+------+------------------+------------------+\n",
      "only showing top 5 rows\n",
      "\n"
     ]
    }
   ],
   "source": [
    "y_pred_test.select( 'features',  'label', 'prediction', 'Sales_in_thousands' ).show( 5 )"
   ]
  },
  {
   "cell_type": "code",
   "execution_count": 95,
   "metadata": {
    "id": "Bfx6KiNvQ__Q"
   },
   "outputs": [],
   "source": [
    "#Calculate the actual predicted price\n",
    "from pyspark.sql.functions import exp\n",
    "y_pred_train = y_pred_train.withColumn( \"y_pred\", exp( 'prediction' ) )\n",
    "y_pred_test = y_pred_test.withColumn( \"y_pred\", exp( 'prediction' ) )"
   ]
  },
  {
   "cell_type": "code",
   "execution_count": 97,
   "metadata": {
    "id": "ToeTFmxSQ_8S"
   },
   "outputs": [],
   "source": [
    "#Calculate RMSE\n",
    "from pyspark.ml.evaluation import RegressionEvaluator\n",
    "\n",
    "rmse_evaluator = RegressionEvaluator(labelCol=\"Sales_in_thousands\",\n",
    "                              predictionCol=\"y_pred\",\n",
    "                              metricName=\"rmse\" )"
   ]
  },
  {
   "cell_type": "code",
   "execution_count": 98,
   "metadata": {
    "id": "EOyH5tJ4Q_59"
   },
   "outputs": [],
   "source": [
    "lm_rmse_train = rmse_evaluator.evaluate( y_pred_train )"
   ]
  },
  {
   "cell_type": "code",
   "execution_count": 99,
   "metadata": {
    "colab": {
     "base_uri": "https://localhost:8080/"
    },
    "id": "pXGdpjrkQyHf",
    "outputId": "265005f1-7afa-401f-9fdb-e133228224ff"
   },
   "outputs": [
    {
     "data": {
      "text/plain": [
       "39.136095180784174"
      ]
     },
     "execution_count": 99,
     "metadata": {},
     "output_type": "execute_result"
    }
   ],
   "source": [
    "lm_rmse_train"
   ]
  },
  {
   "cell_type": "code",
   "execution_count": 100,
   "metadata": {
    "id": "D5Hnnb0ARcA_"
   },
   "outputs": [],
   "source": [
    "lm_rmse_test = rmse_evaluator.evaluate( y_pred_test )"
   ]
  },
  {
   "cell_type": "code",
   "execution_count": 101,
   "metadata": {
    "colab": {
     "base_uri": "https://localhost:8080/"
    },
    "id": "xbmEXD1CRb9K",
    "outputId": "486616eb-06c5-4a14-939a-9c7c24a43147"
   },
   "outputs": [
    {
     "data": {
      "text/plain": [
       "90.83713113616658"
      ]
     },
     "execution_count": 101,
     "metadata": {},
     "output_type": "execute_result"
    }
   ],
   "source": [
    "lm_rmse_test"
   ]
  },
  {
   "cell_type": "code",
   "execution_count": 102,
   "metadata": {
    "id": "ZFuIzRJPRb50"
   },
   "outputs": [],
   "source": [
    "#Calculate R-squared\n",
    "r2_evaluator = RegressionEvaluator(labelCol=\"Sales_in_thousands\",\n",
    "                              predictionCol=\"y_pred\",\n",
    "                              metricName=\"r2\" )"
   ]
  },
  {
   "cell_type": "code",
   "execution_count": 103,
   "metadata": {
    "colab": {
     "base_uri": "https://localhost:8080/"
    },
    "id": "sWXtzTh9Rb2k",
    "outputId": "84436580-ea82-4603-ff74-42958eb3b2d7"
   },
   "outputs": [
    {
     "data": {
      "text/plain": [
       "0.46829023927851066"
      ]
     },
     "execution_count": 103,
     "metadata": {},
     "output_type": "execute_result"
    }
   ],
   "source": [
    "lm_r2_train = r2_evaluator.evaluate( y_pred_train )\n",
    "lm_r2_train"
   ]
  },
  {
   "cell_type": "code",
   "execution_count": 104,
   "metadata": {
    "colab": {
     "base_uri": "https://localhost:8080/"
    },
    "id": "UIYPCemYRbzl",
    "outputId": "c50c71ba-ead4-4dae-e263-b58fe172b0df"
   },
   "outputs": [
    {
     "data": {
      "text/plain": [
       "0.04493750674445718"
      ]
     },
     "execution_count": 104,
     "metadata": {},
     "output_type": "execute_result"
    }
   ],
   "source": [
    "lm_r2_test = r2_evaluator.evaluate( y_pred_test )\n",
    "lm_r2_test"
   ]
  },
  {
   "cell_type": "code",
   "execution_count": 105,
   "metadata": {
    "colab": {
     "base_uri": "https://localhost:8080/"
    },
    "id": "ve66mKIhRbwi",
    "outputId": "17cd40e3-6330-4468-a9ad-44b82bd29d07"
   },
   "outputs": [
    {
     "data": {
      "text/plain": [
       "['Price_in_thousands', 'Engine_size', 'Fuel_capacity', 'Fuel_efficiency']"
      ]
     },
     "execution_count": 105,
     "metadata": {},
     "output_type": "execute_result"
    }
   ],
   "source": [
    "# CREATE PIPELINE\n",
    "\n",
    "continuous_features"
   ]
  },
  {
   "cell_type": "code",
   "execution_count": 106,
   "metadata": {
    "colab": {
     "base_uri": "https://localhost:8080/"
    },
    "id": "G5b8X5PARbtw",
    "outputId": "6fae5b5f-f82c-41ae-a08d-67edf7f25e31"
   },
   "outputs": [
    {
     "data": {
      "text/plain": [
       "['Manufacturer', 'Vehicle_type']"
      ]
     },
     "execution_count": 106,
     "metadata": {},
     "output_type": "execute_result"
    }
   ],
   "source": [
    "categorical_features"
   ]
  },
  {
   "cell_type": "code",
   "execution_count": 126,
   "metadata": {
    "id": "754Hp0QyRbrU"
   },
   "outputs": [],
   "source": [
    "from pyspark.ml.feature import StringIndexer, OneHotEncoder, VectorAssembler\n",
    "from pyspark.ml import Pipeline\n",
    "from pyspark.ml.regression import LinearRegression\n",
    "\n",
    "## Create indexers for the categorical features\n",
    "indexers = [StringIndexer(inputCol=c, outputCol=\"{}_idx\".format(c)) for c in categorical_features]\n",
    "\n",
    "## encode the categorical features\n",
    "encoders = [ OneHotEncoder(\n",
    "      inputCol=idx.getOutputCol(),\n",
    "      outputCol=\"{0}_enc\".format(idx.getOutputCol())) for idx in indexers]\n",
    "\n",
    "## Create vectors for all features categorical and continuous\n",
    "\n",
    "assembler = VectorAssembler(\n",
    "  inputCols=[enc.getOutputCol() for enc in encoders] + continuous_features,\n",
    "  outputCol=\"features\")\n",
    "\n",
    "## Initialize the linear model\n",
    "lrModel = LinearRegression( maxIter = 10 )\n",
    "\n",
    "\n",
    "## Create the pipeline with sequence of activities\n",
    "pipeline = Pipeline( stages=indexers + encoders + [assembler, lrModel ])\n",
    "\n",
    "#pipeline = Pipeline( stages= [indexers, encoders, assembler, lrModel ])"
   ]
  },
  {
   "cell_type": "code",
   "execution_count": 127,
   "metadata": {
    "id": "cmZF4sf0aK05"
   },
   "outputs": [],
   "source": [
    "car_pipeline_df = final_car_df.withColumn( 'label', round( log( 'Sales_in_thousands' ), 4) )"
   ]
  },
  {
   "cell_type": "code",
   "execution_count": 128,
   "metadata": {
    "id": "I8HpMDfFdoLZ"
   },
   "outputs": [],
   "source": [
    "training, testing = car_pipeline_df.randomSplit( [0.7, 0.3], seed = 42 )"
   ]
  },
  {
   "cell_type": "code",
   "execution_count": 129,
   "metadata": {
    "colab": {
     "base_uri": "https://localhost:8080/"
    },
    "id": "8bnXLBCwdoHT",
    "outputId": "29a7f1f5-c17d-4c4b-a560-fd2590028984"
   },
   "outputs": [
    {
     "name": "stdout",
     "output_type": "stream",
     "text": [
      "+------------+-------+------------------+------------+------------------+-----------+----------+---------+-----+------+-----------+-------------+---------------+-----------------+----------------------+-----------------+----------+-----------------+-------------------+-----------------+-------------------+-----------------+----------+-----------------+------------------+-------------------+-------------------+--------------------+--------------------+-------------------+-------------------+----------------+----------------+------+\n",
      "|Manufacturer|  Model|Sales_in_thousands|Vehicle_type|Price_in_thousands|Engine_size|Horsepower|Wheelbase|Width|Length|Curb_weight|Fuel_capacity|Fuel_efficiency|Power_perf_factor|log_Sales_in_thousands|Manufacturer_Idx1|Model_Idx1|Vehicle_type_Idx1|Manufacturer_vector|     Model_vector|Vehicle_type_vector|Manufacturer_Idx2|Model_Idx2|Vehicle_type_Idx2|Manufacturer_Index|Manufacturer_Index1|Vehicle_type_Index1|Manufacturer_vector1|Vehicle_type_vector1|Manufacturer_Index2|Vehicle_type_Index2|Manufacturer_vec|Vehicle_type_vec| label|\n",
      "+------------+-------+------------------+------------+------------------+-----------+----------+---------+-----+------+-----------+-------------+---------------+-----------------+----------------------+-----------------+----------+-----------------+-------------------+-----------------+-------------------+-----------------+----------+-----------------+------------------+-------------------+-------------------+--------------------+--------------------+-------------------+-------------------+----------------+----------------+------+\n",
      "|       Acura|Integra|            16.919|   Passenger|              21.5|        1.8|       140|    101.2| 67.3| 172.4|      2.639|         13.2|             28|      58.28014952|     2.828437250776659|             19.0|      79.0|              0.0|    (29,[19],[1.0])| (150,[79],[1.0])|      (1,[0],[1.0])|             19.0|      79.0|              0.0|              19.0|               19.0|                0.0|     (29,[19],[1.0])|       (1,[0],[1.0])|               19.0|                0.0| (29,[19],[1.0])|   (1,[0],[1.0])|2.8284|\n",
      "|       Acura|     RL|             8.588|   Passenger|              42.0|        3.5|       210|    114.6| 71.4| 196.6|       3.85|         18.0|             22|      91.38977933|    2.1503658800165346|             19.0|     112.0|              0.0|    (29,[19],[1.0])|(150,[112],[1.0])|      (1,[0],[1.0])|             19.0|     112.0|              0.0|              19.0|               19.0|                0.0|     (29,[19],[1.0])|       (1,[0],[1.0])|               19.0|                0.0| (29,[19],[1.0])|   (1,[0],[1.0])|2.1504|\n",
      "|        Audi|     A4|            20.397|   Passenger|             23.99|        1.8|       150|    102.6| 68.2| 178.0|      2.998|         16.4|             27|       62.7776392|    3.0153878312124323|             20.0|       9.0|              0.0|    (29,[20],[1.0])|  (150,[9],[1.0])|      (1,[0],[1.0])|             20.0|       9.0|              0.0|              20.0|               20.0|                0.0|     (29,[20],[1.0])|       (1,[0],[1.0])|               20.0|                0.0| (29,[20],[1.0])|   (1,[0],[1.0])|3.0154|\n",
      "|        Audi|     A6|             18.78|   Passenger|             33.95|        2.8|       200|    108.7| 76.1| 192.0|      3.561|         18.5|             22|      84.56510502|     2.932792473780117|             20.0|      10.0|              0.0|    (29,[20],[1.0])| (150,[10],[1.0])|      (1,[0],[1.0])|             20.0|      10.0|              0.0|              20.0|               20.0|                0.0|     (29,[20],[1.0])|       (1,[0],[1.0])|               20.0|                0.0| (29,[20],[1.0])|   (1,[0],[1.0])|2.9328|\n",
      "|        Audi|     A8|              1.38|   Passenger|              62.0|        4.2|       310|    113.0| 74.0| 198.2|      3.902|         23.7|             21|      134.6568582|    0.3220834991691133|             20.0|      11.0|              0.0|    (29,[20],[1.0])| (150,[11],[1.0])|      (1,[0],[1.0])|             20.0|      11.0|              0.0|              20.0|               20.0|                0.0|     (29,[20],[1.0])|       (1,[0],[1.0])|               20.0|                0.0| (29,[20],[1.0])|   (1,[0],[1.0])|0.3221|\n",
      "+------------+-------+------------------+------------+------------------+-----------+----------+---------+-----+------+-----------+-------------+---------------+-----------------+----------------------+-----------------+----------+-----------------+-------------------+-----------------+-------------------+-----------------+----------+-----------------+------------------+-------------------+-------------------+--------------------+--------------------+-------------------+-------------------+----------------+----------------+------+\n",
      "only showing top 5 rows\n",
      "\n"
     ]
    }
   ],
   "source": [
    "training.show(5)"
   ]
  },
  {
   "cell_type": "code",
   "execution_count": 130,
   "metadata": {
    "id": "DNGSiOcBdoDK"
   },
   "outputs": [],
   "source": [
    "model = pipeline.fit( training )"
   ]
  },
  {
   "cell_type": "code",
   "execution_count": 131,
   "metadata": {
    "id": "26ApHdgLdn_N"
   },
   "outputs": [],
   "source": [
    "y_pred_train = model.transform(training)"
   ]
  },
  {
   "cell_type": "code",
   "execution_count": 132,
   "metadata": {
    "id": "5ObsQ1kLdn6K"
   },
   "outputs": [],
   "source": [
    "model.save(\"linear_regression.model\")"
   ]
  },
  {
   "cell_type": "code",
   "execution_count": 133,
   "metadata": {
    "colab": {
     "base_uri": "https://localhost:8080/"
    },
    "id": "wfRVjpOidn06",
    "outputId": "7bbc9239-277a-4704-fd83-eaf8cb7338b6"
   },
   "outputs": [
    {
     "name": "stdout",
     "output_type": "stream",
     "text": [
      "  adding: content/linear_regression.model/ (stored 0%)\n",
      "  adding: content/linear_regression.model/stages/ (stored 0%)\n",
      "  adding: content/linear_regression.model/stages/1_StringIndexer_abd67a335fca/ (stored 0%)\n",
      "  adding: content/linear_regression.model/stages/1_StringIndexer_abd67a335fca/data/ (stored 0%)\n",
      "  adding: content/linear_regression.model/stages/1_StringIndexer_abd67a335fca/data/.part-00000-cde5f93f-5d4b-43d6-b779-bd159ff4d239-c000.snappy.parquet.crc (stored 0%)\n",
      "  adding: content/linear_regression.model/stages/1_StringIndexer_abd67a335fca/data/part-00000-cde5f93f-5d4b-43d6-b779-bd159ff4d239-c000.snappy.parquet (deflated 36%)\n",
      "  adding: content/linear_regression.model/stages/1_StringIndexer_abd67a335fca/data/_SUCCESS (stored 0%)\n",
      "  adding: content/linear_regression.model/stages/1_StringIndexer_abd67a335fca/data/._SUCCESS.crc (stored 0%)\n",
      "  adding: content/linear_regression.model/stages/1_StringIndexer_abd67a335fca/metadata/ (stored 0%)\n",
      "  adding: content/linear_regression.model/stages/1_StringIndexer_abd67a335fca/metadata/part-00000 (deflated 37%)\n",
      "  adding: content/linear_regression.model/stages/1_StringIndexer_abd67a335fca/metadata/.part-00000.crc (stored 0%)\n",
      "  adding: content/linear_regression.model/stages/1_StringIndexer_abd67a335fca/metadata/_SUCCESS (stored 0%)\n",
      "  adding: content/linear_regression.model/stages/1_StringIndexer_abd67a335fca/metadata/._SUCCESS.crc (stored 0%)\n",
      "  adding: content/linear_regression.model/stages/3_OneHotEncoder_35402f734a7a/ (stored 0%)\n",
      "  adding: content/linear_regression.model/stages/3_OneHotEncoder_35402f734a7a/data/ (stored 0%)\n",
      "  adding: content/linear_regression.model/stages/3_OneHotEncoder_35402f734a7a/data/part-00000-bed0624b-e084-40f2-b16e-125dd7bd538c-c000.snappy.parquet (deflated 29%)\n",
      "  adding: content/linear_regression.model/stages/3_OneHotEncoder_35402f734a7a/data/_SUCCESS (stored 0%)\n",
      "  adding: content/linear_regression.model/stages/3_OneHotEncoder_35402f734a7a/data/._SUCCESS.crc (stored 0%)\n",
      "  adding: content/linear_regression.model/stages/3_OneHotEncoder_35402f734a7a/data/.part-00000-bed0624b-e084-40f2-b16e-125dd7bd538c-c000.snappy.parquet.crc (stored 0%)\n",
      "  adding: content/linear_regression.model/stages/3_OneHotEncoder_35402f734a7a/metadata/ (stored 0%)\n",
      "  adding: content/linear_regression.model/stages/3_OneHotEncoder_35402f734a7a/metadata/part-00000 (deflated 37%)\n",
      "  adding: content/linear_regression.model/stages/3_OneHotEncoder_35402f734a7a/metadata/.part-00000.crc (stored 0%)\n",
      "  adding: content/linear_regression.model/stages/3_OneHotEncoder_35402f734a7a/metadata/_SUCCESS (stored 0%)\n",
      "  adding: content/linear_regression.model/stages/3_OneHotEncoder_35402f734a7a/metadata/._SUCCESS.crc (stored 0%)\n",
      "  adding: content/linear_regression.model/stages/0_StringIndexer_ca2a44e0beca/ (stored 0%)\n",
      "  adding: content/linear_regression.model/stages/0_StringIndexer_ca2a44e0beca/data/ (stored 0%)\n",
      "  adding: content/linear_regression.model/stages/0_StringIndexer_ca2a44e0beca/data/part-00000-1ac1cdcd-4827-4a99-be14-fd70a7d209de-c000.snappy.parquet (deflated 30%)\n",
      "  adding: content/linear_regression.model/stages/0_StringIndexer_ca2a44e0beca/data/_SUCCESS (stored 0%)\n",
      "  adding: content/linear_regression.model/stages/0_StringIndexer_ca2a44e0beca/data/.part-00000-1ac1cdcd-4827-4a99-be14-fd70a7d209de-c000.snappy.parquet.crc (stored 0%)\n",
      "  adding: content/linear_regression.model/stages/0_StringIndexer_ca2a44e0beca/data/._SUCCESS.crc (stored 0%)\n",
      "  adding: content/linear_regression.model/stages/0_StringIndexer_ca2a44e0beca/metadata/ (stored 0%)\n",
      "  adding: content/linear_regression.model/stages/0_StringIndexer_ca2a44e0beca/metadata/part-00000 (deflated 37%)\n",
      "  adding: content/linear_regression.model/stages/0_StringIndexer_ca2a44e0beca/metadata/.part-00000.crc (stored 0%)\n",
      "  adding: content/linear_regression.model/stages/0_StringIndexer_ca2a44e0beca/metadata/_SUCCESS (stored 0%)\n",
      "  adding: content/linear_regression.model/stages/0_StringIndexer_ca2a44e0beca/metadata/._SUCCESS.crc (stored 0%)\n",
      "  adding: content/linear_regression.model/stages/4_VectorAssembler_46f7fe0b5e9f/ (stored 0%)\n",
      "  adding: content/linear_regression.model/stages/4_VectorAssembler_46f7fe0b5e9f/metadata/ (stored 0%)\n",
      "  adding: content/linear_regression.model/stages/4_VectorAssembler_46f7fe0b5e9f/metadata/part-00000 (deflated 37%)\n",
      "  adding: content/linear_regression.model/stages/4_VectorAssembler_46f7fe0b5e9f/metadata/.part-00000.crc (stored 0%)\n",
      "  adding: content/linear_regression.model/stages/4_VectorAssembler_46f7fe0b5e9f/metadata/_SUCCESS (stored 0%)\n",
      "  adding: content/linear_regression.model/stages/4_VectorAssembler_46f7fe0b5e9f/metadata/._SUCCESS.crc (stored 0%)\n",
      "  adding: content/linear_regression.model/stages/2_OneHotEncoder_e1d0d3a9d348/ (stored 0%)\n",
      "  adding: content/linear_regression.model/stages/2_OneHotEncoder_e1d0d3a9d348/data/ (stored 0%)\n",
      "  adding: content/linear_regression.model/stages/2_OneHotEncoder_e1d0d3a9d348/data/.part-00000-5604c5cc-3164-4a09-8e97-b26ccefdad73-c000.snappy.parquet.crc (stored 0%)\n",
      "  adding: content/linear_regression.model/stages/2_OneHotEncoder_e1d0d3a9d348/data/part-00000-5604c5cc-3164-4a09-8e97-b26ccefdad73-c000.snappy.parquet (deflated 28%)\n",
      "  adding: content/linear_regression.model/stages/2_OneHotEncoder_e1d0d3a9d348/data/_SUCCESS (stored 0%)\n",
      "  adding: content/linear_regression.model/stages/2_OneHotEncoder_e1d0d3a9d348/data/._SUCCESS.crc (stored 0%)\n",
      "  adding: content/linear_regression.model/stages/2_OneHotEncoder_e1d0d3a9d348/metadata/ (stored 0%)\n",
      "  adding: content/linear_regression.model/stages/2_OneHotEncoder_e1d0d3a9d348/metadata/part-00000 (deflated 38%)\n",
      "  adding: content/linear_regression.model/stages/2_OneHotEncoder_e1d0d3a9d348/metadata/.part-00000.crc (stored 0%)\n",
      "  adding: content/linear_regression.model/stages/2_OneHotEncoder_e1d0d3a9d348/metadata/_SUCCESS (stored 0%)\n",
      "  adding: content/linear_regression.model/stages/2_OneHotEncoder_e1d0d3a9d348/metadata/._SUCCESS.crc (stored 0%)\n",
      "  adding: content/linear_regression.model/stages/5_LinearRegression_ba49d9f9a746/ (stored 0%)\n",
      "  adding: content/linear_regression.model/stages/5_LinearRegression_ba49d9f9a746/data/ (stored 0%)\n",
      "  adding: content/linear_regression.model/stages/5_LinearRegression_ba49d9f9a746/data/part-00000-cc5cc8b4-8d02-4e29-8248-f7a4a90254e9-c000.snappy.parquet (deflated 47%)\n",
      "  adding: content/linear_regression.model/stages/5_LinearRegression_ba49d9f9a746/data/.part-00000-cc5cc8b4-8d02-4e29-8248-f7a4a90254e9-c000.snappy.parquet.crc (stored 0%)\n",
      "  adding: content/linear_regression.model/stages/5_LinearRegression_ba49d9f9a746/data/_SUCCESS (stored 0%)\n",
      "  adding: content/linear_regression.model/stages/5_LinearRegression_ba49d9f9a746/data/._SUCCESS.crc (stored 0%)\n",
      "  adding: content/linear_regression.model/stages/5_LinearRegression_ba49d9f9a746/metadata/ (stored 0%)\n",
      "  adding: content/linear_regression.model/stages/5_LinearRegression_ba49d9f9a746/metadata/part-00000 (deflated 38%)\n",
      "  adding: content/linear_regression.model/stages/5_LinearRegression_ba49d9f9a746/metadata/.part-00000.crc (stored 0%)\n",
      "  adding: content/linear_regression.model/stages/5_LinearRegression_ba49d9f9a746/metadata/_SUCCESS (stored 0%)\n",
      "  adding: content/linear_regression.model/stages/5_LinearRegression_ba49d9f9a746/metadata/._SUCCESS.crc (stored 0%)\n",
      "  adding: content/linear_regression.model/metadata/ (stored 0%)\n",
      "  adding: content/linear_regression.model/metadata/part-00000 (deflated 30%)\n",
      "  adding: content/linear_regression.model/metadata/.part-00000.crc (stored 0%)\n",
      "  adding: content/linear_regression.model/metadata/_SUCCESS (stored 0%)\n",
      "  adding: content/linear_regression.model/metadata/._SUCCESS.crc (stored 0%)\n"
     ]
    }
   ],
   "source": [
    "!zip -r /content/linear_regression_model.zip /content/linear_regression.model"
   ]
  },
  {
   "cell_type": "code",
   "execution_count": null,
   "metadata": {
    "id": "K4hTzJFudnxi"
   },
   "outputs": [],
   "source": []
  },
  {
   "cell_type": "code",
   "execution_count": null,
   "metadata": {
    "id": "ompiWblvdnut"
   },
   "outputs": [],
   "source": []
  }
 ],
 "metadata": {
  "colab": {
   "collapsed_sections": [],
   "name": "Untitled11.ipynb",
   "provenance": []
  },
  "kernelspec": {
   "display_name": "Python 3",
   "language": "python",
   "name": "python3"
  },
  "language_info": {
   "codemirror_mode": {
    "name": "ipython",
    "version": 3
   },
   "file_extension": ".py",
   "mimetype": "text/x-python",
   "name": "python",
   "nbconvert_exporter": "python",
   "pygments_lexer": "ipython3",
   "version": "3.7.6"
  }
 },
 "nbformat": 4,
 "nbformat_minor": 1
}
