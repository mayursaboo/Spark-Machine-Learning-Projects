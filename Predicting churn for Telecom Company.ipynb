{
  "nbformat": 4,
  "nbformat_minor": 0,
  "metadata": {
    "colab": {
      "name": "Untitled3.ipynb",
      "provenance": [],
      "collapsed_sections": []
    },
    "kernelspec": {
      "name": "python3",
      "display_name": "Python 3"
    },
    "language_info": {
      "name": "python"
    }
  },
  "cells": [
    {
      "cell_type": "code",
      "execution_count": null,
      "metadata": {
        "colab": {
          "base_uri": "https://localhost:8080/"
        },
        "id": "tRnNoaqyrvRr",
        "outputId": "7d08ad5f-5a6f-4b8e-84f0-50d08142f894"
      },
      "outputs": [
        {
          "output_type": "stream",
          "name": "stdout",
          "text": [
            "Collecting pyspark\n",
            "  Downloading pyspark-3.2.1.tar.gz (281.4 MB)\n",
            "\u001b[K     |████████████████████████████████| 281.4 MB 35 kB/s \n",
            "\u001b[?25hCollecting py4j==0.10.9.3\n",
            "  Downloading py4j-0.10.9.3-py2.py3-none-any.whl (198 kB)\n",
            "\u001b[K     |████████████████████████████████| 198 kB 48.0 MB/s \n",
            "\u001b[?25hBuilding wheels for collected packages: pyspark\n",
            "  Building wheel for pyspark (setup.py) ... \u001b[?25l\u001b[?25hdone\n",
            "  Created wheel for pyspark: filename=pyspark-3.2.1-py2.py3-none-any.whl size=281853642 sha256=4ae4c176cdf70af09cacca0ef21f1ea7ccdc08eb19870bbbe33ebadad9318c73\n",
            "  Stored in directory: /root/.cache/pip/wheels/9f/f5/07/7cd8017084dce4e93e84e92efd1e1d5334db05f2e83bcef74f\n",
            "Successfully built pyspark\n",
            "Installing collected packages: py4j, pyspark\n",
            "Successfully installed py4j-0.10.9.3 pyspark-3.2.1\n"
          ]
        }
      ],
      "source": [
        "!pip install pyspark\n",
        "\n",
        "!apt-get install openjdk-8-jdk-headless -qq > /dev/null\n",
        "\n",
        "!wget -q https://dlcdn.apache.org/spark/spark-3.2.1/spark-3.2.1-bin-hadoop2.7.tgz\n",
        "!tar xf spark-3.2.1-bin-hadoop2.7.tgz\n",
        "\n",
        "!pip install -q findspark\n",
        "\n",
        "import os\n",
        "os.environ[\"JAVA_HOME\"] = \"/usr/lib/jvm/java-8-openjdk-amd64\"\n",
        "os.environ[\"SPARK_HOME\"] = \"/content/spark-3.2.1-bin-hadoop2.7\""
      ]
    },
    {
      "cell_type": "code",
      "source": [
        "from pyspark.sql import SparkSession\n",
        "spark = SparkSession.builder.appName(\"Churn Prediction with PySpark\").getOrCreate()"
      ],
      "metadata": {
        "id": "ysiCRRp_r3ys"
      },
      "execution_count": null,
      "outputs": []
    },
    {
      "cell_type": "code",
      "source": [
        "import numpy as np # linear algebra\n",
        "import pandas as pd # data processing, CSV file I/O (e.g. pd.read_csv)\n",
        "import os\n",
        "import matplotlib.pyplot as plt\n",
        "from pyspark.sql import SparkSession\n",
        "%matplotlib inline"
      ],
      "metadata": {
        "id": "8IGpWZ_esTk-"
      },
      "execution_count": null,
      "outputs": []
    },
    {
      "cell_type": "code",
      "source": [
        "import pyspark.ml as ml"
      ],
      "metadata": {
        "id": "_2X_SPxFxDG6"
      },
      "execution_count": null,
      "outputs": []
    },
    {
      "cell_type": "code",
      "source": [
        "# Load the dataset\n",
        "telecom_df  = spark.read.csv('churn.csv',inferSchema=True,header=True)"
      ],
      "metadata": {
        "id": "5_FRJ8JHuTtv"
      },
      "execution_count": null,
      "outputs": []
    },
    {
      "cell_type": "code",
      "source": [
        "telecom_df.show(5, truncate=False)"
      ],
      "metadata": {
        "colab": {
          "base_uri": "https://localhost:8080/"
        },
        "id": "LazR85PcudY1",
        "outputId": "f3d8f067-078c-453b-eb51-880429e73f6a"
      },
      "execution_count": null,
      "outputs": [
        {
          "output_type": "stream",
          "name": "stdout",
          "text": [
            "+-----+--------------+---------+------------+------------------+---------------+---------------------+-----------------+---------------+----------------+-----------------+---------------+----------------+-------------------+-----------------+------------------+------------------+----------------+-----------------+----------------------+-----+\n",
            "|state|account length|area code|phone number|international plan|voice mail plan|number vmail messages|total day minutes|total day calls|total day charge|total eve minutes|total eve calls|total eve charge|total night minutes|total night calls|total night charge|total intl minutes|total intl calls|total intl charge|customer service calls|churn|\n",
            "+-----+--------------+---------+------------+------------------+---------------+---------------------+-----------------+---------------+----------------+-----------------+---------------+----------------+-------------------+-----------------+------------------+------------------+----------------+-----------------+----------------------+-----+\n",
            "|KS   |128           |415      |382-4657    |no                |yes            |25                   |265.1            |110            |45.07           |197.4            |99             |16.78           |244.7              |91               |11.01             |10.0              |3               |2.7              |1                     |false|\n",
            "|OH   |107           |415      |371-7191    |no                |yes            |26                   |161.6            |123            |27.47           |195.5            |103            |16.62           |254.4              |103              |11.45             |13.7              |3               |3.7              |1                     |false|\n",
            "|NJ   |137           |415      |358-1921    |no                |no             |0                    |243.4            |114            |41.38           |121.2            |110            |10.3            |162.6              |104              |7.32              |12.2              |5               |3.29             |0                     |false|\n",
            "|OH   |84            |408      |375-9999    |yes               |no             |0                    |299.4            |71             |50.9            |61.9             |88             |5.26            |196.9              |89               |8.86              |6.6               |7               |1.78             |2                     |false|\n",
            "|OK   |75            |415      |330-6626    |yes               |no             |0                    |166.7            |113            |28.34           |148.3            |122            |12.61           |186.9              |121              |8.41              |10.1              |3               |2.73             |3                     |false|\n",
            "+-----+--------------+---------+------------+------------------+---------------+---------------------+-----------------+---------------+----------------+-----------------+---------------+----------------+-------------------+-----------------+------------------+------------------+----------------+-----------------+----------------------+-----+\n",
            "only showing top 5 rows\n",
            "\n"
          ]
        }
      ]
    },
    {
      "cell_type": "code",
      "source": [
        "refined_column_name = [\"state\",\"account_length\",\"area_code\",\"phone_number\",\"international_plan\",\"voice_mail_plan\",\"number_vmail_messages\",\"total_day_minutes\",\"total_day_calls\",\"total_day_charge\",\"total_eve_minutes\",\"total_eve_calls\",\"total_eve_charge\",\"total_night_minutes\",\"total_night_calls\",\"total_night_charge\",\"total_intl_minutes\",\"total_intl_calls\",\"total_intl_charge\",\"customer_service_calls\",\"churn\"]\n",
        "telecom_df_new = telecom_df.toDF(*refined_column_name)"
      ],
      "metadata": {
        "id": "BYKpeEaSOy6Q"
      },
      "execution_count": null,
      "outputs": []
    },
    {
      "cell_type": "code",
      "source": [
        "telecom_df_new.printSchema()"
      ],
      "metadata": {
        "colab": {
          "base_uri": "https://localhost:8080/"
        },
        "id": "YinDUg8DqOmT",
        "outputId": "9c60c895-dfab-4d7c-b8fb-f76b7f8ad106"
      },
      "execution_count": null,
      "outputs": [
        {
          "output_type": "stream",
          "name": "stdout",
          "text": [
            "root\n",
            " |-- state: string (nullable = true)\n",
            " |-- account_length: integer (nullable = true)\n",
            " |-- area_code: integer (nullable = true)\n",
            " |-- phone_number: string (nullable = true)\n",
            " |-- international_plan: string (nullable = true)\n",
            " |-- voice_mail_plan: string (nullable = true)\n",
            " |-- number_vmail_messages: integer (nullable = true)\n",
            " |-- total_day_minutes: double (nullable = true)\n",
            " |-- total_day_calls: integer (nullable = true)\n",
            " |-- total_day_charge: double (nullable = true)\n",
            " |-- total_eve_minutes: double (nullable = true)\n",
            " |-- total_eve_calls: integer (nullable = true)\n",
            " |-- total_eve_charge: double (nullable = true)\n",
            " |-- total_night_minutes: double (nullable = true)\n",
            " |-- total_night_calls: integer (nullable = true)\n",
            " |-- total_night_charge: double (nullable = true)\n",
            " |-- total_intl_minutes: double (nullable = true)\n",
            " |-- total_intl_calls: integer (nullable = true)\n",
            " |-- total_intl_charge: double (nullable = true)\n",
            " |-- customer_service_calls: integer (nullable = true)\n",
            " |-- churn: boolean (nullable = true)\n",
            "\n"
          ]
        }
      ]
    },
    {
      "cell_type": "code",
      "source": [
        "telecom_df_new.show(5)"
      ],
      "metadata": {
        "colab": {
          "base_uri": "https://localhost:8080/"
        },
        "id": "KJHUTVTmqq21",
        "outputId": "f2e980c4-e1ce-4553-83ab-4bc05dd7ae4a"
      },
      "execution_count": null,
      "outputs": [
        {
          "output_type": "stream",
          "name": "stdout",
          "text": [
            "+-----+--------------+---------+------------+------------------+---------------+---------------------+-----------------+---------------+----------------+-----------------+---------------+----------------+-------------------+-----------------+------------------+------------------+----------------+-----------------+----------------------+-----+\n",
            "|state|account_length|area_code|phone_number|international_plan|voice_mail_plan|number_vmail_messages|total_day_minutes|total_day_calls|total_day_charge|total_eve_minutes|total_eve_calls|total_eve_charge|total_night_minutes|total_night_calls|total_night_charge|total_intl_minutes|total_intl_calls|total_intl_charge|customer_service_calls|churn|\n",
            "+-----+--------------+---------+------------+------------------+---------------+---------------------+-----------------+---------------+----------------+-----------------+---------------+----------------+-------------------+-----------------+------------------+------------------+----------------+-----------------+----------------------+-----+\n",
            "|   KS|           128|      415|    382-4657|                no|            yes|                   25|            265.1|            110|           45.07|            197.4|             99|           16.78|              244.7|               91|             11.01|              10.0|               3|              2.7|                     1|false|\n",
            "|   OH|           107|      415|    371-7191|                no|            yes|                   26|            161.6|            123|           27.47|            195.5|            103|           16.62|              254.4|              103|             11.45|              13.7|               3|              3.7|                     1|false|\n",
            "|   NJ|           137|      415|    358-1921|                no|             no|                    0|            243.4|            114|           41.38|            121.2|            110|            10.3|              162.6|              104|              7.32|              12.2|               5|             3.29|                     0|false|\n",
            "|   OH|            84|      408|    375-9999|               yes|             no|                    0|            299.4|             71|            50.9|             61.9|             88|            5.26|              196.9|               89|              8.86|               6.6|               7|             1.78|                     2|false|\n",
            "|   OK|            75|      415|    330-6626|               yes|             no|                    0|            166.7|            113|           28.34|            148.3|            122|           12.61|              186.9|              121|              8.41|              10.1|               3|             2.73|                     3|false|\n",
            "+-----+--------------+---------+------------+------------------+---------------+---------------------+-----------------+---------------+----------------+-----------------+---------------+----------------+-------------------+-----------------+------------------+------------------+----------------+-----------------+----------------------+-----+\n",
            "only showing top 5 rows\n",
            "\n"
          ]
        }
      ]
    },
    {
      "cell_type": "code",
      "source": [
        "#Keep a copy of the original dataframe for later use\n",
        "telecom_df_new_1 = telecom_df_new"
      ],
      "metadata": {
        "id": "vzmPCsNdmwTq"
      },
      "execution_count": null,
      "outputs": []
    },
    {
      "cell_type": "code",
      "source": [
        "telecom_df_new1 = telecom_df_new.toPandas()"
      ],
      "metadata": {
        "id": "YAp-sjp5dET5"
      },
      "execution_count": null,
      "outputs": []
    },
    {
      "cell_type": "code",
      "source": [
        "telecom_df_new1['churn'] = telecom_df_new1['churn'].astype(int)"
      ],
      "metadata": {
        "id": "rjvslcWFdNYh"
      },
      "execution_count": null,
      "outputs": []
    },
    {
      "cell_type": "code",
      "source": [
        "telecom_df_new1.international_plan = telecom_df_new1.international_plan.map(dict(yes=1,no=0))"
      ],
      "metadata": {
        "id": "dz57X5ylfIrv"
      },
      "execution_count": null,
      "outputs": []
    },
    {
      "cell_type": "code",
      "source": [
        "telecom_df_new1.voice_mail_plan = telecom_df_new1.voice_mail_plan.map(dict(yes=1,no=0))"
      ],
      "metadata": {
        "id": "CtV1FtFBfIin"
      },
      "execution_count": null,
      "outputs": []
    },
    {
      "cell_type": "code",
      "source": [
        "# Displaying the percentage of churned and retained customers \n",
        "labels = 'Churn', 'Retain'\n",
        "sizes = [telecom_df_new1.churn[telecom_df_new1['churn'] == 1].count(), telecom_df_new1.churn[telecom_df_new1['churn'] == 0].count()]\n",
        "explode = (0, 0.05)\n",
        "fig1, ax1 = plt.subplots(figsize = (10, 5))\n",
        "ax1.pie(sizes, explode=explode, labels = labels, autopct='%1.1f%%',\n",
        "        shadow = False, startangle = 120)\n",
        "ax1.axis('equal')\n",
        "plt.title('Percentage of churned and retained customers', size = 16)\n",
        "plt.show()"
      ],
      "metadata": {
        "colab": {
          "base_uri": "https://localhost:8080/",
          "height": 321
        },
        "id": "u2toCalNfT7c",
        "outputId": "911d6baf-7997-435b-9a6c-d762997d8593"
      },
      "execution_count": null,
      "outputs": [
        {
          "output_type": "display_data",
          "data": {
            "text/plain": [
              "<Figure size 720x360 with 1 Axes>"
            ],
            "image/png": "[encoded data removed]"
          },
          "metadata": {}
        }
      ]
    },
    {
      "cell_type": "code",
      "source": [
        "telecom_df_new1 = telecom_df_new1.drop('phone_number',1)"
      ],
      "metadata": {
        "colab": {
          "base_uri": "https://localhost:8080/"
        },
        "id": "KfGZOs6rfi8y",
        "outputId": "cb6c5eb3-8c70-40ef-96d1-b169dd501a3a"
      },
      "execution_count": null,
      "outputs": [
        {
          "output_type": "stream",
          "name": "stderr",
          "text": [
            "/usr/local/lib/python3.7/dist-packages/ipykernel_launcher.py:1: FutureWarning: In a future version of pandas all arguments of DataFrame.drop except for the argument 'labels' will be keyword-only\n",
            "  \"\"\"Entry point for launching an IPython kernel.\n"
          ]
        }
      ]
    },
    {
      "cell_type": "code",
      "source": [
        "telecom_df_new1.info()"
      ],
      "metadata": {
        "colab": {
          "base_uri": "https://localhost:8080/"
        },
        "id": "vVCJBRpmfTtG",
        "outputId": "aa6bf881-a55f-4675-9467-b3279045696d"
      },
      "execution_count": null,
      "outputs": [
        {
          "output_type": "stream",
          "name": "stdout",
          "text": [
            "<class 'pandas.core.frame.DataFrame'>\n",
            "RangeIndex: 3333 entries, 0 to 3332\n",
            "Data columns (total 20 columns):\n",
            " #   Column                  Non-Null Count  Dtype  \n",
            "---  ------                  --------------  -----  \n",
            " 0   state                   3333 non-null   object \n",
            " 1   account_length          3333 non-null   int32  \n",
            " 2   area_code               3333 non-null   int32  \n",
            " 3   international_plan      3333 non-null   int64  \n",
            " 4   voice_mail_plan         3333 non-null   int64  \n",
            " 5   number_vmail_messages   3333 non-null   int32  \n",
            " 6   total_day_minutes       3333 non-null   float64\n",
            " 7   total_day_calls         3333 non-null   int32  \n",
            " 8   total_day_charge        3333 non-null   float64\n",
            " 9   total_eve_minutes       3333 non-null   float64\n",
            " 10  total_eve_calls         3333 non-null   int32  \n",
            " 11  total_eve_charge        3333 non-null   float64\n",
            " 12  total_night_minutes     3333 non-null   float64\n",
            " 13  total_night_calls       3333 non-null   int32  \n",
            " 14  total_night_charge      3333 non-null   float64\n",
            " 15  total_intl_minutes      3333 non-null   float64\n",
            " 16  total_intl_calls        3333 non-null   int32  \n",
            " 17  total_intl_charge       3333 non-null   float64\n",
            " 18  customer_service_calls  3333 non-null   int32  \n",
            " 19  churn                   3333 non-null   int64  \n",
            "dtypes: float64(8), int32(8), int64(3), object(1)\n",
            "memory usage: 416.8+ KB\n"
          ]
        }
      ]
    },
    {
      "cell_type": "code",
      "source": [
        "# Changing Pandas date frane to Spark Data Frame \n",
        "\n",
        "final_spark_df = spark.createDataFrame(telecom_df_new1)\n",
        "type(final_spark_df)"
      ],
      "metadata": {
        "colab": {
          "base_uri": "https://localhost:8080/"
        },
        "id": "hl2b56uIf093",
        "outputId": "c0d9bf78-2eac-4301-beff-c71136a983d9"
      },
      "execution_count": null,
      "outputs": [
        {
          "output_type": "execute_result",
          "data": {
            "text/plain": [
              "pyspark.sql.dataframe.DataFrame"
            ]
          },
          "metadata": {},
          "execution_count": 25
        }
      ]
    },
    {
      "cell_type": "code",
      "source": [
        "from pyspark.sql.types import IntegerType, BooleanType, DateType"
      ],
      "metadata": {
        "id": "2DQNpN2Thoui"
      },
      "execution_count": null,
      "outputs": []
    },
    {
      "cell_type": "code",
      "source": [
        "telecom_df_new_1.withColumn(\"churn\", telecom_df_new_1.churn.cast(IntegerType()))"
      ],
      "metadata": {
        "colab": {
          "base_uri": "https://localhost:8080/"
        },
        "id": "ntEoabT9hW0H",
        "outputId": "8a9d271e-283d-4df7-f100-f7bc595419e0"
      },
      "execution_count": null,
      "outputs": [
        {
          "output_type": "execute_result",
          "data": {
            "text/plain": [
              "DataFrame[state: string, account_length: int, area_code: int, phone_number: string, international_plan: string, voice_mail_plan: string, number_vmail_messages: int, total_day_minutes: double, total_day_calls: int, total_day_charge: double, total_eve_minutes: double, total_eve_calls: int, total_eve_charge: double, total_night_minutes: double, total_night_calls: int, total_night_charge: double, total_intl_minutes: double, total_intl_calls: int, total_intl_charge: double, customer_service_calls: int, churn: int]"
            ]
          },
          "metadata": {},
          "execution_count": 28
        }
      ]
    },
    {
      "cell_type": "code",
      "source": [
        "telecom_df_new_1.show()"
      ],
      "metadata": {
        "colab": {
          "base_uri": "https://localhost:8080/"
        },
        "id": "g5U_lrYoiBr4",
        "outputId": "8a58e396-11a1-42e6-9add-200b6c0aa625"
      },
      "execution_count": null,
      "outputs": [
        {
          "output_type": "stream",
          "name": "stdout",
          "text": [
            "+-----+--------------+---------+------------+------------------+---------------+---------------------+-----------------+---------------+----------------+-----------------+---------------+----------------+-------------------+-----------------+------------------+------------------+----------------+-----------------+----------------------+-----+\n",
            "|state|account_length|area_code|phone_number|international_plan|voice_mail_plan|number_vmail_messages|total_day_minutes|total_day_calls|total_day_charge|total_eve_minutes|total_eve_calls|total_eve_charge|total_night_minutes|total_night_calls|total_night_charge|total_intl_minutes|total_intl_calls|total_intl_charge|customer_service_calls|churn|\n",
            "+-----+--------------+---------+------------+------------------+---------------+---------------------+-----------------+---------------+----------------+-----------------+---------------+----------------+-------------------+-----------------+------------------+------------------+----------------+-----------------+----------------------+-----+\n",
            "|   KS|           128|      415|    382-4657|                no|            yes|                   25|            265.1|            110|           45.07|            197.4|             99|           16.78|              244.7|               91|             11.01|              10.0|               3|              2.7|                     1|false|\n",
            "|   OH|           107|      415|    371-7191|                no|            yes|                   26|            161.6|            123|           27.47|            195.5|            103|           16.62|              254.4|              103|             11.45|              13.7|               3|              3.7|                     1|false|\n",
            "|   NJ|           137|      415|    358-1921|                no|             no|                    0|            243.4|            114|           41.38|            121.2|            110|            10.3|              162.6|              104|              7.32|              12.2|               5|             3.29|                     0|false|\n",
            "|   OH|            84|      408|    375-9999|               yes|             no|                    0|            299.4|             71|            50.9|             61.9|             88|            5.26|              196.9|               89|              8.86|               6.6|               7|             1.78|                     2|false|\n",
            "|   OK|            75|      415|    330-6626|               yes|             no|                    0|            166.7|            113|           28.34|            148.3|            122|           12.61|              186.9|              121|              8.41|              10.1|               3|             2.73|                     3|false|\n",
            "|   AL|           118|      510|    391-8027|               yes|             no|                    0|            223.4|             98|           37.98|            220.6|            101|           18.75|              203.9|              118|              9.18|               6.3|               6|              1.7|                     0|false|\n",
            "|   MA|           121|      510|    355-9993|                no|            yes|                   24|            218.2|             88|           37.09|            348.5|            108|           29.62|              212.6|              118|              9.57|               7.5|               7|             2.03|                     3|false|\n",
            "|   MO|           147|      415|    329-9001|               yes|             no|                    0|            157.0|             79|           26.69|            103.1|             94|            8.76|              211.8|               96|              9.53|               7.1|               6|             1.92|                     0|false|\n",
            "|   LA|           117|      408|    335-4719|                no|             no|                    0|            184.5|             97|           31.37|            351.6|             80|           29.89|              215.8|               90|              9.71|               8.7|               4|             2.35|                     1|false|\n",
            "|   WV|           141|      415|    330-8173|               yes|            yes|                   37|            258.6|             84|           43.96|            222.0|            111|           18.87|              326.4|               97|             14.69|              11.2|               5|             3.02|                     0|false|\n",
            "|   IN|            65|      415|    329-6603|                no|             no|                    0|            129.1|            137|           21.95|            228.5|             83|           19.42|              208.8|              111|               9.4|              12.7|               6|             3.43|                     4| true|\n",
            "|   RI|            74|      415|    344-9403|                no|             no|                    0|            187.7|            127|           31.91|            163.4|            148|           13.89|              196.0|               94|              8.82|               9.1|               5|             2.46|                     0|false|\n",
            "|   IA|           168|      408|    363-1107|                no|             no|                    0|            128.8|             96|            21.9|            104.9|             71|            8.92|              141.1|              128|              6.35|              11.2|               2|             3.02|                     1|false|\n",
            "|   MT|            95|      510|    394-8006|                no|             no|                    0|            156.6|             88|           26.62|            247.6|             75|           21.05|              192.3|              115|              8.65|              12.3|               5|             3.32|                     3|false|\n",
            "|   IA|            62|      415|    366-9238|                no|             no|                    0|            120.7|             70|           20.52|            307.2|             76|           26.11|              203.0|               99|              9.14|              13.1|               6|             3.54|                     4|false|\n",
            "|   NY|           161|      415|    351-7269|                no|             no|                    0|            332.9|             67|           56.59|            317.8|             97|           27.01|              160.6|              128|              7.23|               5.4|               9|             1.46|                     4| true|\n",
            "|   ID|            85|      408|    350-8884|                no|            yes|                   27|            196.4|            139|           33.39|            280.9|             90|           23.88|               89.3|               75|              4.02|              13.8|               4|             3.73|                     1|false|\n",
            "|   VT|            93|      510|    386-2923|                no|             no|                    0|            190.7|            114|           32.42|            218.2|            111|           18.55|              129.6|              121|              5.83|               8.1|               3|             2.19|                     3|false|\n",
            "|   VA|            76|      510|    356-2992|                no|            yes|                   33|            189.7|             66|           32.25|            212.8|             65|           18.09|              165.7|              108|              7.46|              10.0|               5|              2.7|                     1|false|\n",
            "|   TX|            73|      415|    373-2782|                no|             no|                    0|            224.4|             90|           38.15|            159.5|             88|           13.56|              192.8|               74|              8.68|              13.0|               2|             3.51|                     1|false|\n",
            "+-----+--------------+---------+------------+------------------+---------------+---------------------+-----------------+---------------+----------------+-----------------+---------------+----------------+-------------------+-----------------+------------------+------------------+----------------+-----------------+----------------------+-----+\n",
            "only showing top 20 rows\n",
            "\n"
          ]
        }
      ]
    },
    {
      "cell_type": "code",
      "source": [
        "telecom_df_new_1 = telecom_df_new_1.drop(\"area_code\")"
      ],
      "metadata": {
        "id": "pNeMAAGjkJkh"
      },
      "execution_count": null,
      "outputs": []
    },
    {
      "cell_type": "code",
      "source": [
        "telecom_df_new_1 = telecom_df_new_1.drop(\"total_day_minutes\",\"total_day_charge\")"
      ],
      "metadata": {
        "id": "LE_p3B82kkgX"
      },
      "execution_count": null,
      "outputs": []
    },
    {
      "cell_type": "code",
      "source": [
        "telecom_df_new_1 = telecom_df_new_1.drop(\"total_eve_minutes\",\"total_eve_charge\",\"total_night_minutes\",\"total_night_charge\",\"total_intl_minutes\",\"total_intl_charge\")"
      ],
      "metadata": {
        "id": "hzwCXeRrkxhq"
      },
      "execution_count": null,
      "outputs": []
    },
    {
      "cell_type": "code",
      "source": [
        "telecom_df_new_1.show(2)"
      ],
      "metadata": {
        "colab": {
          "base_uri": "https://localhost:8080/"
        },
        "id": "JVaXRPiSjfdg",
        "outputId": "c4f72184-d425-41a8-ceaa-598cbf454465"
      },
      "execution_count": null,
      "outputs": [
        {
          "output_type": "stream",
          "name": "stdout",
          "text": [
            "+-----+------------------+---------------+---------------------+---------------+---------------+-----------------+----------------+----------------------+-----+\n",
            "|state|international_plan|voice_mail_plan|number_vmail_messages|total_day_calls|total_eve_calls|total_night_calls|total_intl_calls|customer_service_calls|churn|\n",
            "+-----+------------------+---------------+---------------------+---------------+---------------+-----------------+----------------+----------------------+-----+\n",
            "|   KS|                no|            yes|                   25|            110|             99|               91|               3|                     1|false|\n",
            "|   OH|                no|            yes|                   26|            123|            103|              103|               3|                     1|false|\n",
            "+-----+------------------+---------------+---------------------+---------------+---------------+-----------------+----------------+----------------------+-----+\n",
            "only showing top 2 rows\n",
            "\n"
          ]
        }
      ]
    },
    {
      "cell_type": "code",
      "source": [
        "#Columns that will be used as features and their types\n",
        "continuous_features = ['total_day_calls', 'total_eve_calls', 'total_night_calls', 'total_intl_calls','customer_service_calls']\n",
        "                    \n",
        "categorical_features = ['state', 'international_plan','voice_mail_plan']"
      ],
      "metadata": {
        "id": "ihIWHH5Yjl3K"
      },
      "execution_count": null,
      "outputs": []
    },
    {
      "cell_type": "code",
      "source": [
        "#Encoding all categorical features\n",
        "from pyspark.ml.feature import OneHotEncoder, StringIndexer, VectorAssembler, PolynomialExpansion, VectorIndexer"
      ],
      "metadata": {
        "id": "h8a1TqSMlpep"
      },
      "execution_count": null,
      "outputs": []
    },
    {
      "cell_type": "code",
      "source": [
        "# create object of StringIndexer class and specify input and output column\n",
        "SI_state = StringIndexer(inputCol='state',outputCol='state_Index2')\n",
        "SI_international_plan = StringIndexer(inputCol='international_plan',outputCol='international_plan_Index2')\n",
        "SI_voice_mail_plan = StringIndexer(inputCol='voice_mail_plan',outputCol='voice_mail_plan_Index2')\n",
        "\n",
        "# transform the data\n",
        "telecom_df_new_1= SI_state.fit(telecom_df_new_1).transform(telecom_df_new_1)\n",
        "telecom_df_new_1 = SI_international_plan.fit(telecom_df_new_1).transform(telecom_df_new_1)\n",
        "telecom_df_new_1 = SI_voice_mail_plan.fit(telecom_df_new_1).transform(telecom_df_new_1)\n",
        "\n",
        "# view the transformed data\n",
        "telecom_df_new_1.select('state', 'state_Index2', 'international_plan', 'international_plan_Index2', 'voice_mail_plan', 'voice_mail_plan_Index2').show(10)\n"
      ],
      "metadata": {
        "id": "plHqud0wlxJT",
        "colab": {
          "base_uri": "https://localhost:8080/"
        },
        "outputId": "cb592413-c79f-4b65-d50b-d50857c65921"
      },
      "execution_count": null,
      "outputs": [
        {
          "output_type": "stream",
          "name": "stdout",
          "text": [
            "+-----+------------+------------------+-------------------------+---------------+----------------------+\n",
            "|state|state_Index2|international_plan|international_plan_Index2|voice_mail_plan|voice_mail_plan_Index2|\n",
            "+-----+------------+------------------+-------------------------+---------------+----------------------+\n",
            "|   KS|        16.0|                no|                      0.0|            yes|                   1.0|\n",
            "|   OH|         4.0|                no|                      0.0|            yes|                   1.0|\n",
            "|   NJ|        20.0|                no|                      0.0|             no|                   0.0|\n",
            "|   OH|         4.0|               yes|                      1.0|             no|                   0.0|\n",
            "|   OK|        35.0|               yes|                      1.0|             no|                   0.0|\n",
            "|   AL|         3.0|               yes|                      1.0|             no|                   0.0|\n",
            "|   MA|        24.0|                no|                      0.0|            yes|                   1.0|\n",
            "|   MO|        29.0|               yes|                      1.0|             no|                   0.0|\n",
            "|   LA|        47.0|                no|                      0.0|             no|                   0.0|\n",
            "|   WV|         0.0|               yes|                      1.0|            yes|                   1.0|\n",
            "+-----+------------+------------------+-------------------------+---------------+----------------------+\n",
            "only showing top 10 rows\n",
            "\n"
          ]
        }
      ]
    },
    {
      "cell_type": "code",
      "source": [
        "# create object and specify input and output column\n",
        "OHE = OneHotEncoder(inputCols=['state_Index2', 'international_plan_Index2','voice_mail_plan_Index2'],outputCols=['state_vec', 'international_plan_vec','voice_mail_plan_vec'])\n",
        "\n",
        "# transform the data\n",
        "telecom_df_new_1 = OHE.fit(telecom_df_new_1).transform(telecom_df_new_1)\n",
        "\n",
        "# view and transform the data\n",
        "telecom_df_new_1.select('state', 'state_Index2', 'state_vec', 'international_plan', 'international_plan_Index2', 'international_plan_vec','voice_mail_plan', 'voice_mail_plan_Index2', 'voice_mail_plan_vec').show(10)"
      ],
      "metadata": {
        "id": "AsqczzzblxBx",
        "colab": {
          "base_uri": "https://localhost:8080/"
        },
        "outputId": "be26cde1-5e00-4298-c7ac-49f82cda1fa9"
      },
      "execution_count": null,
      "outputs": [
        {
          "output_type": "stream",
          "name": "stdout",
          "text": [
            "+-----+------------+---------------+------------------+-------------------------+----------------------+---------------+----------------------+-------------------+\n",
            "|state|state_Index2|      state_vec|international_plan|international_plan_Index2|international_plan_vec|voice_mail_plan|voice_mail_plan_Index2|voice_mail_plan_vec|\n",
            "+-----+------------+---------------+------------------+-------------------------+----------------------+---------------+----------------------+-------------------+\n",
            "|   KS|        16.0|(50,[16],[1.0])|                no|                      0.0|         (1,[0],[1.0])|            yes|                   1.0|          (1,[],[])|\n",
            "|   OH|         4.0| (50,[4],[1.0])|                no|                      0.0|         (1,[0],[1.0])|            yes|                   1.0|          (1,[],[])|\n",
            "|   NJ|        20.0|(50,[20],[1.0])|                no|                      0.0|         (1,[0],[1.0])|             no|                   0.0|      (1,[0],[1.0])|\n",
            "|   OH|         4.0| (50,[4],[1.0])|               yes|                      1.0|             (1,[],[])|             no|                   0.0|      (1,[0],[1.0])|\n",
            "|   OK|        35.0|(50,[35],[1.0])|               yes|                      1.0|             (1,[],[])|             no|                   0.0|      (1,[0],[1.0])|\n",
            "|   AL|         3.0| (50,[3],[1.0])|               yes|                      1.0|             (1,[],[])|             no|                   0.0|      (1,[0],[1.0])|\n",
            "|   MA|        24.0|(50,[24],[1.0])|                no|                      0.0|         (1,[0],[1.0])|            yes|                   1.0|          (1,[],[])|\n",
            "|   MO|        29.0|(50,[29],[1.0])|               yes|                      1.0|             (1,[],[])|             no|                   0.0|      (1,[0],[1.0])|\n",
            "|   LA|        47.0|(50,[47],[1.0])|                no|                      0.0|         (1,[0],[1.0])|             no|                   0.0|      (1,[0],[1.0])|\n",
            "|   WV|         0.0| (50,[0],[1.0])|               yes|                      1.0|             (1,[],[])|            yes|                   1.0|          (1,[],[])|\n",
            "+-----+------------+---------------+------------------+-------------------------+----------------------+---------------+----------------------+-------------------+\n",
            "only showing top 10 rows\n",
            "\n"
          ]
        }
      ]
    },
    {
      "cell_type": "code",
      "source": [
        "#Create vectors from all features column\n",
        "featureCols = continuous_features + ['state_vec',   'international_plan_vec','voice_mail_plan_vec']    \n",
        "                                   "
      ],
      "metadata": {
        "id": "uubYmM7ZogRv"
      },
      "execution_count": null,
      "outputs": []
    },
    {
      "cell_type": "code",
      "source": [
        "assembler = VectorAssembler( inputCols = featureCols, outputCol = \"features\")"
      ],
      "metadata": {
        "id": "_-89UeBalw7E"
      },
      "execution_count": null,
      "outputs": []
    },
    {
      "cell_type": "code",
      "source": [
        "telecom_train_df = assembler.transform( telecom_df_new_1 )"
      ],
      "metadata": {
        "id": "HvHDhh3OpAsw"
      },
      "execution_count": null,
      "outputs": []
    },
    {
      "cell_type": "code",
      "source": [
        "telecom_train_df = telecom_train_df.withColumn('label', telecom_train_df['churn'].cast('integer'))"
      ],
      "metadata": {
        "id": "IbYwwtzxuBJn"
      },
      "execution_count": null,
      "outputs": []
    },
    {
      "cell_type": "code",
      "source": [
        "#Split the dataset\n",
        "train_df, test_df = telecom_train_df.randomSplit( [0.7, 0.3], seed = 42 )"
      ],
      "metadata": {
        "id": "pnXGgnIgySte"
      },
      "execution_count": null,
      "outputs": []
    },
    {
      "cell_type": "code",
      "source": [
        "telecom_train_df.show(5)"
      ],
      "metadata": {
        "colab": {
          "base_uri": "https://localhost:8080/"
        },
        "id": "oxPcCJZDzoss",
        "outputId": "41e01b33-6ab4-4141-c50f-c63d0dac95b8"
      },
      "execution_count": null,
      "outputs": [
        {
          "output_type": "stream",
          "name": "stdout",
          "text": [
            "+-----+------------------+---------------+---------------------+---------------+---------------+-----------------+----------------+----------------------+-----+-----------+------------------------+---------------------+------------+-------------------------+----------------------+------------+-------------------------+----------------------+---------------+----------------------+-------------------+--------------------+-----+\n",
            "|state|international_plan|voice_mail_plan|number_vmail_messages|total_day_calls|total_eve_calls|total_night_calls|total_intl_calls|customer_service_calls|churn|state_Index|international_plan_Index|voice_mail_plan_Index|state_Index1|international_plan_Index1|voice_mail_plan_Index1|state_Index2|international_plan_Index2|voice_mail_plan_Index2|      state_vec|international_plan_vec|voice_mail_plan_vec|            features|label|\n",
            "+-----+------------------+---------------+---------------------+---------------+---------------+-----------------+----------------+----------------------+-----+-----------+------------------------+---------------------+------------+-------------------------+----------------------+------------+-------------------------+----------------------+---------------+----------------------+-------------------+--------------------+-----+\n",
            "|   KS|                no|            yes|                   25|            110|             99|               91|               3|                     1|false|       16.0|                     0.0|                  1.0|        16.0|                      0.0|                   1.0|        16.0|                      0.0|                   1.0|(50,[16],[1.0])|         (1,[0],[1.0])|          (1,[],[])|(57,[0,1,2,3,4,21...|    0|\n",
            "|   OH|                no|            yes|                   26|            123|            103|              103|               3|                     1|false|        4.0|                     0.0|                  1.0|         4.0|                      0.0|                   1.0|         4.0|                      0.0|                   1.0| (50,[4],[1.0])|         (1,[0],[1.0])|          (1,[],[])|(57,[0,1,2,3,4,9,...|    0|\n",
            "|   NJ|                no|             no|                    0|            114|            110|              104|               5|                     0|false|       20.0|                     0.0|                  0.0|        20.0|                      0.0|                   0.0|        20.0|                      0.0|                   0.0|(50,[20],[1.0])|         (1,[0],[1.0])|      (1,[0],[1.0])|(57,[0,1,2,3,25,5...|    0|\n",
            "|   OH|               yes|             no|                    0|             71|             88|               89|               7|                     2|false|        4.0|                     1.0|                  0.0|         4.0|                      1.0|                   0.0|         4.0|                      1.0|                   0.0| (50,[4],[1.0])|             (1,[],[])|      (1,[0],[1.0])|(57,[0,1,2,3,4,9,...|    0|\n",
            "|   OK|               yes|             no|                    0|            113|            122|              121|               3|                     3|false|       35.0|                     1.0|                  0.0|        35.0|                      1.0|                   0.0|        35.0|                      1.0|                   0.0|(50,[35],[1.0])|             (1,[],[])|      (1,[0],[1.0])|(57,[0,1,2,3,4,40...|    0|\n",
            "+-----+------------------+---------------+---------------------+---------------+---------------+-----------------+----------------+----------------------+-----+-----------+------------------------+---------------------+------------+-------------------------+----------------------+------------+-------------------------+----------------------+---------------+----------------------+-------------------+--------------------+-----+\n",
            "only showing top 5 rows\n",
            "\n"
          ]
        }
      ]
    },
    {
      "cell_type": "code",
      "source": [
        "from pyspark.ml.classification import LogisticRegression"
      ],
      "metadata": {
        "id": "8etpC8YFw0ll"
      },
      "execution_count": null,
      "outputs": []
    },
    {
      "cell_type": "code",
      "source": [
        "#linreg = LinearRegression(maxIter=500, regParam=0.0)\n",
        "linreg = LogisticRegression()"
      ],
      "metadata": {
        "id": "td2J4eC4w0io"
      },
      "execution_count": null,
      "outputs": []
    },
    {
      "cell_type": "code",
      "source": [
        "lm = linreg.fit( train_df )"
      ],
      "metadata": {
        "id": "aJE6DQHfw0fz"
      },
      "execution_count": null,
      "outputs": []
    },
    {
      "cell_type": "code",
      "source": [
        "#Make predictions on train data and evaluate\n",
        "y_pred_train = lm.transform(train_df)"
      ],
      "metadata": {
        "id": "q_vcknrx0M-n"
      },
      "execution_count": null,
      "outputs": []
    },
    {
      "cell_type": "code",
      "source": [
        "#Make predictions on test data and evaluate\n",
        "y_pred_test = lm.transform( test_df )"
      ],
      "metadata": {
        "id": "V8neWRfMw0c6"
      },
      "execution_count": null,
      "outputs": []
    },
    {
      "cell_type": "code",
      "source": [
        "y_pred_test.show(10)"
      ],
      "metadata": {
        "colab": {
          "base_uri": "https://localhost:8080/"
        },
        "id": "hsu0S7j30ntY",
        "outputId": "d913f139-b8c7-4aaf-9bdd-e46bf82b66ab"
      },
      "execution_count": null,
      "outputs": [
        {
          "output_type": "stream",
          "name": "stdout",
          "text": [
            "+-----+------------------+---------------+---------------------+---------------+---------------+-----------------+----------------+----------------------+-----+-----------+------------------------+---------------------+------------+-------------------------+----------------------+------------+-------------------------+----------------------+---------------+----------------------+-------------------+--------------------+-----+--------------------+--------------------+----------+\n",
            "|state|international_plan|voice_mail_plan|number_vmail_messages|total_day_calls|total_eve_calls|total_night_calls|total_intl_calls|customer_service_calls|churn|state_Index|international_plan_Index|voice_mail_plan_Index|state_Index1|international_plan_Index1|voice_mail_plan_Index1|state_Index2|international_plan_Index2|voice_mail_plan_Index2|      state_vec|international_plan_vec|voice_mail_plan_vec|            features|label|       rawPrediction|         probability|prediction|\n",
            "+-----+------------------+---------------+---------------------+---------------+---------------+-----------------+----------------+----------------------+-----+-----------+------------------------+---------------------+------------+-------------------------+----------------------+------------+-------------------------+----------------------+---------------+----------------------+-------------------+--------------------+-----+--------------------+--------------------+----------+\n",
            "|   AK|                no|             no|                    0|             62|             53|               96|               3|                     2|false|       46.0|                     0.0|                  0.0|        46.0|                      0.0|                   0.0|        46.0|                      0.0|                   0.0|(50,[46],[1.0])|         (1,[0],[1.0])|      (1,[0],[1.0])|(57,[0,1,2,3,4,51...|    0|[3.27735799848739...|[0.96364383600244...|       0.0|\n",
            "|   AK|                no|             no|                    0|             74|            104|               79|               7|                     1|false|       46.0|                     0.0|                  0.0|        46.0|                      0.0|                   0.0|        46.0|                      0.0|                   0.0|(50,[46],[1.0])|         (1,[0],[1.0])|      (1,[0],[1.0])|(57,[0,1,2,3,4,51...|    0|[3.90210125772984...|[0.98020051552619...|       0.0|\n",
            "|   AK|                no|             no|                    0|             83|             79|              104|               6|                     3|false|       46.0|                     0.0|                  0.0|        46.0|                      0.0|                   0.0|        46.0|                      0.0|                   0.0|(50,[46],[1.0])|         (1,[0],[1.0])|      (1,[0],[1.0])|(57,[0,1,2,3,4,51...|    0|[2.81519551832448...|[0.94349145904746...|       0.0|\n",
            "|   AK|                no|             no|                    0|             84|            129|               82|               4|                     3|false|       46.0|                     0.0|                  0.0|        46.0|                      0.0|                   0.0|        46.0|                      0.0|                   0.0|(50,[46],[1.0])|         (1,[0],[1.0])|      (1,[0],[1.0])|(57,[0,1,2,3,4,51...|    0|[2.73616927703641...|[0.93912747353713...|       0.0|\n",
            "|   AK|                no|             no|                    0|             90|             93|               57|               8|                     3|false|       46.0|                     0.0|                  0.0|        46.0|                      0.0|                   0.0|        46.0|                      0.0|                   0.0|(50,[46],[1.0])|         (1,[0],[1.0])|      (1,[0],[1.0])|(57,[0,1,2,3,4,51...|    0|[3.07480788490376...|[0.95584155126550...|       0.0|\n",
            "|   AK|                no|             no|                    0|             94|            118|               91|               1|                     5| true|       46.0|                     0.0|                  0.0|        46.0|                      0.0|                   0.0|        46.0|                      0.0|                   0.0|(50,[46],[1.0])|         (1,[0],[1.0])|      (1,[0],[1.0])|(57,[0,1,2,3,4,51...|    1|[1.59524527907224...|[0.83135279782883...|       0.0|\n",
            "|   AK|                no|             no|                    0|             95|             88|               82|               9|                     2|false|       46.0|                     0.0|                  0.0|        46.0|                      0.0|                   0.0|        46.0|                      0.0|                   0.0|(50,[46],[1.0])|         (1,[0],[1.0])|      (1,[0],[1.0])|(57,[0,1,2,3,4,51...|    0|[3.47121307243338...|[0.96985750160651...|       0.0|\n",
            "|   AK|                no|             no|                    0|             96|            123|              106|               4|                     0|false|       46.0|                     0.0|                  0.0|        46.0|                      0.0|                   0.0|        46.0|                      0.0|                   0.0|(50,[46],[1.0])|         (1,[0],[1.0])|      (1,[0],[1.0])|(57,[0,1,2,3,51,5...|    0|[3.99481972314910...|[0.98192206349696...|       0.0|\n",
            "|   AK|                no|             no|                    0|             97|            113|               93|               9|                     1|false|       46.0|                     0.0|                  0.0|        46.0|                      0.0|                   0.0|        46.0|                      0.0|                   0.0|(50,[46],[1.0])|         (1,[0],[1.0])|      (1,[0],[1.0])|(57,[0,1,2,3,4,51...|    0|[3.84653901472765...|[0.97909292657313...|       0.0|\n",
            "|   AK|                no|             no|                    0|            104|             83|              109|               4|                     2|false|       46.0|                     0.0|                  0.0|        46.0|                      0.0|                   0.0|        46.0|                      0.0|                   0.0|(50,[46],[1.0])|         (1,[0],[1.0])|      (1,[0],[1.0])|(57,[0,1,2,3,4,51...|    0|[3.07847808089898...|[0.95599620574542...|       0.0|\n",
            "+-----+------------------+---------------+---------------------+---------------+---------------+-----------------+----------------+----------------------+-----+-----------+------------------------+---------------------+------------+-------------------------+----------------------+------------+-------------------------+----------------------+---------------+----------------------+-------------------+--------------------+-----+--------------------+--------------------+----------+\n",
            "only showing top 10 rows\n",
            "\n"
          ]
        }
      ]
    },
    {
      "cell_type": "code",
      "source": [
        "y_pred_test.select( 'features',  'label', 'prediction', 'churn' ).show( 5 )"
      ],
      "metadata": {
        "colab": {
          "base_uri": "https://localhost:8080/"
        },
        "id": "vGsjNB1S0ZgV",
        "outputId": "8046444d-5b7b-4472-ca64-d019d896b226"
      },
      "execution_count": null,
      "outputs": [
        {
          "output_type": "stream",
          "name": "stdout",
          "text": [
            "+--------------------+-----+----------+-----+\n",
            "|            features|label|prediction|churn|\n",
            "+--------------------+-----+----------+-----+\n",
            "|(57,[0,1,2,3,4,51...|    0|       0.0|false|\n",
            "|(57,[0,1,2,3,4,51...|    0|       0.0|false|\n",
            "|(57,[0,1,2,3,4,51...|    0|       0.0|false|\n",
            "|(57,[0,1,2,3,4,51...|    0|       0.0|false|\n",
            "|(57,[0,1,2,3,4,51...|    0|       0.0|false|\n",
            "+--------------------+-----+----------+-----+\n",
            "only showing top 5 rows\n",
            "\n"
          ]
        }
      ]
    },
    {
      "cell_type": "code",
      "source": [
        "from pyspark.ml.classification import GBTClassifier\n",
        "gbt = GBTClassifier(maxIter = 10, featuresCol='features', labelCol='label')\n",
        "gbt_model = gbt.fit(train_df)"
      ],
      "metadata": {
        "id": "2I2mAv6M2H2S"
      },
      "execution_count": null,
      "outputs": []
    },
    {
      "cell_type": "code",
      "source": [
        "predictions = gbt_model.transform(test_df)"
      ],
      "metadata": {
        "id": "fndgWDVW21sf"
      },
      "execution_count": null,
      "outputs": []
    },
    {
      "cell_type": "code",
      "source": [
        "predictions.show(5)"
      ],
      "metadata": {
        "colab": {
          "base_uri": "https://localhost:8080/"
        },
        "id": "qXzT9BRV24AG",
        "outputId": "fe578d58-5e23-4151-bf25-3e5c2c3f5188"
      },
      "execution_count": null,
      "outputs": [
        {
          "output_type": "stream",
          "name": "stdout",
          "text": [
            "+-----+------------------+---------------+---------------------+---------------+---------------+-----------------+----------------+----------------------+-----+-----------+------------------------+---------------------+------------+-------------------------+----------------------+------------+-------------------------+----------------------+---------------+----------------------+-------------------+--------------------+-----+--------------------+--------------------+----------+\n",
            "|state|international_plan|voice_mail_plan|number_vmail_messages|total_day_calls|total_eve_calls|total_night_calls|total_intl_calls|customer_service_calls|churn|state_Index|international_plan_Index|voice_mail_plan_Index|state_Index1|international_plan_Index1|voice_mail_plan_Index1|state_Index2|international_plan_Index2|voice_mail_plan_Index2|      state_vec|international_plan_vec|voice_mail_plan_vec|            features|label|       rawPrediction|         probability|prediction|\n",
            "+-----+------------------+---------------+---------------------+---------------+---------------+-----------------+----------------+----------------------+-----+-----------+------------------------+---------------------+------------+-------------------------+----------------------+------------+-------------------------+----------------------+---------------+----------------------+-------------------+--------------------+-----+--------------------+--------------------+----------+\n",
            "|   AK|                no|             no|                    0|             62|             53|               96|               3|                     2|false|       46.0|                     0.0|                  0.0|        46.0|                      0.0|                   0.0|        46.0|                      0.0|                   0.0|(50,[46],[1.0])|         (1,[0],[1.0])|      (1,[0],[1.0])|(57,[0,1,2,3,4,51...|    0|[0.93159952128093...|[0.86566938694805...|       0.0|\n",
            "|   AK|                no|             no|                    0|             74|            104|               79|               7|                     1|false|       46.0|                     0.0|                  0.0|        46.0|                      0.0|                   0.0|        46.0|                      0.0|                   0.0|(50,[46],[1.0])|         (1,[0],[1.0])|      (1,[0],[1.0])|(57,[0,1,2,3,4,51...|    0|[1.00016981174682...|[0.88083273165481...|       0.0|\n",
            "|   AK|                no|             no|                    0|             83|             79|              104|               6|                     3|false|       46.0|                     0.0|                  0.0|        46.0|                      0.0|                   0.0|        46.0|                      0.0|                   0.0|(50,[46],[1.0])|         (1,[0],[1.0])|      (1,[0],[1.0])|(57,[0,1,2,3,4,51...|    0|[1.00016981174682...|[0.88083273165481...|       0.0|\n",
            "|   AK|                no|             no|                    0|             84|            129|               82|               4|                     3|false|       46.0|                     0.0|                  0.0|        46.0|                      0.0|                   0.0|        46.0|                      0.0|                   0.0|(50,[46],[1.0])|         (1,[0],[1.0])|      (1,[0],[1.0])|(57,[0,1,2,3,4,51...|    0|[0.98529138946535...|[0.87767369559895...|       0.0|\n",
            "|   AK|                no|             no|                    0|             90|             93|               57|               8|                     3|false|       46.0|                     0.0|                  0.0|        46.0|                      0.0|                   0.0|        46.0|                      0.0|                   0.0|(50,[46],[1.0])|         (1,[0],[1.0])|      (1,[0],[1.0])|(57,[0,1,2,3,4,51...|    0|[1.00016981174682...|[0.88083273165481...|       0.0|\n",
            "+-----+------------------+---------------+---------------------+---------------+---------------+-----------------+----------------+----------------------+-----+-----------+------------------------+---------------------+------------+-------------------------+----------------------+------------+-------------------------+----------------------+---------------+----------------------+-------------------+--------------------+-----+--------------------+--------------------+----------+\n",
            "only showing top 5 rows\n",
            "\n"
          ]
        }
      ]
    },
    {
      "cell_type": "code",
      "source": [
        "from pyspark.ml.evaluation import MulticlassClassificationEvaluator"
      ],
      "metadata": {
        "id": "zmRJMoXp2R89"
      },
      "execution_count": null,
      "outputs": []
    },
    {
      "cell_type": "code",
      "source": [
        "evaluator = MulticlassClassificationEvaluator(labelCol='label', predictionCol='prediction', metricName='accuracy')\n",
        "accuracy = evaluator.evaluate(predictions)\n",
        "accuracy"
      ],
      "metadata": {
        "colab": {
          "base_uri": "https://localhost:8080/"
        },
        "id": "Wq-1gmZn2fAH",
        "outputId": "61033202-4f38-4c86-adfe-52f199beb907"
      },
      "execution_count": null,
      "outputs": [
        {
          "output_type": "execute_result",
          "data": {
            "text/plain": [
              "0.8814814814814815"
            ]
          },
          "metadata": {},
          "execution_count": 99
        }
      ]
    },
    {
      "cell_type": "code",
      "source": [
        "print('Accuracy = %g' % (accuracy))"
      ],
      "metadata": {
        "colab": {
          "base_uri": "https://localhost:8080/"
        },
        "id": "NeolOuI02e79",
        "outputId": "d8e7fd53-b012-47cf-e08e-06a6640c1e54"
      },
      "execution_count": null,
      "outputs": [
        {
          "output_type": "stream",
          "name": "stdout",
          "text": [
            "Accuracy = 0.881481\n"
          ]
        }
      ]
    },
    {
      "cell_type": "code",
      "source": [
        ""
      ],
      "metadata": {
        "id": "g604zwcWB9Gg"
      },
      "execution_count": null,
      "outputs": []
    }
  ]
}