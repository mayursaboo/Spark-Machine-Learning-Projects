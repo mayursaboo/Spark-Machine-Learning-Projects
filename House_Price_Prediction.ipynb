{
  "cells": [
    {
      "cell_type": "markdown",
      "metadata": {
        "id": "XvakoIJ7-E6s"
      },
      "source": [
        "# Regression - Predicting House Prices"
      ]
    },
    {
      "cell_type": "markdown",
      "metadata": {
        "id": "pUF3SGpw-E6y"
      },
      "source": [
        "### Can the house prices of king county be predicted?\n",
        "This dataset contains house sale prices for King County, which includes Seattle. It includes homes sold between May 2014 and May 2015. "
      ]
    },
    {
      "cell_type": "markdown",
      "metadata": {
        "id": "EQd7VToU-E6z"
      },
      "source": [
        "## We can do the following analysis using the library.\n",
        "### Exploratory Analysis\n",
        "- Plot a distribution and box plot for the price variable. Find out if there are any outliers and list them.\n",
        "- Find out which variables are highly correlated with 'price'.\n",
        "- Find out which zip codes have the highest median house 'price'. Do a bar plot to depict the top 10.\n",
        "- Find out if there are any missing values in the dataset and your strategy for imputing those.\n",
        "- Do some variables need feature engineering or transformation, if they need to be used to predict prices. Explain what transformations you will apply.\n",
        "- Model Building\n",
        "    - Build a regression model to predict the prices.\n",
        "- Evaluation\n",
        "    - Calculate the RMSE and R-Squared value on the test data set.\n",
        "    - Build the linear model with L1 and L2 regularization parameters. Do a Grid Search for to find optimal values for hyper parameters.\n",
        "        - Lasso\n",
        "        - Ridge\n",
        "    - Draw a diagram to depict RMSE values for different hyper parameters and show the lowest RMSE at optimal value for L1 and L2 parameters.\n",
        "- Models Comparison\n",
        "    - Build the following models and find the best performing model with lowest RMSE value.\n",
        "    - Ridge\n",
        "    - Lasso\n",
        "    - Elastic Net (With Lasso and Ridge regularizations)\n",
        "    - Decision Tree\n",
        "    - Random Forest"
      ]
    },
    {
      "cell_type": "code",
      "source": [
        "!pip install pyspark\n",
        "\n",
        "!apt-get install openjdk-8-jdk-headless -qq > /dev/null\n",
        "\n",
        "!wget -q https://dlcdn.apache.org/spark/spark-3.2.1/spark-3.2.1-bin-hadoop2.7.tgz\n",
        "\n",
        "!tar xf spark-3.2.1-bin-hadoop2.7.tgz\n",
        "\n",
        "!pip install -q findspark\n",
        "\n",
        "import os\n",
        "os.environ[\"JAVA_HOME\"] = \"/usr/lib/jvm/java-8-openjdk-amd64\"\n",
        "os.environ[\"SPARK_HOME\"] = \"/content/spark-3.2.1-bin-hadoop2.7\"\n",
        "\n",
        "import findspark\n",
        "\n",
        "findspark.init()\n",
        "\n",
        "import pyspark"
      ],
      "metadata": {
        "colab": {
          "base_uri": "https://localhost:8080/"
        },
        "id": "ZKbsxjqA-kKt",
        "outputId": "38804b57-8c8f-45cf-b4cd-004a8034b0c2"
      },
      "execution_count": null,
      "outputs": [
        {
          "output_type": "stream",
          "name": "stdout",
          "text": [
            "Collecting pyspark\n",
            "  Downloading pyspark-3.2.1.tar.gz (281.4 MB)\n",
            "\u001b[K     |████████████████████████████████| 281.4 MB 33 kB/s \n",
            "\u001b[?25hCollecting py4j==0.10.9.3\n",
            "  Downloading py4j-0.10.9.3-py2.py3-none-any.whl (198 kB)\n",
            "\u001b[K     |████████████████████████████████| 198 kB 62.6 MB/s \n",
            "\u001b[?25hBuilding wheels for collected packages: pyspark\n",
            "  Building wheel for pyspark (setup.py) ... \u001b[?25l\u001b[?25hdone\n",
            "  Created wheel for pyspark: filename=pyspark-3.2.1-py2.py3-none-any.whl size=281853642 sha256=b870752b540d389af3eb8739c77c826c0a0978d16ef4f14a8737ff90cf6137fb\n",
            "  Stored in directory: /root/.cache/pip/wheels/9f/f5/07/7cd8017084dce4e93e84e92efd1e1d5334db05f2e83bcef74f\n",
            "Successfully built pyspark\n",
            "Installing collected packages: py4j, pyspark\n",
            "Successfully installed py4j-0.10.9.3 pyspark-3.2.1\n"
          ]
        }
      ]
    },
    {
      "cell_type": "code",
      "execution_count": null,
      "metadata": {
        "id": "_hQVFJiN-E60"
      },
      "outputs": [],
      "source": [
        "### Initialize the spark\n",
        "from pyspark.sql import SparkSession\n",
        "spark = SparkSession.builder.getOrCreate()"
      ]
    },
    {
      "cell_type": "code",
      "execution_count": null,
      "metadata": {
        "id": "_mmhOVdH-E61"
      },
      "outputs": [],
      "source": [
        "import pyspark.ml as ml"
      ]
    },
    {
      "cell_type": "code",
      "execution_count": null,
      "metadata": {
        "id": "LiZObY9o-E66"
      },
      "outputs": [],
      "source": [
        "# Load the dataset\n",
        "housing_df  = spark.read.csv('kc_house_data.csv',inferSchema=True,header=True)"
      ]
    },
    {
      "cell_type": "code",
      "execution_count": null,
      "metadata": {
        "colab": {
          "base_uri": "https://localhost:8080/"
        },
        "id": "JAVAVBuG-E68",
        "outputId": "43b8756f-ad94-4b3c-af86-f7da26364113"
      },
      "outputs": [
        {
          "output_type": "stream",
          "name": "stdout",
          "text": [
            "+----------+---------------+--------+--------+---------+-----------+--------+------+----------+----+---------+-----+----------+-------------+--------+------------+-------+-------+--------+-------------+----------+\n",
            "|id        |date           |price   |bedrooms|bathrooms|sqft_living|sqft_lot|floors|waterfront|view|condition|grade|sqft_above|sqft_basement|yr_built|yr_renovated|zipcode|lat    |long    |sqft_living15|sqft_lot15|\n",
            "+----------+---------------+--------+--------+---------+-----------+--------+------+----------+----+---------+-----+----------+-------------+--------+------------+-------+-------+--------+-------------+----------+\n",
            "|7129300520|20141013T000000|221900.0|3       |1.0      |1180       |5650    |1.0   |0         |0   |3        |7    |1180      |0            |1955    |0           |98178  |47.5112|-122.257|1340         |5650      |\n",
            "|6414100192|20141209T000000|538000.0|3       |2.25     |2570       |7242    |2.0   |0         |0   |3        |7    |2170      |400          |1951    |1991        |98125  |47.721 |-122.319|1690         |7639      |\n",
            "|5631500400|20150225T000000|180000.0|2       |1.0      |770        |10000   |1.0   |0         |0   |3        |6    |770       |0            |1933    |0           |98028  |47.7379|-122.233|2720         |8062      |\n",
            "|2487200875|20141209T000000|604000.0|4       |3.0      |1960       |5000    |1.0   |0         |0   |5        |7    |1050      |910          |1965    |0           |98136  |47.5208|-122.393|1360         |5000      |\n",
            "|1954400510|20150218T000000|510000.0|3       |2.0      |1680       |8080    |1.0   |0         |0   |3        |8    |1680      |0            |1987    |0           |98074  |47.6168|-122.045|1800         |7503      |\n",
            "+----------+---------------+--------+--------+---------+-----------+--------+------+----------+----+---------+-----+----------+-------------+--------+------------+-------+-------+--------+-------------+----------+\n",
            "only showing top 5 rows\n",
            "\n"
          ]
        }
      ],
      "source": [
        "housing_df.show(5, truncate=False)"
      ]
    },
    {
      "cell_type": "code",
      "execution_count": null,
      "metadata": {
        "colab": {
          "base_uri": "https://localhost:8080/"
        },
        "id": "JGq2OqOO-E69",
        "outputId": "13c655f4-aa0b-43aa-ecf4-003c8f8aea61"
      },
      "outputs": [
        {
          "output_type": "stream",
          "name": "stdout",
          "text": [
            "root\n",
            " |-- id: long (nullable = true)\n",
            " |-- date: string (nullable = true)\n",
            " |-- price: double (nullable = true)\n",
            " |-- bedrooms: integer (nullable = true)\n",
            " |-- bathrooms: double (nullable = true)\n",
            " |-- sqft_living: integer (nullable = true)\n",
            " |-- sqft_lot: integer (nullable = true)\n",
            " |-- floors: double (nullable = true)\n",
            " |-- waterfront: integer (nullable = true)\n",
            " |-- view: integer (nullable = true)\n",
            " |-- condition: integer (nullable = true)\n",
            " |-- grade: integer (nullable = true)\n",
            " |-- sqft_above: integer (nullable = true)\n",
            " |-- sqft_basement: integer (nullable = true)\n",
            " |-- yr_built: integer (nullable = true)\n",
            " |-- yr_renovated: integer (nullable = true)\n",
            " |-- zipcode: integer (nullable = true)\n",
            " |-- lat: double (nullable = true)\n",
            " |-- long: double (nullable = true)\n",
            " |-- sqft_living15: integer (nullable = true)\n",
            " |-- sqft_lot15: integer (nullable = true)\n",
            "\n"
          ]
        }
      ],
      "source": [
        "# Let's cache the dataset\n",
        "housing_df.cache()\n",
        "housing_df.printSchema()"
      ]
    },
    {
      "cell_type": "code",
      "execution_count": null,
      "metadata": {
        "colab": {
          "base_uri": "https://localhost:8080/"
        },
        "id": "wPb5XFLj-E69",
        "outputId": "5f82708f-a198-4936-d269-ea7791a5a97c"
      },
      "outputs": [
        {
          "output_type": "execute_result",
          "data": {
            "text/plain": [
              "21613"
            ]
          },
          "metadata": {},
          "execution_count": 275
        }
      ],
      "source": [
        "#How many records in the dataset?\n",
        "housing_df.count()"
      ]
    },
    {
      "cell_type": "code",
      "execution_count": null,
      "metadata": {
        "colab": {
          "base_uri": "https://localhost:8080/"
        },
        "id": "0rhDwtrk-E6-",
        "outputId": "429578d8-1e74-4e93-fe07-c908b86f5566"
      },
      "outputs": [
        {
          "output_type": "stream",
          "name": "stdout",
          "text": [
            "+-------+--------------------+---------------+------------------+-----------------+------------------+------------------+------------------+------------------+--------------------+-------------------+------------------+------------------+------------------+------------------+------------------+------------------+------------------+-------------------+-------------------+-----------------+------------------+\n",
            "|summary|                  id|           date|             price|         bedrooms|         bathrooms|       sqft_living|          sqft_lot|            floors|          waterfront|               view|         condition|             grade|        sqft_above|     sqft_basement|          yr_built|      yr_renovated|           zipcode|                lat|               long|    sqft_living15|        sqft_lot15|\n",
            "+-------+--------------------+---------------+------------------+-----------------+------------------+------------------+------------------+------------------+--------------------+-------------------+------------------+------------------+------------------+------------------+------------------+------------------+------------------+-------------------+-------------------+-----------------+------------------+\n",
            "|  count|               21613|          21613|             21613|            21613|             21613|             21613|             21613|             21613|               21613|              21613|             21613|             21613|             21613|             21613|             21613|             21613|             21613|              21613|              21613|            21613|             21613|\n",
            "|   mean| 4.580301520864988E9|           null| 540088.1417665294| 3.37084162309721|2.1147573219821405|2079.8997362698374|15106.967565816869|1.4943089807060566|0.007541757275713691|0.23430342849211122|3.4094295100171195| 7.656873178179799|1788.3906907879516| 291.5090454818859|1971.0051357978994| 84.40225790033776| 98077.93980474715|  47.56005251931704|-122.21389640494083|1986.552491556008|12768.455651691113|\n",
            "| stddev|2.8765655713120522E9|           null|367127.19648270035|0.930061831147451| 0.770163157217741| 918.4408970468096| 41420.51151513551|0.5399888951423489| 0.08651719772788748| 0.7663175692736114|0.6507430463662044|1.1754587569743344| 828.0909776519175|442.57504267746685|29.373410802386243|401.67924001917504|53.505026257472466|0.13856371024192368|0.14082834238139288|685.3913042527788|27304.179631338524|\n",
            "|    min|             1000102|20140502T000000|           75000.0|                0|               0.0|               290|               520|               1.0|                   0|                  0|                 1|                 1|               290|                 0|              1900|                 0|             98001|            47.1559|           -122.519|              399|               651|\n",
            "|    max|          9900000190|20150527T000000|         7700000.0|               33|               8.0|             13540|           1651359|               3.5|                   1|                  4|                 5|                13|              9410|              4820|              2015|              2015|             98199|            47.7776|           -121.315|             6210|            871200|\n",
            "+-------+--------------------+---------------+------------------+-----------------+------------------+------------------+------------------+------------------+--------------------+-------------------+------------------+------------------+------------------+------------------+------------------+------------------+------------------+-------------------+-------------------+-----------------+------------------+\n",
            "\n"
          ]
        }
      ],
      "source": [
        "housing_df.describe().show()"
      ]
    },
    {
      "cell_type": "markdown",
      "metadata": {
        "id": "_LSzjgsZ-E6-"
      },
      "source": [
        "## Exploring the data"
      ]
    },
    {
      "cell_type": "code",
      "execution_count": null,
      "metadata": {
        "colab": {
          "base_uri": "https://localhost:8080/"
        },
        "id": "PMIJggZN-E6-",
        "outputId": "7f80c8bb-31de-4641-e1ea-747161ae4f25"
      },
      "outputs": [
        {
          "output_type": "stream",
          "name": "stdout",
          "text": [
            "+-------+------------------+------------------+\n",
            "|summary|             price|       sqft_living|\n",
            "+-------+------------------+------------------+\n",
            "|  count|             21613|             21613|\n",
            "|   mean| 540088.1417665294|2079.8997362698374|\n",
            "| stddev|367127.19648270035| 918.4408970468096|\n",
            "|    min|           75000.0|               290|\n",
            "|    max|         7700000.0|             13540|\n",
            "+-------+------------------+------------------+\n",
            "\n"
          ]
        }
      ],
      "source": [
        "#Summary Statistics of price and sqft_living\n",
        "housing_df.describe(\"price\", \"sqft_living\").show()"
      ]
    },
    {
      "cell_type": "code",
      "execution_count": null,
      "metadata": {
        "colab": {
          "base_uri": "https://localhost:8080/"
        },
        "id": "fgTGcKNC-E6_",
        "outputId": "b2d1be3f-e37d-4fea-94dc-bbdf4bfe08c9"
      },
      "outputs": [
        {
          "output_type": "stream",
          "name": "stdout",
          "text": [
            "+----------+-----------------+----------+\n",
            "|max(price)|       avg(price)|min(price)|\n",
            "+----------+-----------------+----------+\n",
            "| 7700000.0|540088.1417665294|   75000.0|\n",
            "+----------+-----------------+----------+\n",
            "\n"
          ]
        }
      ],
      "source": [
        "#We can also explicitly ask for specific stats about columns by passing appropriate stats functions\n",
        "from pyspark.sql.functions import mean, min, max\n",
        "housing_df.select([max('price'), mean('price'), min('price')] ).show()"
      ]
    },
    {
      "cell_type": "code",
      "execution_count": null,
      "metadata": {
        "colab": {
          "base_uri": "https://localhost:8080/"
        },
        "id": "o_QOgAs9-E6_",
        "outputId": "f4b0b0e5-8e39-4c27-b747-f840aeb2f386"
      },
      "outputs": [
        {
          "output_type": "stream",
          "name": "stdout",
          "text": [
            "+-----------------+------------------+\n",
            "|       avg(price)|  avg(sqft_living)|\n",
            "+-----------------+------------------+\n",
            "|540088.1417665294|2079.8997362698374|\n",
            "+-----------------+------------------+\n",
            "\n"
          ]
        }
      ],
      "source": [
        "housing_df.select([mean('price'), mean('sqft_living')] ).show()"
      ]
    },
    {
      "cell_type": "code",
      "execution_count": null,
      "metadata": {
        "colab": {
          "base_uri": "https://localhost:8080/"
        },
        "id": "xOeSBStF-E7A",
        "outputId": "22559b4f-dcfd-4baa-90f7-8e4fcbac59a5"
      },
      "outputs": [
        {
          "output_type": "stream",
          "name": "stdout",
          "text": [
            "+----------+----+\n",
            "|waterfront|view|\n",
            "+----------+----+\n",
            "|         0|   0|\n",
            "|         0|   0|\n",
            "|         0|   0|\n",
            "|         0|   0|\n",
            "|         0|   0|\n",
            "|         0|   0|\n",
            "|         0|   0|\n",
            "|         0|   0|\n",
            "|         0|   0|\n",
            "|         0|   0|\n",
            "+----------+----+\n",
            "only showing top 10 rows\n",
            "\n"
          ]
        }
      ],
      "source": [
        "#Is there any relationship between waterfront and view?\n",
        "bed_bath_df = housing_df.select(['waterfront', 'view'] )\n",
        "bed_bath_df.show(10)"
      ]
    },
    {
      "cell_type": "code",
      "execution_count": null,
      "metadata": {
        "colab": {
          "base_uri": "https://localhost:8080/"
        },
        "id": "mUEM85hw-E7A",
        "outputId": "0d8d3401-2a67-4909-923c-724e0f4f488d"
      },
      "outputs": [
        {
          "output_type": "stream",
          "name": "stdout",
          "text": [
            "+---------------+-----+---+\n",
            "|view_waterfront|    0|  1|\n",
            "+---------------+-----+---+\n",
            "|              0|19489|  0|\n",
            "|              1|  331|  1|\n",
            "|              2|  955|  8|\n",
            "|              3|  491| 19|\n",
            "|              4|  184|135|\n",
            "+---------------+-----+---+\n",
            "\n"
          ]
        }
      ],
      "source": [
        "#Using crosstab function\n",
        "bed_bath_df.stat.crosstab(\"view\", \"waterfront\").show()"
      ]
    },
    {
      "cell_type": "code",
      "execution_count": null,
      "metadata": {
        "colab": {
          "base_uri": "https://localhost:8080/"
        },
        "id": "Weq37nk5-E7A",
        "outputId": "6ec0d60a-f368-443e-9e79-106a7f728caa"
      },
      "outputs": [
        {
          "output_type": "stream",
          "name": "stdout",
          "text": [
            "+---------+-----------------+\n",
            "|condition|       avg(price)|\n",
            "+---------+-----------------+\n",
            "|        1|334431.6666666667|\n",
            "|        3|542012.5781483857|\n",
            "|        5|612418.0893592004|\n",
            "|        4|521200.3900334566|\n",
            "|        2|327287.1453488372|\n",
            "+---------+-----------------+\n",
            "\n"
          ]
        }
      ],
      "source": [
        "#Mean and standard deviation of prices for houses by different conditions\n",
        "from pyspark.sql.functions import avg, stddev\n",
        "\n",
        "price_conditon_avg_df = housing_df.groupBy('condition').agg(avg('price'))\n",
        "price_conditon_avg_df.show()"
      ]
    },
    {
      "cell_type": "code",
      "execution_count": null,
      "metadata": {
        "colab": {
          "base_uri": "https://localhost:8080/"
        },
        "id": "V1-1fYq7-E7B",
        "outputId": "744613b4-edee-4373-e3dd-2d55a0f59cd4"
      },
      "outputs": [
        {
          "output_type": "stream",
          "name": "stdout",
          "text": [
            "+---------+------------------+\n",
            "|condition|stddev_samp(price)|\n",
            "+---------+------------------+\n",
            "|        1|271172.80483730906|\n",
            "|        3| 364449.0623431633|\n",
            "|        5| 410971.9225399082|\n",
            "|        4| 358516.2313502131|\n",
            "|        2|245418.41321957213|\n",
            "+---------+------------------+\n",
            "\n"
          ]
        }
      ],
      "source": [
        "housing_df.groupBy('condition').agg(stddev('price')).show()"
      ]
    },
    {
      "cell_type": "code",
      "execution_count": null,
      "metadata": {
        "id": "sb4YgyI7-E7B"
      },
      "outputs": [],
      "source": [
        "#Plotting distribution of price\n",
        "import matplotlib.pyplot as plt\n",
        "import seaborn as sn\n",
        "%matplotlib inline"
      ]
    },
    {
      "cell_type": "code",
      "execution_count": null,
      "metadata": {
        "id": "jFf0p4A3-E7B"
      },
      "outputs": [],
      "source": [
        "housing_price_pd = housing_df.select('price').toPandas()"
      ]
    },
    {
      "cell_type": "code",
      "execution_count": null,
      "metadata": {
        "colab": {
          "base_uri": "https://localhost:8080/"
        },
        "id": "rZKEvAvr-E7B",
        "outputId": "98cbeaf1-b575-4a6a-9315-d87fa0504f7b"
      },
      "outputs": [
        {
          "output_type": "execute_result",
          "data": {
            "text/plain": [
              "DataFrame[id: bigint, date: string, price: double, bedrooms: int, bathrooms: double, sqft_living: int, sqft_lot: int, floors: double, waterfront: int, view: int, condition: int, grade: int, sqft_above: int, sqft_basement: int, yr_built: int, yr_renovated: int, zipcode: int, lat: double, long: double, sqft_living15: int, sqft_lot15: int]"
            ]
          },
          "metadata": {},
          "execution_count": 286
        }
      ],
      "source": [
        "housing_df"
      ]
    },
    {
      "cell_type": "code",
      "execution_count": null,
      "metadata": {
        "colab": {
          "base_uri": "https://localhost:8080/"
        },
        "id": "LoLlCwln-E7C",
        "outputId": "d23d218a-fe06-45df-d4b8-14fe20813a4c"
      },
      "outputs": [
        {
          "output_type": "stream",
          "name": "stdout",
          "text": [
            "<class 'pandas.core.frame.DataFrame'>\n",
            "RangeIndex: 21613 entries, 0 to 21612\n",
            "Data columns (total 1 columns):\n",
            " #   Column  Non-Null Count  Dtype  \n",
            "---  ------  --------------  -----  \n",
            " 0   price   21613 non-null  float64\n",
            "dtypes: float64(1)\n",
            "memory usage: 169.0 KB\n"
          ]
        }
      ],
      "source": [
        "housing_price_pd.info()"
      ]
    },
    {
      "cell_type": "code",
      "execution_count": null,
      "metadata": {
        "colab": {
          "base_uri": "https://localhost:8080/",
          "height": 206
        },
        "id": "UlihwVk5-E7C",
        "outputId": "3e947d28-3da1-4a52-99a9-8fd3f78f5465"
      },
      "outputs": [
        {
          "output_type": "execute_result",
          "data": {
            "text/plain": [
              "      price\n",
              "0  221900.0\n",
              "1  538000.0\n",
              "2  180000.0\n",
              "3  604000.0\n",
              "4  510000.0"
            ],
            "text/html": [
              "\n",
              "  <div id=\"df-f5a6fbb9-870f-49a8-b7d4-8bcaa982a505\">\n",
              "    <div class=\"colab-df-container\">\n",
              "      <div>\n",
              "<style scoped>\n",
              "    .dataframe tbody tr th:only-of-type {\n",
              "        vertical-align: middle;\n",
              "    }\n",
              "\n",
              "    .dataframe tbody tr th {\n",
              "        vertical-align: top;\n",
              "    }\n",
              "\n",
              "    .dataframe thead th {\n",
              "        text-align: right;\n",
              "    }\n",
              "</style>\n",
              "<table border=\"1\" class=\"dataframe\">\n",
              "  <thead>\n",
              "    <tr style=\"text-align: right;\">\n",
              "      <th></th>\n",
              "      <th>price</th>\n",
              "    </tr>\n",
              "  </thead>\n",
              "  <tbody>\n",
              "    <tr>\n",
              "      <th>0</th>\n",
              "      <td>221900.0</td>\n",
              "    </tr>\n",
              "    <tr>\n",
              "      <th>1</th>\n",
              "      <td>538000.0</td>\n",
              "    </tr>\n",
              "    <tr>\n",
              "      <th>2</th>\n",
              "      <td>180000.0</td>\n",
              "    </tr>\n",
              "    <tr>\n",
              "      <th>3</th>\n",
              "      <td>604000.0</td>\n",
              "    </tr>\n",
              "    <tr>\n",
              "      <th>4</th>\n",
              "      <td>510000.0</td>\n",
              "    </tr>\n",
              "  </tbody>\n",
              "</table>\n",
              "</div>\n",
              "      <button class=\"colab-df-convert\" onclick=\"convertToInteractive('df-f5a6fbb9-870f-49a8-b7d4-8bcaa982a505')\"\n",
              "              title=\"Convert this dataframe to an interactive table.\"\n",
              "              style=\"display:none;\">\n",
              "        \n",
              "  <svg xmlns=\"http://www.w3.org/2000/svg\" height=\"24px\"viewBox=\"0 0 24 24\"\n",
              "       width=\"24px\">\n",
              "    <path d=\"M0 0h24v24H0V0z\" fill=\"none\"/>\n",
              "    <path d=\"M18.56 5.44l.94 2.06.94-2.06 2.06-.94-2.06-.94-.94-2.06-.94 2.06-2.06.94zm-11 1L8.5 8.5l.94-2.06 2.06-.94-2.06-.94L8.5 2.5l-.94 2.06-2.06.94zm10 10l.94 2.06.94-2.06 2.06-.94-2.06-.94-.94-2.06-.94 2.06-2.06.94z\"/><path d=\"M17.41 7.96l-1.37-1.37c-.4-.4-.92-.59-1.43-.59-.52 0-1.04.2-1.43.59L10.3 9.45l-7.72 7.72c-.78.78-.78 2.05 0 2.83L4 21.41c.39.39.9.59 1.41.59.51 0 1.02-.2 1.41-.59l7.78-7.78 2.81-2.81c.8-.78.8-2.07 0-2.86zM5.41 20L4 18.59l7.72-7.72 1.47 1.35L5.41 20z\"/>\n",
              "  </svg>\n",
              "      </button>\n",
              "      \n",
              "  <style>\n",
              "    .colab-df-container {\n",
              "      display:flex;\n",
              "      flex-wrap:wrap;\n",
              "      gap: 12px;\n",
              "    }\n",
              "\n",
              "    .colab-df-convert {\n",
              "      background-color: #E8F0FE;\n",
              "      border: none;\n",
              "      border-radius: 50%;\n",
              "      cursor: pointer;\n",
              "      display: none;\n",
              "      fill: #1967D2;\n",
              "      height: 32px;\n",
              "      padding: 0 0 0 0;\n",
              "      width: 32px;\n",
              "    }\n",
              "\n",
              "    .colab-df-convert:hover {\n",
              "      background-color: #E2EBFA;\n",
              "      box-shadow: 0px 1px 2px rgba(60, 64, 67, 0.3), 0px 1px 3px 1px rgba(60, 64, 67, 0.15);\n",
              "      fill: #174EA6;\n",
              "    }\n",
              "\n",
              "    [theme=dark] .colab-df-convert {\n",
              "      background-color: #3B4455;\n",
              "      fill: #D2E3FC;\n",
              "    }\n",
              "\n",
              "    [theme=dark] .colab-df-convert:hover {\n",
              "      background-color: #434B5C;\n",
              "      box-shadow: 0px 1px 3px 1px rgba(0, 0, 0, 0.15);\n",
              "      filter: drop-shadow(0px 1px 2px rgba(0, 0, 0, 0.3));\n",
              "      fill: #FFFFFF;\n",
              "    }\n",
              "  </style>\n",
              "\n",
              "      <script>\n",
              "        const buttonEl =\n",
              "          document.querySelector('#df-f5a6fbb9-870f-49a8-b7d4-8bcaa982a505 button.colab-df-convert');\n",
              "        buttonEl.style.display =\n",
              "          google.colab.kernel.accessAllowed ? 'block' : 'none';\n",
              "\n",
              "        async function convertToInteractive(key) {\n",
              "          const element = document.querySelector('#df-f5a6fbb9-870f-49a8-b7d4-8bcaa982a505');\n",
              "          const dataTable =\n",
              "            await google.colab.kernel.invokeFunction('convertToInteractive',\n",
              "                                                     [key], {});\n",
              "          if (!dataTable) return;\n",
              "\n",
              "          const docLinkHtml = 'Like what you see? Visit the ' +\n",
              "            '<a target=\"_blank\" href=https://colab.research.google.com/notebooks/data_table.ipynb>data table notebook</a>'\n",
              "            + ' to learn more about interactive tables.';\n",
              "          element.innerHTML = '';\n",
              "          dataTable['output_type'] = 'display_data';\n",
              "          await google.colab.output.renderOutput(dataTable, element);\n",
              "          const docLink = document.createElement('div');\n",
              "          docLink.innerHTML = docLinkHtml;\n",
              "          element.appendChild(docLink);\n",
              "        }\n",
              "      </script>\n",
              "    </div>\n",
              "  </div>\n",
              "  "
            ]
          },
          "metadata": {},
          "execution_count": 288
        }
      ],
      "source": [
        "housing_price_pd.head()"
      ]
    },
    {
      "cell_type": "code",
      "execution_count": null,
      "metadata": {
        "id": "6p5V1r_N-E7C"
      },
      "outputs": [],
      "source": [
        "import pandas as pd"
      ]
    },
    {
      "cell_type": "code",
      "execution_count": null,
      "metadata": {
        "colab": {
          "base_uri": "https://localhost:8080/",
          "height": 477
        },
        "id": "KSmmbW9j-E7C",
        "outputId": "33618f04-503e-4ed0-a1b7-2e71a53ff27c"
      },
      "outputs": [
        {
          "output_type": "stream",
          "name": "stderr",
          "text": [
            "/usr/local/lib/python3.7/dist-packages/seaborn/distributions.py:2619: FutureWarning: `distplot` is a deprecated function and will be removed in a future version. Please adapt your code to use either `displot` (a figure-level function with similar flexibility) or `histplot` (an axes-level function for histograms).\n",
            "  warnings.warn(msg, FutureWarning)\n"
          ]
        },
        {
          "output_type": "execute_result",
          "data": {
            "text/plain": [
              "<matplotlib.axes._subplots.AxesSubplot at 0x7f24642ef5d0>"
            ]
          },
          "metadata": {},
          "execution_count": 290
        },
        {
          "output_type": "display_data",
          "data": {
            "text/plain": [
              "<Figure size 720x432 with 1 Axes>"
            ],
            "image/png": "[encoded data removed]"
          },
          "metadata": {}
        }
      ],
      "source": [
        "#Density Plot\n",
        "sn.set(rc={\"figure.figsize\": (10, 6)})\n",
        "sn.distplot(pd.to_numeric(housing_price_pd['price']), norm_hist=True)"
      ]
    },
    {
      "cell_type": "code",
      "execution_count": null,
      "metadata": {
        "colab": {
          "base_uri": "https://localhost:8080/",
          "height": 411
        },
        "id": "5kGwl-LO-E7D",
        "outputId": "bd7ac68c-f62c-40cd-bb7c-50e353435f52"
      },
      "outputs": [
        {
          "output_type": "execute_result",
          "data": {
            "text/plain": [
              "<matplotlib.axes._subplots.AxesSubplot at 0x7f246427f810>"
            ]
          },
          "metadata": {},
          "execution_count": 291
        },
        {
          "output_type": "display_data",
          "data": {
            "text/plain": [
              "<Figure size 720x432 with 1 Axes>"
            ],
            "image/png": "[encoded data removed]"
          },
          "metadata": {}
        }
      ],
      "source": [
        "#Boxplot\n",
        "sn.boxplot(x= pd.to_numeric(housing_price_pd['price']))"
      ]
    },
    {
      "cell_type": "markdown",
      "metadata": {
        "id": "cXbtXP2F-E7D"
      },
      "source": [
        "We can observe there are many outliers in the dataset as far as price is concerned"
      ]
    },
    {
      "cell_type": "code",
      "execution_count": null,
      "metadata": {
        "id": "VUxGg9lr-E7D"
      },
      "outputs": [],
      "source": [
        "#Correlation between price and sqft_living\n",
        "column_labels = ['price','sqft_living', 'sqft_lot', 'bedrooms','bathrooms', \\\n",
        "         'floors', 'sqft_above', 'sqft_basement','yr_built','yr_renovated', \\\n",
        "        'sqft_living15', 'sqft_lot15']"
      ]
    },
    {
      "cell_type": "code",
      "execution_count": null,
      "metadata": {
        "colab": {
          "base_uri": "https://localhost:8080/"
        },
        "id": "reqs_kXV-E7D",
        "outputId": "60dc56d9-3897-4412-ada5-7e85f86d196c"
      },
      "outputs": [
        {
          "output_type": "execute_result",
          "data": {
            "text/plain": [
              "0.7020350546118005"
            ]
          },
          "metadata": {},
          "execution_count": 293
        }
      ],
      "source": [
        "housing_df.stat.corr( 'price', 'sqft_living' )"
      ]
    },
    {
      "cell_type": "markdown",
      "metadata": {
        "id": "HK5069qa-E7E"
      },
      "source": [
        "sqft_living is highly correated with price"
      ]
    },
    {
      "cell_type": "code",
      "execution_count": null,
      "metadata": {
        "id": "p-_eXWkz-E7E"
      },
      "outputs": [],
      "source": [
        "# Which factors are hightly correlated with price\n",
        "import numpy as np\n",
        "from pyspark.mllib.stat import Statistics\n"
      ]
    },
    {
      "cell_type": "code",
      "execution_count": null,
      "metadata": {
        "id": "L8jsGo3R-E7E"
      },
      "outputs": [],
      "source": [
        "column_corr = Statistics.corr(housing_df.rdd.map(lambda x:\n",
        "                         np.array([x['price'],\n",
        "                                   x['sqft_living'],\n",
        "                                   x['sqft_lot'],\n",
        "                                   x['bedrooms'],\n",
        "                                   x['bathrooms'],\n",
        "                                   x['floors'],\n",
        "                                   x['sqft_above'],\n",
        "                                   x['sqft_basement'],\n",
        "                                   x['yr_built'],\n",
        "                                   x['yr_renovated'],\n",
        "                                   x['sqft_living15'],\n",
        "                                   x['sqft_lot15']\n",
        "                                  ])), method='pearson')"
      ]
    },
    {
      "cell_type": "code",
      "execution_count": null,
      "metadata": {
        "colab": {
          "base_uri": "https://localhost:8080/",
          "height": 469
        },
        "id": "TgYecwrh-E7E",
        "outputId": "d9c31f5e-6034-4d30-eba3-e7d8d1bdd134"
      },
      "outputs": [
        {
          "output_type": "execute_result",
          "data": {
            "text/plain": [
              "<matplotlib.axes._subplots.AxesSubplot at 0x7f245b468e50>"
            ]
          },
          "metadata": {},
          "execution_count": 296
        },
        {
          "output_type": "display_data",
          "data": {
            "text/plain": [
              "<Figure size 720x432 with 2 Axes>"
            ],
            "image/png": "[encoded data removed]"
          },
          "metadata": {}
        }
      ],
      "source": [
        "sn.heatmap( column_corr, vmin=0,\n",
        "          vmax=1,\n",
        "          annot= True,\n",
        "          xticklabels = column_labels,\n",
        "          yticklabels = column_labels )"
      ]
    },
    {
      "cell_type": "markdown",
      "metadata": {
        "id": "B1AX56tb-E7F"
      },
      "source": [
        "The factors sqft_living, number of bathrooms, sqft_living15 and sqft_above seem to be highly correlated with price and can be good predictors for price"
      ]
    },
    {
      "cell_type": "code",
      "execution_count": null,
      "metadata": {
        "id": "QbZdunbF-E7F"
      },
      "outputs": [],
      "source": [
        "# Which zipcodes have high median prices\n",
        "from pyspark.sql.functions import desc\n",
        "\n",
        "price_by_zipcodes_df = housing_df.groupBy('zipcode').agg(avg('price')).sort( desc( 'avg(price)') )"
      ]
    },
    {
      "cell_type": "code",
      "execution_count": null,
      "metadata": {
        "colab": {
          "base_uri": "https://localhost:8080/",
          "height": 363
        },
        "id": "n2Cf51tg-E7F",
        "outputId": "072ad299-8a4b-4501-a7db-0fa717979eed"
      },
      "outputs": [
        {
          "output_type": "execute_result",
          "data": {
            "text/plain": [
              "   zipcode    avg(price)\n",
              "0    98039  2.160607e+06\n",
              "1    98004  1.355927e+06\n",
              "2    98040  1.194230e+06\n",
              "3    98112  1.095499e+06\n",
              "4    98102  9.012583e+05\n",
              "5    98109  8.796236e+05\n",
              "6    98105  8.628252e+05\n",
              "7    98006  8.596848e+05\n",
              "8    98119  8.494480e+05\n",
              "9    98005  8.101649e+05"
            ],
            "text/html": [
              "\n",
              "  <div id=\"df-5556d556-7488-4b79-ad13-77b4fdc43570\">\n",
              "    <div class=\"colab-df-container\">\n",
              "      <div>\n",
              "<style scoped>\n",
              "    .dataframe tbody tr th:only-of-type {\n",
              "        vertical-align: middle;\n",
              "    }\n",
              "\n",
              "    .dataframe tbody tr th {\n",
              "        vertical-align: top;\n",
              "    }\n",
              "\n",
              "    .dataframe thead th {\n",
              "        text-align: right;\n",
              "    }\n",
              "</style>\n",
              "<table border=\"1\" class=\"dataframe\">\n",
              "  <thead>\n",
              "    <tr style=\"text-align: right;\">\n",
              "      <th></th>\n",
              "      <th>zipcode</th>\n",
              "      <th>avg(price)</th>\n",
              "    </tr>\n",
              "  </thead>\n",
              "  <tbody>\n",
              "    <tr>\n",
              "      <th>0</th>\n",
              "      <td>98039</td>\n",
              "      <td>2.160607e+06</td>\n",
              "    </tr>\n",
              "    <tr>\n",
              "      <th>1</th>\n",
              "      <td>98004</td>\n",
              "      <td>1.355927e+06</td>\n",
              "    </tr>\n",
              "    <tr>\n",
              "      <th>2</th>\n",
              "      <td>98040</td>\n",
              "      <td>1.194230e+06</td>\n",
              "    </tr>\n",
              "    <tr>\n",
              "      <th>3</th>\n",
              "      <td>98112</td>\n",
              "      <td>1.095499e+06</td>\n",
              "    </tr>\n",
              "    <tr>\n",
              "      <th>4</th>\n",
              "      <td>98102</td>\n",
              "      <td>9.012583e+05</td>\n",
              "    </tr>\n",
              "    <tr>\n",
              "      <th>5</th>\n",
              "      <td>98109</td>\n",
              "      <td>8.796236e+05</td>\n",
              "    </tr>\n",
              "    <tr>\n",
              "      <th>6</th>\n",
              "      <td>98105</td>\n",
              "      <td>8.628252e+05</td>\n",
              "    </tr>\n",
              "    <tr>\n",
              "      <th>7</th>\n",
              "      <td>98006</td>\n",
              "      <td>8.596848e+05</td>\n",
              "    </tr>\n",
              "    <tr>\n",
              "      <th>8</th>\n",
              "      <td>98119</td>\n",
              "      <td>8.494480e+05</td>\n",
              "    </tr>\n",
              "    <tr>\n",
              "      <th>9</th>\n",
              "      <td>98005</td>\n",
              "      <td>8.101649e+05</td>\n",
              "    </tr>\n",
              "  </tbody>\n",
              "</table>\n",
              "</div>\n",
              "      <button class=\"colab-df-convert\" onclick=\"convertToInteractive('df-5556d556-7488-4b79-ad13-77b4fdc43570')\"\n",
              "              title=\"Convert this dataframe to an interactive table.\"\n",
              "              style=\"display:none;\">\n",
              "        \n",
              "  <svg xmlns=\"http://www.w3.org/2000/svg\" height=\"24px\"viewBox=\"0 0 24 24\"\n",
              "       width=\"24px\">\n",
              "    <path d=\"M0 0h24v24H0V0z\" fill=\"none\"/>\n",
              "    <path d=\"M18.56 5.44l.94 2.06.94-2.06 2.06-.94-2.06-.94-.94-2.06-.94 2.06-2.06.94zm-11 1L8.5 8.5l.94-2.06 2.06-.94-2.06-.94L8.5 2.5l-.94 2.06-2.06.94zm10 10l.94 2.06.94-2.06 2.06-.94-2.06-.94-.94-2.06-.94 2.06-2.06.94z\"/><path d=\"M17.41 7.96l-1.37-1.37c-.4-.4-.92-.59-1.43-.59-.52 0-1.04.2-1.43.59L10.3 9.45l-7.72 7.72c-.78.78-.78 2.05 0 2.83L4 21.41c.39.39.9.59 1.41.59.51 0 1.02-.2 1.41-.59l7.78-7.78 2.81-2.81c.8-.78.8-2.07 0-2.86zM5.41 20L4 18.59l7.72-7.72 1.47 1.35L5.41 20z\"/>\n",
              "  </svg>\n",
              "      </button>\n",
              "      \n",
              "  <style>\n",
              "    .colab-df-container {\n",
              "      display:flex;\n",
              "      flex-wrap:wrap;\n",
              "      gap: 12px;\n",
              "    }\n",
              "\n",
              "    .colab-df-convert {\n",
              "      background-color: #E8F0FE;\n",
              "      border: none;\n",
              "      border-radius: 50%;\n",
              "      cursor: pointer;\n",
              "      display: none;\n",
              "      fill: #1967D2;\n",
              "      height: 32px;\n",
              "      padding: 0 0 0 0;\n",
              "      width: 32px;\n",
              "    }\n",
              "\n",
              "    .colab-df-convert:hover {\n",
              "      background-color: #E2EBFA;\n",
              "      box-shadow: 0px 1px 2px rgba(60, 64, 67, 0.3), 0px 1px 3px 1px rgba(60, 64, 67, 0.15);\n",
              "      fill: #174EA6;\n",
              "    }\n",
              "\n",
              "    [theme=dark] .colab-df-convert {\n",
              "      background-color: #3B4455;\n",
              "      fill: #D2E3FC;\n",
              "    }\n",
              "\n",
              "    [theme=dark] .colab-df-convert:hover {\n",
              "      background-color: #434B5C;\n",
              "      box-shadow: 0px 1px 3px 1px rgba(0, 0, 0, 0.15);\n",
              "      filter: drop-shadow(0px 1px 2px rgba(0, 0, 0, 0.3));\n",
              "      fill: #FFFFFF;\n",
              "    }\n",
              "  </style>\n",
              "\n",
              "      <script>\n",
              "        const buttonEl =\n",
              "          document.querySelector('#df-5556d556-7488-4b79-ad13-77b4fdc43570 button.colab-df-convert');\n",
              "        buttonEl.style.display =\n",
              "          google.colab.kernel.accessAllowed ? 'block' : 'none';\n",
              "\n",
              "        async function convertToInteractive(key) {\n",
              "          const element = document.querySelector('#df-5556d556-7488-4b79-ad13-77b4fdc43570');\n",
              "          const dataTable =\n",
              "            await google.colab.kernel.invokeFunction('convertToInteractive',\n",
              "                                                     [key], {});\n",
              "          if (!dataTable) return;\n",
              "\n",
              "          const docLinkHtml = 'Like what you see? Visit the ' +\n",
              "            '<a target=\"_blank\" href=https://colab.research.google.com/notebooks/data_table.ipynb>data table notebook</a>'\n",
              "            + ' to learn more about interactive tables.';\n",
              "          element.innerHTML = '';\n",
              "          dataTable['output_type'] = 'display_data';\n",
              "          await google.colab.output.renderOutput(dataTable, element);\n",
              "          const docLink = document.createElement('div');\n",
              "          docLink.innerHTML = docLinkHtml;\n",
              "          element.appendChild(docLink);\n",
              "        }\n",
              "      </script>\n",
              "    </div>\n",
              "  </div>\n",
              "  "
            ]
          },
          "metadata": {},
          "execution_count": 298
        }
      ],
      "source": [
        "price_by_zipcodes_df.toPandas()[0:10]"
      ]
    },
    {
      "cell_type": "code",
      "execution_count": null,
      "metadata": {
        "id": "maS7ONc0-E7F"
      },
      "outputs": [],
      "source": [
        "top_10_zipcodes = price_by_zipcodes_df.toPandas()[0:10]"
      ]
    },
    {
      "cell_type": "code",
      "execution_count": null,
      "metadata": {
        "colab": {
          "base_uri": "https://localhost:8080/",
          "height": 422
        },
        "id": "XCjQH_AO-E7F",
        "outputId": "c0df44dc-e7eb-426c-dd25-4176d2239a1b"
      },
      "outputs": [
        {
          "output_type": "execute_result",
          "data": {
            "text/plain": [
              "<matplotlib.axes._subplots.AxesSubplot at 0x7f245b1d2990>"
            ]
          },
          "metadata": {},
          "execution_count": 300
        },
        {
          "output_type": "display_data",
          "data": {
            "text/plain": [
              "<Figure size 720x432 with 1 Axes>"
            ],
            "image/png": "[encoded data removed]"
          },
          "metadata": {}
        }
      ],
      "source": [
        "sn.barplot( data = top_10_zipcodes,\n",
        "          x='zipcode',\n",
        "          y='avg(price)',\n",
        "          order = top_10_zipcodes.zipcode)"
      ]
    },
    {
      "cell_type": "code",
      "execution_count": null,
      "metadata": {
        "id": "l7DcpVDO-E7G"
      },
      "outputs": [],
      "source": [
        "#Any null(missings) values\n",
        "from pyspark.sql.functions import isnull\n",
        "\n",
        "house_df_clean = housing_df.na.drop( how = 'any' )"
      ]
    },
    {
      "cell_type": "code",
      "execution_count": null,
      "metadata": {
        "colab": {
          "base_uri": "https://localhost:8080/"
        },
        "id": "S8c-vT_U-E7G",
        "outputId": "1e8ce141-338f-4da6-bc5f-c241b62bcba7"
      },
      "outputs": [
        {
          "output_type": "execute_result",
          "data": {
            "text/plain": [
              "True"
            ]
          },
          "metadata": {},
          "execution_count": 302
        }
      ],
      "source": [
        "house_df_clean.count() == housing_df.count()"
      ]
    },
    {
      "cell_type": "markdown",
      "metadata": {
        "id": "ww787mlP-E7G"
      },
      "source": [
        "Both the row counts are same. Hence no null values in any of the columns."
      ]
    },
    {
      "cell_type": "markdown",
      "metadata": {
        "id": "ikZh_DCX-E7G"
      },
      "source": [
        "## Feature Engineering\n",
        "- Creating or transforming features is a criticial step for building models. For example, if a variable is skewed, it can be log transformed to make it more normal. Also, derive features from existing features, which can explain or predict the response variable.\n",
        "\n",
        "### Log transformation for price variable\n",
        "- price variable is right skewed. We can apply log transformation to make it normally distributed."
      ]
    },
    {
      "cell_type": "code",
      "execution_count": null,
      "metadata": {
        "colab": {
          "base_uri": "https://localhost:8080/",
          "height": 477
        },
        "id": "butOmdMD-E7G",
        "outputId": "ab6b519d-b698-4bc0-92cb-05a51d351261"
      },
      "outputs": [
        {
          "output_type": "stream",
          "name": "stderr",
          "text": [
            "/usr/local/lib/python3.7/dist-packages/seaborn/distributions.py:2619: FutureWarning: `distplot` is a deprecated function and will be removed in a future version. Please adapt your code to use either `displot` (a figure-level function with similar flexibility) or `histplot` (an axes-level function for histograms).\n",
            "  warnings.warn(msg, FutureWarning)\n"
          ]
        },
        {
          "output_type": "execute_result",
          "data": {
            "text/plain": [
              "<matplotlib.axes._subplots.AxesSubplot at 0x7f246463a210>"
            ]
          },
          "metadata": {},
          "execution_count": 303
        },
        {
          "output_type": "display_data",
          "data": {
            "text/plain": [
              "<Figure size 720x432 with 1 Axes>"
            ],
            "image/png": "[encoded data removed]"
          },
          "metadata": {}
        }
      ],
      "source": [
        "sn.set(rc={\"figure.figsize\": (10, 6)})\n",
        "sn.distplot(pd.to_numeric(housing_price_pd['price']), norm_hist=True)"
      ]
    },
    {
      "cell_type": "code",
      "execution_count": null,
      "metadata": {
        "id": "5yowOTv3-E7H"
      },
      "outputs": [],
      "source": [
        "from pyspark.sql.functions import col, log\n",
        "housing_df = housing_df.withColumn( 'log_price', log('price') )"
      ]
    },
    {
      "cell_type": "code",
      "execution_count": null,
      "metadata": {
        "colab": {
          "base_uri": "https://localhost:8080/",
          "height": 449
        },
        "id": "_-ghsioS-E7H",
        "outputId": "7c7403be-ec6d-4180-a8cd-83342daf0af4"
      },
      "outputs": [
        {
          "output_type": "stream",
          "name": "stderr",
          "text": [
            "/usr/local/lib/python3.7/dist-packages/seaborn/distributions.py:2619: FutureWarning: `distplot` is a deprecated function and will be removed in a future version. Please adapt your code to use either `displot` (a figure-level function with similar flexibility) or `histplot` (an axes-level function for histograms).\n",
            "  warnings.warn(msg, FutureWarning)\n"
          ]
        },
        {
          "output_type": "execute_result",
          "data": {
            "text/plain": [
              "<matplotlib.axes._subplots.AxesSubplot at 0x7f2464312390>"
            ]
          },
          "metadata": {},
          "execution_count": 305
        },
        {
          "output_type": "display_data",
          "data": {
            "text/plain": [
              "<Figure size 720x432 with 1 Axes>"
            ],
            "image/png": "[encoded data removed]"
          },
          "metadata": {}
        }
      ],
      "source": [
        "sn.set(rc={\"figure.figsize\": (10, 6)})\n",
        "sn.distplot(housing_df.select('log_price').toPandas(), norm_hist=True)"
      ]
    },
    {
      "cell_type": "code",
      "execution_count": null,
      "metadata": {
        "colab": {
          "base_uri": "https://localhost:8080/",
          "height": 364
        },
        "id": "NkiTJsSk-E7I",
        "outputId": "1c4fdc63-12e9-4330-ed60-628198a8cc31"
      },
      "outputs": [
        {
          "output_type": "stream",
          "name": "stderr",
          "text": [
            "/usr/local/lib/python3.7/dist-packages/seaborn/distributions.py:2619: FutureWarning: `distplot` is a deprecated function and will be removed in a future version. Please adapt your code to use either `displot` (a figure-level function with similar flexibility) or `histplot` (an axes-level function for histograms).\n",
            "  warnings.warn(msg, FutureWarning)\n"
          ]
        },
        {
          "output_type": "execute_result",
          "data": {
            "text/plain": [
              "<matplotlib.axes._subplots.AxesSubplot at 0x7f245af61d90>"
            ]
          },
          "metadata": {},
          "execution_count": 306
        },
        {
          "output_type": "display_data",
          "data": {
            "text/plain": [
              "<Figure size 576x288 with 1 Axes>"
            ],
            "image/png": "[encoded data removed]"
          },
          "metadata": {}
        }
      ],
      "source": [
        "#Log transformation for sqft_living variable\n",
        "sn.set(rc={\"figure.figsize\": (8, 4)})\n",
        "sn.distplot(housing_df.select('sqft_lot').toPandas(), norm_hist=True)"
      ]
    },
    {
      "cell_type": "code",
      "execution_count": null,
      "metadata": {
        "colab": {
          "base_uri": "https://localhost:8080/",
          "height": 340
        },
        "id": "QQg2VKWm-E7I",
        "outputId": "17f6ee49-3195-47d6-bed1-436db4f9a075"
      },
      "outputs": [
        {
          "output_type": "stream",
          "name": "stderr",
          "text": [
            "/usr/local/lib/python3.7/dist-packages/seaborn/distributions.py:2619: FutureWarning: `distplot` is a deprecated function and will be removed in a future version. Please adapt your code to use either `displot` (a figure-level function with similar flexibility) or `histplot` (an axes-level function for histograms).\n",
            "  warnings.warn(msg, FutureWarning)\n"
          ]
        },
        {
          "output_type": "execute_result",
          "data": {
            "text/plain": [
              "<matplotlib.axes._subplots.AxesSubplot at 0x7f245b01fbd0>"
            ]
          },
          "metadata": {},
          "execution_count": 307
        },
        {
          "output_type": "display_data",
          "data": {
            "text/plain": [
              "<Figure size 576x288 with 1 Axes>"
            ],
            "image/png": "[encoded data removed]"
          },
          "metadata": {}
        }
      ],
      "source": [
        "housing_df = housing_df.withColumn( 'log_sqft_lot', log('sqft_lot') )\n",
        "sn.distplot(housing_df.select('log_sqft_lot').toPandas(), norm_hist=True)"
      ]
    },
    {
      "cell_type": "code",
      "execution_count": null,
      "metadata": {
        "colab": {
          "base_uri": "https://localhost:8080/"
        },
        "id": "RUD-FnhV-E7I",
        "outputId": "1a0edd61-ae26-40b4-8d9c-2c921e6315e1"
      },
      "outputs": [
        {
          "output_type": "execute_result",
          "data": {
            "text/plain": [
              "0.0896608605871003"
            ]
          },
          "metadata": {},
          "execution_count": 308
        }
      ],
      "source": [
        "#Correlating log transformed of price and sqft_living\n",
        "housing_df.stat.corr( 'price', 'sqft_lot' )"
      ]
    },
    {
      "cell_type": "code",
      "execution_count": null,
      "metadata": {
        "colab": {
          "base_uri": "https://localhost:8080/"
        },
        "id": "1pbBoq89-E7J",
        "outputId": "1961a9de-eb7c-41dd-8faf-1d0cd2fbf1b0"
      },
      "outputs": [
        {
          "output_type": "execute_result",
          "data": {
            "text/plain": [
              "0.13772713692112706"
            ]
          },
          "metadata": {},
          "execution_count": 309
        }
      ],
      "source": [
        "housing_df.stat.corr( 'log_price', 'log_sqft_lot' )"
      ]
    },
    {
      "cell_type": "code",
      "source": [
        "housing_df.stat.corr( 'log_price', 'sqft_lot' )"
      ],
      "metadata": {
        "colab": {
          "base_uri": "https://localhost:8080/"
        },
        "id": "YoXvUGt2DhAe",
        "outputId": "66de22ad-1265-4e08-c971-b18729f8f606"
      },
      "execution_count": null,
      "outputs": [
        {
          "output_type": "execute_result",
          "data": {
            "text/plain": [
              "0.09962221990069252"
            ]
          },
          "metadata": {},
          "execution_count": 310
        }
      ]
    },
    {
      "cell_type": "markdown",
      "metadata": {
        "id": "SycA2AZO-E7J"
      },
      "source": [
        "#### Calculating age of the house\n",
        "- Age of the house may be influencing the price of the house.\n",
        "- Assuming 2015 as the base year, how old the house is can be computed and used as a variable to predict the house prices"
      ]
    },
    {
      "cell_type": "code",
      "execution_count": null,
      "metadata": {
        "id": "71zPbRba-E7J"
      },
      "outputs": [],
      "source": [
        "from pyspark.sql.functions import lit\n",
        "\n",
        "housing_df = housing_df.withColumn(\"age\", lit(2015) - col('yr_built'))"
      ]
    },
    {
      "cell_type": "code",
      "execution_count": null,
      "metadata": {
        "colab": {
          "base_uri": "https://localhost:8080/"
        },
        "id": "GFr7Yv4Q-E7J",
        "outputId": "3c19621f-d4ad-409d-9bac-0f348ce3492b"
      },
      "outputs": [
        {
          "output_type": "stream",
          "name": "stdout",
          "text": [
            "+----------+---------------+--------+--------+---------+-----------+--------+------+----------+----+---------+-----+----------+-------------+--------+------------+-------+-------+--------+-------------+----------+------------------+-----------------+---+\n",
            "|        id|           date|   price|bedrooms|bathrooms|sqft_living|sqft_lot|floors|waterfront|view|condition|grade|sqft_above|sqft_basement|yr_built|yr_renovated|zipcode|    lat|    long|sqft_living15|sqft_lot15|         log_price|     log_sqft_lot|age|\n",
            "+----------+---------------+--------+--------+---------+-----------+--------+------+----------+----+---------+-----+----------+-------------+--------+------------+-------+-------+--------+-------------+----------+------------------+-----------------+---+\n",
            "|7129300520|20141013T000000|221900.0|       3|      1.0|       1180|    5650|   1.0|         0|   0|        3|    7|      1180|            0|    1955|           0|  98178|47.5112|-122.257|         1340|      5650|12.309982108920686|8.639410824140487| 60|\n",
            "|6414100192|20141209T000000|538000.0|       3|     2.25|       2570|    7242|   2.0|         0|   0|        3|    7|      2170|          400|    1951|        1991|  98125| 47.721|-122.319|         1690|      7639|13.195613839143922|8.887652690325586| 64|\n",
            "|5631500400|20150225T000000|180000.0|       2|      1.0|        770|   10000|   1.0|         0|   0|        3|    6|       770|            0|    1933|           0|  98028|47.7379|-122.233|         2720|      8062|12.100712129872347|9.210340371976184| 82|\n",
            "|2487200875|20141209T000000|604000.0|       4|      3.0|       1960|    5000|   1.0|         0|   0|        5|    7|      1050|          910|    1965|           0|  98136|47.5208|-122.393|         1360|      5000|13.311329476916953|8.517193191416238| 50|\n",
            "|1954400510|20150218T000000|510000.0|       3|      2.0|       1680|    8080|   1.0|         0|   0|        3|    8|      1680|            0|    1987|           0|  98074|47.6168|-122.045|         1800|      7503|13.142166004700508|8.997147151515142| 28|\n",
            "+----------+---------------+--------+--------+---------+-----------+--------+------+----------+----+---------+-----+----------+-------------+--------+------------+-------+-------+--------+-------------+----------+------------------+-----------------+---+\n",
            "only showing top 5 rows\n",
            "\n"
          ]
        }
      ],
      "source": [
        "housing_df.show( 5 )"
      ]
    },
    {
      "cell_type": "code",
      "execution_count": null,
      "metadata": {
        "colab": {
          "base_uri": "https://localhost:8080/"
        },
        "id": "1uSsvXnW-E7K",
        "outputId": "9977946d-54ce-444f-96a2-a904a248439c"
      },
      "outputs": [
        {
          "output_type": "execute_result",
          "data": {
            "text/plain": [
              "['id',\n",
              " 'date',\n",
              " 'price',\n",
              " 'bedrooms',\n",
              " 'bathrooms',\n",
              " 'sqft_living',\n",
              " 'sqft_lot',\n",
              " 'floors',\n",
              " 'waterfront',\n",
              " 'view',\n",
              " 'condition',\n",
              " 'grade',\n",
              " 'sqft_above',\n",
              " 'sqft_basement',\n",
              " 'yr_built',\n",
              " 'yr_renovated',\n",
              " 'zipcode',\n",
              " 'lat',\n",
              " 'long',\n",
              " 'sqft_living15',\n",
              " 'sqft_lot15',\n",
              " 'log_price',\n",
              " 'log_sqft_lot',\n",
              " 'age']"
            ]
          },
          "metadata": {},
          "execution_count": 313
        }
      ],
      "source": [
        "housing_df.columns"
      ]
    },
    {
      "cell_type": "code",
      "execution_count": null,
      "metadata": {
        "colab": {
          "base_uri": "https://localhost:8080/"
        },
        "id": "V7zk0fEN-E7K",
        "outputId": "82e26fe1-92e3-4cd3-eff4-349c0665a0da"
      },
      "outputs": [
        {
          "output_type": "stream",
          "name": "stdout",
          "text": [
            "+----------+---------------+--------+--------+---------+-----------+--------+------+----------+----+---------+-----+----------+-------------+--------+------------+-------+-------+--------+-------------+----------+------------------+-----------------+---+-------------+\n",
            "|        id|           date|   price|bedrooms|bathrooms|sqft_living|sqft_lot|floors|waterfront|view|condition|grade|sqft_above|sqft_basement|yr_built|yr_renovated|zipcode|    lat|    long|sqft_living15|sqft_lot15|         log_price|     log_sqft_lot|age|rennovate_age|\n",
            "+----------+---------------+--------+--------+---------+-----------+--------+------+----------+----+---------+-----+----------+-------------+--------+------------+-------+-------+--------+-------------+----------+------------------+-----------------+---+-------------+\n",
            "|7129300520|20141013T000000|221900.0|       3|      1.0|       1180|    5650|   1.0|         0|   0|        3|    7|      1180|            0|    1955|           0|  98178|47.5112|-122.257|         1340|      5650|12.309982108920686|8.639410824140487| 60|         2015|\n",
            "|6414100192|20141209T000000|538000.0|       3|     2.25|       2570|    7242|   2.0|         0|   0|        3|    7|      2170|          400|    1951|        1991|  98125| 47.721|-122.319|         1690|      7639|13.195613839143922|8.887652690325586| 64|           24|\n",
            "+----------+---------------+--------+--------+---------+-----------+--------+------+----------+----+---------+-----+----------+-------------+--------+------------+-------+-------+--------+-------------+----------+------------------+-----------------+---+-------------+\n",
            "only showing top 2 rows\n",
            "\n"
          ]
        }
      ],
      "source": [
        "#When was the house last rennovated?\n",
        "housing_df = housing_df.withColumn(\"rennovate_age\", lit(2015) - col('yr_renovated'))\n",
        "housing_df.show(2)"
      ]
    },
    {
      "cell_type": "code",
      "execution_count": null,
      "metadata": {
        "id": "OzMNuVJo-E7K"
      },
      "outputs": [],
      "source": [
        "#Keep a copy of the original dataframe for later use\n",
        "housing_df1 = housing_df"
      ]
    },
    {
      "cell_type": "code",
      "execution_count": null,
      "metadata": {
        "id": "uWX3i_Qg-E7K"
      },
      "outputs": [],
      "source": [
        "#Columns that will be used as features and their types\n",
        "continuous_features = ['sqft_living', 'bedrooms', 'bathrooms', 'floors',\n",
        "                    'log_sqft_lot', 'age', 'sqft_above',\n",
        "                    'sqft_living15', 'sqft_lot15', 'rennovate_age']\n",
        "\n",
        "categorical_features = ['zipcode', 'waterfront',\n",
        "                      'grade', 'condition',\n",
        "                      'view']"
      ]
    },
    {
      "cell_type": "code",
      "execution_count": null,
      "metadata": {
        "id": "FumSugNo-E7K"
      },
      "outputs": [],
      "source": [
        "#Encoding all categorical features\n",
        "from pyspark.ml.feature import OneHotEncoder, StringIndexer, VectorAssembler, PolynomialExpansion, VectorIndexer"
      ]
    },
    {
      "cell_type": "code",
      "source": [
        "# create object of StringIndexer class and specify input and output column\n",
        "SI_zipcode = StringIndexer(inputCol='zipcode',outputCol='zipcode_Index')\n",
        "SI_waterfront = StringIndexer(inputCol='waterfront',outputCol='waterfront_Index')\n",
        "SI_grade = StringIndexer(inputCol='grade',outputCol='grade_Index')\n",
        "SI_condition = StringIndexer(inputCol='condition',outputCol='condition_Index')\n",
        "SI_view = StringIndexer(inputCol='view',outputCol='view_Index')\n",
        "\n",
        "\n",
        "# transform the data\n",
        "housing_df1 = SI_zipcode.fit(housing_df1).transform(housing_df1)\n",
        "housing_df1 = SI_waterfront.fit(housing_df1).transform(housing_df1)\n",
        "housing_df1 = SI_grade.fit(housing_df1).transform(housing_df1)\n",
        "housing_df1 = SI_condition.fit(housing_df1).transform(housing_df1)\n",
        "housing_df1 = SI_view.fit(housing_df1).transform(housing_df1)\n",
        "\n",
        "\n",
        "# view the transformed data\n",
        "housing_df1.select('zipcode', 'zipcode_Index', 'waterfront', 'waterfront_Index', 'grade', 'grade_Index', 'condition', 'condition_Index','view', 'view_Index').show(10)\n"
      ],
      "metadata": {
        "colab": {
          "base_uri": "https://localhost:8080/"
        },
        "id": "JZoOFpDlGt8u",
        "outputId": "6e3c69b6-16ec-4cd3-e7d6-6ed6f0458038"
      },
      "execution_count": null,
      "outputs": [
        {
          "output_type": "stream",
          "name": "stdout",
          "text": [
            "+-------+-------------+----------+----------------+-----+-----------+---------+---------------+----+----------+\n",
            "|zipcode|zipcode_Index|waterfront|waterfront_Index|grade|grade_Index|condition|condition_Index|view|view_Index|\n",
            "+-------+-------------+----------+----------------+-----+-----------+---------+---------------+----+----------+\n",
            "|  98178|         45.0|         0|             0.0|    7|        0.0|        3|            0.0|   0|       0.0|\n",
            "|  98125|         17.0|         0|             0.0|    7|        0.0|        3|            0.0|   0|       0.0|\n",
            "|  98028|         34.0|         0|             0.0|    6|        3.0|        3|            0.0|   0|       0.0|\n",
            "|  98136|         44.0|         0|             0.0|    7|        0.0|        5|            2.0|   0|       0.0|\n",
            "|  98074|         14.0|         0|             0.0|    8|        1.0|        3|            0.0|   0|       0.0|\n",
            "|  98053|         19.0|         0|             0.0|   11|        5.0|        3|            0.0|   0|       0.0|\n",
            "|  98003|         36.0|         0|             0.0|    7|        0.0|        3|            0.0|   0|       0.0|\n",
            "|  98198|         37.0|         0|             0.0|    7|        0.0|        3|            0.0|   0|       0.0|\n",
            "|  98146|         32.0|         0|             0.0|    7|        0.0|        3|            0.0|   0|       0.0|\n",
            "|  98038|          1.0|         0|             0.0|    7|        0.0|        3|            0.0|   0|       0.0|\n",
            "+-------+-------------+----------+----------------+-----+-----------+---------+---------------+----+----------+\n",
            "only showing top 10 rows\n",
            "\n"
          ]
        }
      ]
    },
    {
      "cell_type": "code",
      "source": [
        "# create object and specify input and output column\n",
        "OHE = OneHotEncoder(inputCols=['zipcode_Index', 'waterfront_Index','grade_Index', 'condition_Index', 'view_Index' ],outputCols=['zipcode_vec', 'waterfront_vec','grade_vec', 'condition_vec', 'view_vec'])\n",
        "\n",
        "# transform the data\n",
        "housing_df1 = OHE.fit(housing_df1).transform(housing_df1)\n",
        "\n",
        "# view and transform the data\n",
        "housing_df1.select('zipcode', 'zipcode_Index', 'zipcode_vec', 'waterfront', 'waterfront_Index', 'waterfront_vec','grade', 'grade_Index', 'grade_vec','condition', 'condition_Index','condition_vec','view', 'view_Index', 'view_vec').show(10)"
      ],
      "metadata": {
        "colab": {
          "base_uri": "https://localhost:8080/"
        },
        "id": "PRoR_dPaISz2",
        "outputId": "c8c880ca-3f26-4e58-aefb-b76c3c478b64"
      },
      "execution_count": null,
      "outputs": [
        {
          "output_type": "stream",
          "name": "stdout",
          "text": [
            "+-------+-------------+---------------+----------+----------------+--------------+-----+-----------+--------------+---------+---------------+-------------+----+----------+-------------+\n",
            "|zipcode|zipcode_Index|    zipcode_vec|waterfront|waterfront_Index|waterfront_vec|grade|grade_Index|     grade_vec|condition|condition_Index|condition_vec|view|view_Index|     view_vec|\n",
            "+-------+-------------+---------------+----------+----------------+--------------+-----+-----------+--------------+---------+---------------+-------------+----+----------+-------------+\n",
            "|  98178|         45.0|(69,[45],[1.0])|         0|             0.0| (1,[0],[1.0])|    7|        0.0|(11,[0],[1.0])|        3|            0.0|(4,[0],[1.0])|   0|       0.0|(4,[0],[1.0])|\n",
            "|  98125|         17.0|(69,[17],[1.0])|         0|             0.0| (1,[0],[1.0])|    7|        0.0|(11,[0],[1.0])|        3|            0.0|(4,[0],[1.0])|   0|       0.0|(4,[0],[1.0])|\n",
            "|  98028|         34.0|(69,[34],[1.0])|         0|             0.0| (1,[0],[1.0])|    6|        3.0|(11,[3],[1.0])|        3|            0.0|(4,[0],[1.0])|   0|       0.0|(4,[0],[1.0])|\n",
            "|  98136|         44.0|(69,[44],[1.0])|         0|             0.0| (1,[0],[1.0])|    7|        0.0|(11,[0],[1.0])|        5|            2.0|(4,[2],[1.0])|   0|       0.0|(4,[0],[1.0])|\n",
            "|  98074|         14.0|(69,[14],[1.0])|         0|             0.0| (1,[0],[1.0])|    8|        1.0|(11,[1],[1.0])|        3|            0.0|(4,[0],[1.0])|   0|       0.0|(4,[0],[1.0])|\n",
            "|  98053|         19.0|(69,[19],[1.0])|         0|             0.0| (1,[0],[1.0])|   11|        5.0|(11,[5],[1.0])|        3|            0.0|(4,[0],[1.0])|   0|       0.0|(4,[0],[1.0])|\n",
            "|  98003|         36.0|(69,[36],[1.0])|         0|             0.0| (1,[0],[1.0])|    7|        0.0|(11,[0],[1.0])|        3|            0.0|(4,[0],[1.0])|   0|       0.0|(4,[0],[1.0])|\n",
            "|  98198|         37.0|(69,[37],[1.0])|         0|             0.0| (1,[0],[1.0])|    7|        0.0|(11,[0],[1.0])|        3|            0.0|(4,[0],[1.0])|   0|       0.0|(4,[0],[1.0])|\n",
            "|  98146|         32.0|(69,[32],[1.0])|         0|             0.0| (1,[0],[1.0])|    7|        0.0|(11,[0],[1.0])|        3|            0.0|(4,[0],[1.0])|   0|       0.0|(4,[0],[1.0])|\n",
            "|  98038|          1.0| (69,[1],[1.0])|         0|             0.0| (1,[0],[1.0])|    7|        0.0|(11,[0],[1.0])|        3|            0.0|(4,[0],[1.0])|   0|       0.0|(4,[0],[1.0])|\n",
            "+-------+-------------+---------------+----------+----------------+--------------+-----+-----------+--------------+---------+---------------+-------------+----+----------+-------------+\n",
            "only showing top 10 rows\n",
            "\n"
          ]
        }
      ]
    },
    {
      "cell_type": "code",
      "execution_count": null,
      "metadata": {
        "id": "xlAnvtLC-E7L",
        "outputId": "39bdd8f2-8ab0-4483-94be-82e59ea5f137",
        "colab": {
          "base_uri": "https://localhost:8080/"
        }
      },
      "outputs": [
        {
          "output_type": "stream",
          "name": "stdout",
          "text": [
            "root\n",
            " |-- id: long (nullable = true)\n",
            " |-- date: string (nullable = true)\n",
            " |-- price: double (nullable = true)\n",
            " |-- bedrooms: integer (nullable = true)\n",
            " |-- bathrooms: double (nullable = true)\n",
            " |-- sqft_living: integer (nullable = true)\n",
            " |-- sqft_lot: integer (nullable = true)\n",
            " |-- floors: double (nullable = true)\n",
            " |-- waterfront: integer (nullable = true)\n",
            " |-- view: integer (nullable = true)\n",
            " |-- condition: integer (nullable = true)\n",
            " |-- grade: integer (nullable = true)\n",
            " |-- sqft_above: integer (nullable = true)\n",
            " |-- sqft_basement: integer (nullable = true)\n",
            " |-- yr_built: integer (nullable = true)\n",
            " |-- yr_renovated: integer (nullable = true)\n",
            " |-- zipcode: integer (nullable = true)\n",
            " |-- lat: double (nullable = true)\n",
            " |-- long: double (nullable = true)\n",
            " |-- sqft_living15: integer (nullable = true)\n",
            " |-- sqft_lot15: integer (nullable = true)\n",
            " |-- log_price: double (nullable = true)\n",
            " |-- log_sqft_lot: double (nullable = true)\n",
            " |-- age: integer (nullable = true)\n",
            " |-- rennovate_age: integer (nullable = true)\n",
            " |-- zipcode_Index: double (nullable = false)\n",
            " |-- waterfront_Index: double (nullable = false)\n",
            " |-- grade_Index: double (nullable = false)\n",
            " |-- condition_Index: double (nullable = false)\n",
            " |-- view_Index: double (nullable = false)\n",
            " |-- zipcode_vec: vector (nullable = true)\n",
            " |-- waterfront_vec: vector (nullable = true)\n",
            " |-- grade_vec: vector (nullable = true)\n",
            " |-- condition_vec: vector (nullable = true)\n",
            " |-- view_vec: vector (nullable = true)\n",
            "\n"
          ]
        }
      ],
      "source": [
        "housing_df1.printSchema()"
      ]
    },
    {
      "cell_type": "code",
      "execution_count": null,
      "metadata": {
        "id": "vZFIyjul-E7L",
        "outputId": "766fa3e9-3d0a-4e2f-ac84-3c2fbe327cce",
        "colab": {
          "base_uri": "https://localhost:8080/"
        }
      },
      "outputs": [
        {
          "output_type": "stream",
          "name": "stdout",
          "text": [
            "+----------+---------------+--------+--------+---------+-----------+--------+------+----------+----+---------+-----+----------+-------------+--------+------------+-------+-------+--------+-------------+----------+------------------+-----------------+---+-------------+-------------+----------------+-----------+---------------+----------+---------------+--------------+--------------+-------------+-------------+\n",
            "|        id|           date|   price|bedrooms|bathrooms|sqft_living|sqft_lot|floors|waterfront|view|condition|grade|sqft_above|sqft_basement|yr_built|yr_renovated|zipcode|    lat|    long|sqft_living15|sqft_lot15|         log_price|     log_sqft_lot|age|rennovate_age|zipcode_Index|waterfront_Index|grade_Index|condition_Index|view_Index|    zipcode_vec|waterfront_vec|     grade_vec|condition_vec|     view_vec|\n",
            "+----------+---------------+--------+--------+---------+-----------+--------+------+----------+----+---------+-----+----------+-------------+--------+------------+-------+-------+--------+-------------+----------+------------------+-----------------+---+-------------+-------------+----------------+-----------+---------------+----------+---------------+--------------+--------------+-------------+-------------+\n",
            "|7129300520|20141013T000000|221900.0|       3|      1.0|       1180|    5650|   1.0|         0|   0|        3|    7|      1180|            0|    1955|           0|  98178|47.5112|-122.257|         1340|      5650|12.309982108920686|8.639410824140487| 60|         2015|         45.0|             0.0|        0.0|            0.0|       0.0|(69,[45],[1.0])| (1,[0],[1.0])|(11,[0],[1.0])|(4,[0],[1.0])|(4,[0],[1.0])|\n",
            "|6414100192|20141209T000000|538000.0|       3|     2.25|       2570|    7242|   2.0|         0|   0|        3|    7|      2170|          400|    1951|        1991|  98125| 47.721|-122.319|         1690|      7639|13.195613839143922|8.887652690325586| 64|           24|         17.0|             0.0|        0.0|            0.0|       0.0|(69,[17],[1.0])| (1,[0],[1.0])|(11,[0],[1.0])|(4,[0],[1.0])|(4,[0],[1.0])|\n",
            "|5631500400|20150225T000000|180000.0|       2|      1.0|        770|   10000|   1.0|         0|   0|        3|    6|       770|            0|    1933|           0|  98028|47.7379|-122.233|         2720|      8062|12.100712129872347|9.210340371976184| 82|         2015|         34.0|             0.0|        3.0|            0.0|       0.0|(69,[34],[1.0])| (1,[0],[1.0])|(11,[3],[1.0])|(4,[0],[1.0])|(4,[0],[1.0])|\n",
            "|2487200875|20141209T000000|604000.0|       4|      3.0|       1960|    5000|   1.0|         0|   0|        5|    7|      1050|          910|    1965|           0|  98136|47.5208|-122.393|         1360|      5000|13.311329476916953|8.517193191416238| 50|         2015|         44.0|             0.0|        0.0|            2.0|       0.0|(69,[44],[1.0])| (1,[0],[1.0])|(11,[0],[1.0])|(4,[2],[1.0])|(4,[0],[1.0])|\n",
            "|1954400510|20150218T000000|510000.0|       3|      2.0|       1680|    8080|   1.0|         0|   0|        3|    8|      1680|            0|    1987|           0|  98074|47.6168|-122.045|         1800|      7503|13.142166004700508|8.997147151515142| 28|         2015|         14.0|             0.0|        1.0|            0.0|       0.0|(69,[14],[1.0])| (1,[0],[1.0])|(11,[1],[1.0])|(4,[0],[1.0])|(4,[0],[1.0])|\n",
            "+----------+---------------+--------+--------+---------+-----------+--------+------+----------+----+---------+-----+----------+-------------+--------+------------+-------+-------+--------+-------------+----------+------------------+-----------------+---+-------------+-------------+----------------+-----------+---------------+----------+---------------+--------------+--------------+-------------+-------------+\n",
            "only showing top 5 rows\n",
            "\n"
          ]
        }
      ],
      "source": [
        "housing_df1.show(5)"
      ]
    },
    {
      "cell_type": "code",
      "execution_count": null,
      "metadata": {
        "id": "eEOTCBsN-E7L"
      },
      "outputs": [],
      "source": [
        "#Create vectors from all features column\n",
        "featureCols = continuous_features + ['zipcode_vec',\n",
        "                                   'waterfront_vec',\n",
        "                                   'grade_vec',\n",
        "                                   'condition_vec',\n",
        "                                   'view_vec']"
      ]
    },
    {
      "cell_type": "code",
      "execution_count": null,
      "metadata": {
        "id": "vj03RKOR-E7M",
        "outputId": "b40eb73c-1d0a-45dc-dc17-5cb6d5e7d6a0",
        "colab": {
          "base_uri": "https://localhost:8080/"
        }
      },
      "outputs": [
        {
          "output_type": "execute_result",
          "data": {
            "text/plain": [
              "['sqft_living',\n",
              " 'bedrooms',\n",
              " 'bathrooms',\n",
              " 'floors',\n",
              " 'log_sqft_lot',\n",
              " 'age',\n",
              " 'sqft_above',\n",
              " 'sqft_living15',\n",
              " 'sqft_lot15',\n",
              " 'rennovate_age',\n",
              " 'zipcode_vec',\n",
              " 'waterfront_vec',\n",
              " 'grade_vec',\n",
              " 'condition_vec',\n",
              " 'view_vec']"
            ]
          },
          "metadata": {},
          "execution_count": 322
        }
      ],
      "source": [
        "featureCols\n",
        "\n",
        "# Using Linear Regressionn - Establish linear relationship between Y & X variables\n",
        "\n",
        "#Ideally we want to achieve price = B1*sqft_living+B2*bedrooms+B3*bathrooms...+C  \n",
        "\n",
        "#log_price = B1*sqft_living+B2*bedrooms+B3*bathrooms...+C  \n",
        "#price = exp(log_price) = exp(B1*sqft_living+B2*bedrooms+B3*bathrooms...+C)"
      ]
    },
    {
      "cell_type": "markdown",
      "metadata": {
        "id": "IlMRS_sZ-E7M"
      },
      "source": [
        "### Preparing for model building\n",
        "- The dataframe need to have two columns: features and label\n",
        "- The vector columns need to named as features\n",
        "- The target variable need to be named as label\n",
        "- Then the dataframe can be directly fed to a model to learn"
      ]
    },
    {
      "cell_type": "code",
      "execution_count": null,
      "metadata": {
        "id": "ozOMKDtJ-E7M"
      },
      "outputs": [],
      "source": [
        "assembler = VectorAssembler( inputCols = featureCols, outputCol = \"features\")"
      ]
    },
    {
      "cell_type": "code",
      "execution_count": null,
      "metadata": {
        "id": "aekgDFSO-E7N"
      },
      "outputs": [],
      "source": [
        "housing_train_df = assembler.transform( housing_df1 )"
      ]
    },
    {
      "cell_type": "code",
      "execution_count": null,
      "metadata": {
        "id": "EhqXqcqN-E7N",
        "outputId": "bd5d3cc0-c17d-449a-d221-6318d583a7f0",
        "colab": {
          "base_uri": "https://localhost:8080/"
        }
      },
      "outputs": [
        {
          "output_type": "stream",
          "name": "stdout",
          "text": [
            "+----------+---------------+---------+--------+---------+-----------+--------+------+----------+----+---------+-----+----------+-------------+--------+------------+-------+-------+--------+-------------+----------+------------------+------------------+---+-------------+-------------+----------------+-----------+---------------+----------+---------------+--------------+--------------+-------------+-------------+----------------------------------------------------------------------------------------------------------------------------------------+\n",
            "|id        |date           |price    |bedrooms|bathrooms|sqft_living|sqft_lot|floors|waterfront|view|condition|grade|sqft_above|sqft_basement|yr_built|yr_renovated|zipcode|lat    |long    |sqft_living15|sqft_lot15|log_price         |log_sqft_lot      |age|rennovate_age|zipcode_Index|waterfront_Index|grade_Index|condition_Index|view_Index|zipcode_vec    |waterfront_vec|grade_vec     |condition_vec|view_vec     |features                                                                                                                                |\n",
            "+----------+---------------+---------+--------+---------+-----------+--------+------+----------+----+---------+-----+----------+-------------+--------+------------+-------+-------+--------+-------------+----------+------------------+------------------+---+-------------+-------------+----------------+-----------+---------------+----------+---------------+--------------+--------------+-------------+-------------+----------------------------------------------------------------------------------------------------------------------------------------+\n",
            "|7129300520|20141013T000000|221900.0 |3       |1.0      |1180       |5650    |1.0   |0         |0   |3        |7    |1180      |0            |1955    |0           |98178  |47.5112|-122.257|1340         |5650      |12.309982108920686|8.639410824140487 |60 |2015         |45.0         |0.0             |0.0        |0.0            |0.0       |(69,[45],[1.0])|(1,[0],[1.0]) |(11,[0],[1.0])|(4,[0],[1.0])|(4,[0],[1.0])|(99,[0,1,2,3,4,5,6,7,8,9,55,79,80,91,95],[1180.0,3.0,1.0,1.0,8.639410824140487,60.0,1180.0,1340.0,5650.0,2015.0,1.0,1.0,1.0,1.0,1.0])   |\n",
            "|6414100192|20141209T000000|538000.0 |3       |2.25     |2570       |7242    |2.0   |0         |0   |3        |7    |2170      |400          |1951    |1991        |98125  |47.721 |-122.319|1690         |7639      |13.195613839143922|8.887652690325586 |64 |24           |17.0         |0.0             |0.0        |0.0            |0.0       |(69,[17],[1.0])|(1,[0],[1.0]) |(11,[0],[1.0])|(4,[0],[1.0])|(4,[0],[1.0])|(99,[0,1,2,3,4,5,6,7,8,9,27,79,80,91,95],[2570.0,3.0,2.25,2.0,8.887652690325586,64.0,2170.0,1690.0,7639.0,24.0,1.0,1.0,1.0,1.0,1.0])    |\n",
            "|5631500400|20150225T000000|180000.0 |2       |1.0      |770        |10000   |1.0   |0         |0   |3        |6    |770       |0            |1933    |0           |98028  |47.7379|-122.233|2720         |8062      |12.100712129872347|9.210340371976184 |82 |2015         |34.0         |0.0             |3.0        |0.0            |0.0       |(69,[34],[1.0])|(1,[0],[1.0]) |(11,[3],[1.0])|(4,[0],[1.0])|(4,[0],[1.0])|(99,[0,1,2,3,4,5,6,7,8,9,44,79,83,91,95],[770.0,2.0,1.0,1.0,9.210340371976184,82.0,770.0,2720.0,8062.0,2015.0,1.0,1.0,1.0,1.0,1.0])     |\n",
            "|2487200875|20141209T000000|604000.0 |4       |3.0      |1960       |5000    |1.0   |0         |0   |5        |7    |1050      |910          |1965    |0           |98136  |47.5208|-122.393|1360         |5000      |13.311329476916953|8.517193191416238 |50 |2015         |44.0         |0.0             |0.0        |2.0            |0.0       |(69,[44],[1.0])|(1,[0],[1.0]) |(11,[0],[1.0])|(4,[2],[1.0])|(4,[0],[1.0])|(99,[0,1,2,3,4,5,6,7,8,9,54,79,80,93,95],[1960.0,4.0,3.0,1.0,8.517193191416238,50.0,1050.0,1360.0,5000.0,2015.0,1.0,1.0,1.0,1.0,1.0])   |\n",
            "|1954400510|20150218T000000|510000.0 |3       |2.0      |1680       |8080    |1.0   |0         |0   |3        |8    |1680      |0            |1987    |0           |98074  |47.6168|-122.045|1800         |7503      |13.142166004700508|8.997147151515142 |28 |2015         |14.0         |0.0             |1.0        |0.0            |0.0       |(69,[14],[1.0])|(1,[0],[1.0]) |(11,[1],[1.0])|(4,[0],[1.0])|(4,[0],[1.0])|(99,[0,1,2,3,4,5,6,7,8,9,24,79,81,91,95],[1680.0,3.0,2.0,1.0,8.997147151515142,28.0,1680.0,1800.0,7503.0,2015.0,1.0,1.0,1.0,1.0,1.0])   |\n",
            "|7237550310|20140512T000000|1225000.0|4       |4.5      |5420       |101930  |1.0   |0         |0   |3        |11   |3890      |1530         |2001    |0           |98053  |47.6561|-122.005|4760         |101930    |14.018451401960965|11.532041582162458|14 |2015         |19.0         |0.0             |5.0        |0.0            |0.0       |(69,[19],[1.0])|(1,[0],[1.0]) |(11,[5],[1.0])|(4,[0],[1.0])|(4,[0],[1.0])|(99,[0,1,2,3,4,5,6,7,8,9,29,79,85,91,95],[5420.0,4.0,4.5,1.0,11.532041582162458,14.0,3890.0,4760.0,101930.0,2015.0,1.0,1.0,1.0,1.0,1.0])|\n",
            "|1321400060|20140627T000000|257500.0 |3       |2.25     |1715       |6819    |2.0   |0         |0   |3        |7    |1715      |0            |1995    |0           |98003  |47.3097|-122.327|2238         |6819      |12.458774999085929|8.827468112520652 |20 |2015         |36.0         |0.0             |0.0        |0.0            |0.0       |(69,[36],[1.0])|(1,[0],[1.0]) |(11,[0],[1.0])|(4,[0],[1.0])|(4,[0],[1.0])|(99,[0,1,2,3,4,5,6,7,8,9,46,79,80,91,95],[1715.0,3.0,2.25,2.0,8.827468112520652,20.0,1715.0,2238.0,6819.0,2015.0,1.0,1.0,1.0,1.0,1.0])  |\n",
            "|2008000270|20150115T000000|291850.0 |3       |1.5      |1060       |9711    |1.0   |0         |0   |3        |7    |1060      |0            |1963    |0           |98198  |47.4095|-122.315|1650         |9711      |12.583995250631936|9.181014542594355 |52 |2015         |37.0         |0.0             |0.0        |0.0            |0.0       |(69,[37],[1.0])|(1,[0],[1.0]) |(11,[0],[1.0])|(4,[0],[1.0])|(4,[0],[1.0])|(99,[0,1,2,3,4,5,6,7,8,9,47,79,80,91,95],[1060.0,3.0,1.5,1.0,9.181014542594355,52.0,1060.0,1650.0,9711.0,2015.0,1.0,1.0,1.0,1.0,1.0])   |\n",
            "|2414600126|20150415T000000|229500.0 |3       |1.0      |1780       |7470    |1.0   |0         |0   |3        |7    |1050      |730          |1960    |0           |98146  |47.5123|-122.337|1780         |8113      |12.343658308482738|8.918650278126863 |55 |2015         |32.0         |0.0             |0.0        |0.0            |0.0       |(69,[32],[1.0])|(1,[0],[1.0]) |(11,[0],[1.0])|(4,[0],[1.0])|(4,[0],[1.0])|(99,[0,1,2,3,4,5,6,7,8,9,42,79,80,91,95],[1780.0,3.0,1.0,1.0,8.918650278126863,55.0,1050.0,1780.0,8113.0,2015.0,1.0,1.0,1.0,1.0,1.0])   |\n",
            "|3793500160|20150312T000000|323000.0 |3       |2.5      |1890       |6560    |2.0   |0         |0   |3        |7    |1890      |0            |2003    |0           |98038  |47.3684|-122.031|2390         |7570      |12.685407602204794|8.788745881938135 |12 |2015         |1.0          |0.0             |0.0        |0.0            |0.0       |(69,[1],[1.0]) |(1,[0],[1.0]) |(11,[0],[1.0])|(4,[0],[1.0])|(4,[0],[1.0])|(99,[0,1,2,3,4,5,6,7,8,9,11,79,80,91,95],[1890.0,3.0,2.5,2.0,8.788745881938135,12.0,1890.0,2390.0,7570.0,2015.0,1.0,1.0,1.0,1.0,1.0])   |\n",
            "+----------+---------------+---------+--------+---------+-----------+--------+------+----------+----+---------+-----+----------+-------------+--------+------------+-------+-------+--------+-------------+----------+------------------+------------------+---+-------------+-------------+----------------+-----------+---------------+----------+---------------+--------------+--------------+-------------+-------------+----------------------------------------------------------------------------------------------------------------------------------------+\n",
            "only showing top 10 rows\n",
            "\n"
          ]
        }
      ],
      "source": [
        "housing_train_df.show( 10 , truncate=False)"
      ]
    },
    {
      "cell_type": "code",
      "execution_count": null,
      "metadata": {
        "id": "JVF-dzCp-E7N"
      },
      "outputs": [],
      "source": [
        "from pyspark.sql.functions import round\n",
        "\n",
        "housing_train_df = housing_train_df.withColumn( \"label\", round('log_price', 4) )"
      ]
    },
    {
      "cell_type": "code",
      "execution_count": null,
      "metadata": {
        "id": "xIoOvGj2-E7N"
      },
      "outputs": [],
      "source": [
        "#Split the dataset\n",
        "train_df, test_df = housing_train_df.randomSplit( [0.7, 0.3], seed = 42 )"
      ]
    },
    {
      "cell_type": "code",
      "source": [
        "train_df.show(5, truncate=False)"
      ],
      "metadata": {
        "colab": {
          "base_uri": "https://localhost:8080/"
        },
        "id": "J4TqVlQyxv2P",
        "outputId": "ed6044b3-aa75-4553-855a-f42ba2beb4e3"
      },
      "execution_count": null,
      "outputs": [
        {
          "output_type": "stream",
          "name": "stdout",
          "text": [
            "+-------+---------------+--------+--------+---------+-----------+--------+------+----------+----+---------+-----+----------+-------------+--------+------------+-------+-------+--------+-------------+----------+------------------+------------------+---+-------------+-------------+----------------+-----------+---------------+----------+---------------+--------------+--------------+-------------+-------------+---------------------------------------------------------------------------------------------------------------------------------------+-------+\n",
            "|id     |date           |price   |bedrooms|bathrooms|sqft_living|sqft_lot|floors|waterfront|view|condition|grade|sqft_above|sqft_basement|yr_built|yr_renovated|zipcode|lat    |long    |sqft_living15|sqft_lot15|log_price         |log_sqft_lot      |age|rennovate_age|zipcode_Index|waterfront_Index|grade_Index|condition_Index|view_Index|zipcode_vec    |waterfront_vec|grade_vec     |condition_vec|view_vec     |features                                                                                                                               |label  |\n",
            "+-------+---------------+--------+--------+---------+-----------+--------+------+----------+----+---------+-----+----------+-------------+--------+------------+-------+-------+--------+-------------+----------+------------------+------------------+---+-------------+-------------+----------------+-----------+---------------+----------+---------------+--------------+--------------+-------------+-------------+---------------------------------------------------------------------------------------------------------------------------------------+-------+\n",
            "|1000102|20140916T000000|280000.0|6       |3.0      |2400       |9373    |2.0   |0         |0   |3        |7    |2400      |0            |1991    |0           |98002  |47.3262|-122.214|2060         |7316      |12.542544882151386|9.145588494746486 |24 |2015         |52.0         |0.0             |0.0        |0.0            |0.0       |(69,[52],[1.0])|(1,[0],[1.0]) |(11,[0],[1.0])|(4,[0],[1.0])|(4,[0],[1.0])|(99,[0,1,2,3,4,5,6,7,8,9,62,79,80,91,95],[2400.0,6.0,3.0,2.0,9.145588494746486,24.0,2400.0,2060.0,7316.0,2015.0,1.0,1.0,1.0,1.0,1.0])  |12.5425|\n",
            "|1000102|20150422T000000|300000.0|6       |3.0      |2400       |9373    |2.0   |0         |0   |3        |7    |2400      |0            |1991    |0           |98002  |47.3262|-122.214|2060         |7316      |12.611537753638338|9.145588494746486 |24 |2015         |52.0         |0.0             |0.0        |0.0            |0.0       |(69,[52],[1.0])|(1,[0],[1.0]) |(11,[0],[1.0])|(4,[0],[1.0])|(4,[0],[1.0])|(99,[0,1,2,3,4,5,6,7,8,9,62,79,80,91,95],[2400.0,6.0,3.0,2.0,9.145588494746486,24.0,2400.0,2060.0,7316.0,2015.0,1.0,1.0,1.0,1.0,1.0])  |12.6115|\n",
            "|1200021|20140811T000000|400000.0|3       |1.0      |1460       |43000   |1.0   |0         |0   |3        |7    |1460      |0            |1952    |0           |98166  |47.4434|-122.347|2250         |20023     |12.89921982609012 |10.668955394675699|63 |2015         |48.0         |0.0             |0.0        |0.0            |0.0       |(69,[48],[1.0])|(1,[0],[1.0]) |(11,[0],[1.0])|(4,[0],[1.0])|(4,[0],[1.0])|(99,[0,1,2,3,4,5,6,7,8,9,58,79,80,91,95],[1460.0,3.0,1.0,1.0,10.668955394675699,63.0,1460.0,2250.0,20023.0,2015.0,1.0,1.0,1.0,1.0,1.0])|12.8992|\n",
            "|2800031|20150401T000000|235000.0|3       |1.0      |1430       |7599    |1.5   |0         |0   |4        |6    |1010      |420          |1930    |0           |98168  |47.4783|-122.265|1290         |10320     |12.367340793126296|8.935771938669784 |85 |2015         |41.0         |0.0             |3.0        |1.0            |0.0       |(69,[41],[1.0])|(1,[0],[1.0]) |(11,[3],[1.0])|(4,[1],[1.0])|(4,[0],[1.0])|(99,[0,1,2,3,4,5,6,7,8,9,51,79,83,92,95],[1430.0,3.0,1.0,1.5,8.935771938669784,85.0,1010.0,1290.0,10320.0,2015.0,1.0,1.0,1.0,1.0,1.0]) |12.3673|\n",
            "|3600057|20150319T000000|402500.0|4       |2.0      |1650       |3504    |1.0   |0         |0   |3        |7    |760       |890          |1951    |2013        |98144  |47.5803|-122.294|1480         |3504      |12.905450375840756|8.161660452056282 |64 |2            |24.0         |0.0             |0.0        |0.0            |0.0       |(69,[24],[1.0])|(1,[0],[1.0]) |(11,[0],[1.0])|(4,[0],[1.0])|(4,[0],[1.0])|(99,[0,1,2,3,4,5,6,7,8,9,34,79,80,91,95],[1650.0,4.0,2.0,1.0,8.161660452056282,64.0,760.0,1480.0,3504.0,2.0,1.0,1.0,1.0,1.0,1.0])      |12.9055|\n",
            "+-------+---------------+--------+--------+---------+-----------+--------+------+----------+----+---------+-----+----------+-------------+--------+------------+-------+-------+--------+-------------+----------+------------------+------------------+---+-------------+-------------+----------------+-----------+---------------+----------+---------------+--------------+--------------+-------------+-------------+---------------------------------------------------------------------------------------------------------------------------------------+-------+\n",
            "only showing top 5 rows\n",
            "\n"
          ]
        }
      ]
    },
    {
      "cell_type": "code",
      "execution_count": null,
      "metadata": {
        "id": "IndzXKCc-E7O"
      },
      "outputs": [],
      "source": [
        "#Build the Linear Regression Model\n",
        "from pyspark.ml.regression import LinearRegression"
      ]
    },
    {
      "cell_type": "code",
      "execution_count": null,
      "metadata": {
        "id": "s4lyEcb0-E7O"
      },
      "outputs": [],
      "source": [
        "#linreg = LinearRegression(maxIter=500, regParam=0.0)\n",
        "linreg = LinearRegression()"
      ]
    },
    {
      "cell_type": "code",
      "execution_count": null,
      "metadata": {
        "id": "ZDD4MF1p-E7O"
      },
      "outputs": [],
      "source": [
        "lm = linreg.fit( train_df )"
      ]
    },
    {
      "cell_type": "code",
      "source": [
        "#Y = B1*X1+B2*X2+...Bn*xn+C"
      ],
      "metadata": {
        "id": "D4v6pXF_yBqt"
      },
      "execution_count": null,
      "outputs": []
    },
    {
      "cell_type": "code",
      "source": [
        "dir(lm)"
      ],
      "metadata": {
        "colab": {
          "base_uri": "https://localhost:8080/"
        },
        "id": "pN_RPTamyIoG",
        "outputId": "91b863fd-c74c-4cf0-b969-540074b4c04e"
      },
      "execution_count": null,
      "outputs": [
        {
          "output_type": "execute_result",
          "data": {
            "text/plain": [
              "['__abstractmethods__',\n",
              " '__class__',\n",
              " '__del__',\n",
              " '__delattr__',\n",
              " '__dict__',\n",
              " '__dir__',\n",
              " '__doc__',\n",
              " '__eq__',\n",
              " '__format__',\n",
              " '__ge__',\n",
              " '__getattribute__',\n",
              " '__gt__',\n",
              " '__hash__',\n",
              " '__init__',\n",
              " '__init_subclass__',\n",
              " '__le__',\n",
              " '__lt__',\n",
              " '__module__',\n",
              " '__ne__',\n",
              " '__new__',\n",
              " '__reduce__',\n",
              " '__reduce_ex__',\n",
              " '__repr__',\n",
              " '__setattr__',\n",
              " '__sizeof__',\n",
              " '__slotnames__',\n",
              " '__str__',\n",
              " '__subclasshook__',\n",
              " '__weakref__',\n",
              " '_abc_impl',\n",
              " '_call_java',\n",
              " '_copyValues',\n",
              " '_copy_params',\n",
              " '_create_from_java_class',\n",
              " '_create_params_from_java',\n",
              " '_defaultParamMap',\n",
              " '_dummy',\n",
              " '_empty_java_param_map',\n",
              " '_from_java',\n",
              " '_java_obj',\n",
              " '_make_java_param_pair',\n",
              " '_new_java_array',\n",
              " '_new_java_obj',\n",
              " '_paramMap',\n",
              " '_params',\n",
              " '_randomUID',\n",
              " '_resetUid',\n",
              " '_resolveParam',\n",
              " '_set',\n",
              " '_setDefault',\n",
              " '_shouldOwn',\n",
              " '_testOwnParam',\n",
              " '_to_java',\n",
              " '_transfer_param_map_from_java',\n",
              " '_transfer_param_map_to_java',\n",
              " '_transfer_params_from_java',\n",
              " '_transfer_params_to_java',\n",
              " '_transform',\n",
              " 'aggregationDepth',\n",
              " 'clear',\n",
              " 'coefficients',\n",
              " 'copy',\n",
              " 'elasticNetParam',\n",
              " 'epsilon',\n",
              " 'evaluate',\n",
              " 'explainParam',\n",
              " 'explainParams',\n",
              " 'extractParamMap',\n",
              " 'featuresCol',\n",
              " 'fitIntercept',\n",
              " 'getAggregationDepth',\n",
              " 'getElasticNetParam',\n",
              " 'getEpsilon',\n",
              " 'getFeaturesCol',\n",
              " 'getFitIntercept',\n",
              " 'getLabelCol',\n",
              " 'getLoss',\n",
              " 'getMaxBlockSizeInMB',\n",
              " 'getMaxIter',\n",
              " 'getOrDefault',\n",
              " 'getParam',\n",
              " 'getPredictionCol',\n",
              " 'getRegParam',\n",
              " 'getSolver',\n",
              " 'getStandardization',\n",
              " 'getTol',\n",
              " 'getWeightCol',\n",
              " 'hasDefault',\n",
              " 'hasParam',\n",
              " 'hasSummary',\n",
              " 'intercept',\n",
              " 'isDefined',\n",
              " 'isSet',\n",
              " 'labelCol',\n",
              " 'load',\n",
              " 'loss',\n",
              " 'maxBlockSizeInMB',\n",
              " 'maxIter',\n",
              " 'numFeatures',\n",
              " 'params',\n",
              " 'predict',\n",
              " 'predictionCol',\n",
              " 'read',\n",
              " 'regParam',\n",
              " 'save',\n",
              " 'scale',\n",
              " 'set',\n",
              " 'setFeaturesCol',\n",
              " 'setPredictionCol',\n",
              " 'solver',\n",
              " 'standardization',\n",
              " 'summary',\n",
              " 'tol',\n",
              " 'transform',\n",
              " 'uid',\n",
              " 'weightCol',\n",
              " 'write']"
            ]
          },
          "metadata": {},
          "execution_count": 333
        }
      ]
    },
    {
      "cell_type": "code",
      "execution_count": null,
      "metadata": {
        "id": "K33bvXvS-E7O",
        "outputId": "e26d1a6e-7ec1-4b7b-cd12-8028b0cc43ee",
        "colab": {
          "base_uri": "https://localhost:8080/"
        }
      },
      "outputs": [
        {
          "output_type": "execute_result",
          "data": {
            "text/plain": [
              "12.673675366048226"
            ]
          },
          "metadata": {},
          "execution_count": 334
        }
      ],
      "source": [
        "lm.intercept"
      ]
    },
    {
      "cell_type": "code",
      "execution_count": null,
      "metadata": {
        "id": "kKCI3rnu-E7O",
        "outputId": "c3acf347-6994-4c70-d812-2ef404269ac7",
        "colab": {
          "base_uri": "https://localhost:8080/"
        }
      },
      "outputs": [
        {
          "output_type": "execute_result",
          "data": {
            "text/plain": [
              "DenseVector([0.0001, -0.0032, 0.0453, -0.0101, 0.0602, 0.0003, 0.0001, 0.0001, -0.0, -0.0, -0.3595, -1.0353, -0.3677, -0.5703, -0.377, -1.1533, -0.666, -0.7222, -1.2358, -0.5807, -0.7412, -0.8714, -1.047, -0.7826, -0.6612, -0.419, -0.7009, -0.6355, -0.8951, -0.6422, -1.2171, -0.6706, -0.6352, -1.1914, -0.5086, -0.8535, -0.4226, -0.6004, -0.0943, -0.3194, -0.8018, -0.3712, -0.9207, -0.5598, -0.7948, -0.3627, -1.1958, -1.1665, -1.1261, -0.7439, -0.1566, -1.1269, -1.0561, -0.3337, -0.5028, -1.0711, -1.1474, -0.6204, -0.9167, -1.1734, -0.2431, -0.8934, -1.2236, -0.8089, -0.7669, -0.8942, -0.8331, -0.197, -0.4938, -0.5645, -1.1223, -1.2373, -0.9349, -0.9395, -0.1904, -0.2113, -1.0158, -0.8279, -1.0404, -0.4405, 0.3221, 0.42, 0.5184, 0.202, 0.5597, 0.5932, 0.0878, 0.593, -0.0106, 0.588, 0.5549, 0.293, 0.3386, 0.3991, 0.1642, -0.2527, -0.1427, -0.0849, -0.1397])"
            ]
          },
          "metadata": {},
          "execution_count": 335
        }
      ],
      "source": [
        "lm.coefficients"
      ]
    },
    {
      "cell_type": "code",
      "execution_count": null,
      "metadata": {
        "id": "YS7xMMGA-E7O"
      },
      "outputs": [],
      "source": [
        "#Make predictions on train data and evaluate\n",
        "y_pred_train = lm.transform(train_df)"
      ]
    },
    {
      "cell_type": "code",
      "source": [
        "y_pred_train.show(10)"
      ],
      "metadata": {
        "colab": {
          "base_uri": "https://localhost:8080/"
        },
        "id": "NDQnYCliylLf",
        "outputId": "7e9667ca-8e3c-487c-c0b1-182eb1590e8b"
      },
      "execution_count": null,
      "outputs": [
        {
          "output_type": "stream",
          "name": "stdout",
          "text": [
            "+-------+---------------+--------+--------+---------+-----------+--------+------+----------+----+---------+-----+----------+-------------+--------+------------+-------+-------+--------+-------------+----------+------------------+------------------+---+-------------+-------------+----------------+-----------+---------------+----------+---------------+--------------+--------------+-------------+-------------+--------------------+-------+------------------+\n",
            "|     id|           date|   price|bedrooms|bathrooms|sqft_living|sqft_lot|floors|waterfront|view|condition|grade|sqft_above|sqft_basement|yr_built|yr_renovated|zipcode|    lat|    long|sqft_living15|sqft_lot15|         log_price|      log_sqft_lot|age|rennovate_age|zipcode_Index|waterfront_Index|grade_Index|condition_Index|view_Index|    zipcode_vec|waterfront_vec|     grade_vec|condition_vec|     view_vec|            features|  label|        prediction|\n",
            "+-------+---------------+--------+--------+---------+-----------+--------+------+----------+----+---------+-----+----------+-------------+--------+------------+-------+-------+--------+-------------+----------+------------------+------------------+---+-------------+-------------+----------------+-----------+---------------+----------+---------------+--------------+--------------+-------------+-------------+--------------------+-------+------------------+\n",
            "|1000102|20140916T000000|280000.0|       6|      3.0|       2400|    9373|   2.0|         0|   0|        3|    7|      2400|            0|    1991|           0|  98002|47.3262|-122.214|         2060|      7316|12.542544882151386| 9.145588494746486| 24|         2015|         52.0|             0.0|        0.0|            0.0|       0.0|(69,[52],[1.0])| (1,[0],[1.0])|(11,[0],[1.0])|(4,[0],[1.0])|(4,[0],[1.0])|(99,[0,1,2,3,4,5,...|12.5425|12.579930932771992|\n",
            "|1000102|20150422T000000|300000.0|       6|      3.0|       2400|    9373|   2.0|         0|   0|        3|    7|      2400|            0|    1991|           0|  98002|47.3262|-122.214|         2060|      7316|12.611537753638338| 9.145588494746486| 24|         2015|         52.0|             0.0|        0.0|            0.0|       0.0|(69,[52],[1.0])| (1,[0],[1.0])|(11,[0],[1.0])|(4,[0],[1.0])|(4,[0],[1.0])|(99,[0,1,2,3,4,5,...|12.6115|12.579930932771992|\n",
            "|1200021|20140811T000000|400000.0|       3|      1.0|       1460|   43000|   1.0|         0|   0|        3|    7|      1460|            0|    1952|           0|  98166|47.4434|-122.347|         2250|     20023| 12.89921982609012|10.668955394675699| 63|         2015|         48.0|             0.0|        0.0|            0.0|       0.0|(69,[48],[1.0])| (1,[0],[1.0])|(11,[0],[1.0])|(4,[0],[1.0])|(4,[0],[1.0])|(99,[0,1,2,3,4,5,...|12.8992|12.747971921226407|\n",
            "|2800031|20150401T000000|235000.0|       3|      1.0|       1430|    7599|   1.5|         0|   0|        4|    6|      1010|          420|    1930|           0|  98168|47.4783|-122.265|         1290|     10320|12.367340793126296| 8.935771938669784| 85|         2015|         41.0|             0.0|        3.0|            1.0|       0.0|(69,[41],[1.0])| (1,[0],[1.0])|(11,[3],[1.0])|(4,[1],[1.0])|(4,[0],[1.0])|(99,[0,1,2,3,4,5,...|12.3673|12.256834688761414|\n",
            "|3600057|20150319T000000|402500.0|       4|      2.0|       1650|    3504|   1.0|         0|   0|        3|    7|       760|          890|    1951|        2013|  98144|47.5803|-122.294|         1480|      3504|12.905450375840756| 8.161660452056282| 64|            2|         24.0|             0.0|        0.0|            0.0|       0.0|(69,[24],[1.0])| (1,[0],[1.0])|(11,[0],[1.0])|(4,[0],[1.0])|(4,[0],[1.0])|(99,[0,1,2,3,4,5,...|12.9055| 13.03557062837904|\n",
            "|3800008|20150224T000000|178000.0|       5|      1.5|       1990|   18200|   1.0|         0|   0|        3|    7|      1990|            0|    1960|           0|  98178|47.4938|-122.262|         1860|      8658|12.089538829274222| 9.809176873064887| 55|         2015|         45.0|             0.0|        0.0|            0.0|       0.0|(69,[45],[1.0])| (1,[0],[1.0])|(11,[0],[1.0])|(4,[0],[1.0])|(4,[0],[1.0])|(99,[0,1,2,3,4,5,...|12.0895|12.632190461835656|\n",
            "|7200080|20141104T000000|239000.0|       4|      2.0|       1980|   10585|   1.5|         0|   0|        2|    6|      1980|            0|    1924|           0|  98055|47.4836|-122.214|         1360|      7810|12.384218830913648| 9.267193183568965| 91|         2015|         42.0|             0.0|        3.0|            3.0|       0.0|(69,[42],[1.0])| (1,[0],[1.0])|(11,[3],[1.0])|(4,[3],[1.0])|(4,[0],[1.0])|(99,[0,1,2,3,4,5,...|12.3842|12.359184805796783|\n",
            "|7200179|20141016T000000|150000.0|       2|      1.0|        840|   12750|   1.0|         0|   0|        3|    6|       840|            0|    1925|           0|  98055| 47.484|-122.211|         1480|      6969|11.918390573078392| 9.453286550586572| 90|         2015|         42.0|             0.0|        3.0|            0.0|       0.0|(69,[42],[1.0])| (1,[0],[1.0])|(11,[3],[1.0])|(4,[0],[1.0])|(4,[0],[1.0])|(99,[0,1,2,3,4,5,...|11.9184|12.250423842067566|\n",
            "|7200179|20150424T000000|175000.0|       2|      1.0|        840|   12750|   1.0|         0|   0|        3|    6|       840|            0|    1925|           0|  98055| 47.484|-122.211|         1480|      6969|12.072541252905651| 9.453286550586572| 90|         2015|         42.0|             0.0|        3.0|            0.0|       0.0|(69,[42],[1.0])| (1,[0],[1.0])|(11,[3],[1.0])|(4,[0],[1.0])|(4,[0],[1.0])|(99,[0,1,2,3,4,5,...|12.0725|12.250423842067566|\n",
            "|7600125|20141218T000000|630000.0|       5|      1.0|       3020|    4800|   2.0|         0|   0|        3|    7|      3020|            0|    1901|           0|  98122|47.6025|-122.313|         1350|      1307|13.353475098367715| 8.476371196895983|114|         2015|         31.0|             0.0|        0.0|            0.0|       0.0|(69,[31],[1.0])| (1,[0],[1.0])|(11,[0],[1.0])|(4,[0],[1.0])|(4,[0],[1.0])|(99,[0,1,2,3,4,5,...|13.3535|13.402649710148436|\n",
            "+-------+---------------+--------+--------+---------+-----------+--------+------+----------+----+---------+-----+----------+-------------+--------+------------+-------+-------+--------+-------------+----------+------------------+------------------+---+-------------+-------------+----------------+-----------+---------------+----------+---------------+--------------+--------------+-------------+-------------+--------------------+-------+------------------+\n",
            "only showing top 10 rows\n",
            "\n"
          ]
        }
      ]
    },
    {
      "cell_type": "code",
      "execution_count": null,
      "metadata": {
        "id": "T5mPFHNR-E7P"
      },
      "outputs": [],
      "source": [
        "#Make predictions on test data and evaluate\n",
        "y_pred_test = lm.transform( test_df )"
      ]
    },
    {
      "cell_type": "code",
      "source": [
        "y_pred_test.show(10, truncate=False)"
      ],
      "metadata": {
        "colab": {
          "base_uri": "https://localhost:8080/"
        },
        "id": "k0YiJUKRzLWs",
        "outputId": "56169235-ef69-4f99-c80f-b7791d126601"
      },
      "execution_count": null,
      "outputs": [
        {
          "output_type": "stream",
          "name": "stdout",
          "text": [
            "+--------+---------------+--------+--------+---------+-----------+--------+------+----------+----+---------+-----+----------+-------------+--------+------------+-------+-------+--------+-------------+----------+------------------+------------------+---+-------------+-------------+----------------+-----------+---------------+----------+---------------+--------------+--------------+-------------+-------------+----------------------------------------------------------------------------------------------------------------------------------------+-------+------------------+\n",
            "|id      |date           |price   |bedrooms|bathrooms|sqft_living|sqft_lot|floors|waterfront|view|condition|grade|sqft_above|sqft_basement|yr_built|yr_renovated|zipcode|lat    |long    |sqft_living15|sqft_lot15|log_price         |log_sqft_lot      |age|rennovate_age|zipcode_Index|waterfront_Index|grade_Index|condition_Index|view_Index|zipcode_vec    |waterfront_vec|grade_vec     |condition_vec|view_vec     |features                                                                                                                                |label  |prediction        |\n",
            "+--------+---------------+--------+--------+---------+-----------+--------+------+----------+----+---------+-----+----------+-------------+--------+------------+-------+-------+--------+-------------+----------+------------------+------------------+---+-------------+-------------+----------------+-----------+---------------+----------+---------------+--------------+--------------+-------------+-------------+----------------------------------------------------------------------------------------------------------------------------------------+-------+------------------+\n",
            "|1200019 |20140508T000000|647500.0|4       |1.75     |2060       |26036   |1.0   |0         |0   |4        |8    |1160      |900          |1947    |0           |98166  |47.4444|-122.351|2590         |21891     |13.38087407255583 |10.167235474692278|68 |2015         |48.0         |0.0             |1.0        |1.0            |0.0       |(69,[48],[1.0])|(1,[0],[1.0]) |(11,[1],[1.0])|(4,[1],[1.0])|(4,[0],[1.0])|(99,[0,1,2,3,4,5,6,7,8,9,58,79,81,92,95],[2060.0,4.0,1.75,1.0,10.167235474692278,68.0,1160.0,2590.0,21891.0,2015.0,1.0,1.0,1.0,1.0,1.0])|13.3809|12.97378749982863 |\n",
            "|3600072 |20150330T000000|680000.0|4       |2.75     |2220       |5310    |1.0   |0         |0   |5        |7    |1170      |1050         |1951    |0           |98144  |47.5801|-122.294|1540         |4200      |13.42984807715229 |8.577347114235984 |64 |2015         |24.0         |0.0             |0.0        |2.0            |0.0       |(69,[24],[1.0])|(1,[0],[1.0]) |(11,[0],[1.0])|(4,[2],[1.0])|(4,[0],[1.0])|(99,[0,1,2,3,4,5,6,7,8,9,34,79,80,93,95],[2220.0,4.0,2.75,1.0,8.577347114235984,64.0,1170.0,1540.0,4200.0,2015.0,1.0,1.0,1.0,1.0,1.0])  |13.4298|13.239182459860803|\n",
            "|5200087 |20140709T000000|487000.0|4       |2.5      |2540       |5001    |2.0   |0         |0   |3        |9    |2540      |0            |2005    |0           |98108  |47.5423|-122.302|2360         |6834      |13.096019402064726|8.517393171418904 |10 |2015         |56.0         |0.0             |2.0        |0.0            |0.0       |(69,[56],[1.0])|(1,[0],[1.0]) |(11,[2],[1.0])|(4,[0],[1.0])|(4,[0],[1.0])|(99,[0,1,2,3,4,5,6,7,8,9,66,79,82,91,95],[2540.0,4.0,2.5,2.0,8.517393171418904,10.0,2540.0,2360.0,6834.0,2015.0,1.0,1.0,1.0,1.0,1.0])   |13.096 |13.157728680289335|\n",
            "|6200017 |20141112T000000|281000.0|3       |1.0      |1340       |21336   |1.5   |0         |0   |4        |5    |1340      |0            |1945    |0           |98032  |47.4023|-122.273|1340         |37703     |12.546109948315882|9.96815106586185  |70 |2015         |61.0         |0.0             |6.0        |1.0            |0.0       |(69,[61],[1.0])|(1,[0],[1.0]) |(11,[6],[1.0])|(4,[1],[1.0])|(4,[0],[1.0])|(99,[0,1,2,3,4,5,6,7,8,9,71,79,86,92,95],[1340.0,3.0,1.0,1.5,9.96815106586185,70.0,1340.0,1340.0,37703.0,2015.0,1.0,1.0,1.0,1.0,1.0])   |12.5461|12.101691867227085|\n",
            "|7400062 |20140521T000000|299800.0|2       |1.0      |790        |5240    |1.0   |0         |0   |4        |6    |790       |0            |1925    |0           |98118  |47.5303|-122.288|1430         |5320      |12.610870864650634|8.564076777315087 |90 |2015         |7.0          |0.0             |3.0        |1.0            |0.0       |(69,[7],[1.0]) |(1,[0],[1.0]) |(11,[3],[1.0])|(4,[1],[1.0])|(4,[0],[1.0])|(99,[0,1,2,3,4,5,6,7,8,9,17,79,83,92,95],[790.0,2.0,1.0,1.0,8.564076777315087,90.0,790.0,1430.0,5320.0,2015.0,1.0,1.0,1.0,1.0,1.0])     |12.6109|12.563100853580927|\n",
            "|7600057 |20140805T000000|520000.0|3       |2.0      |1410       |2700    |2.0   |0         |0   |4        |7    |1410      |0            |1902    |0           |98122  |47.6029|-122.302|1750         |4000      |13.16158409055761 |7.90100705199242  |113|2015         |31.0         |0.0             |0.0        |1.0            |0.0       |(69,[31],[1.0])|(1,[0],[1.0]) |(11,[0],[1.0])|(4,[1],[1.0])|(4,[0],[1.0])|(99,[0,1,2,3,4,5,6,7,8,9,41,79,80,92,95],[1410.0,3.0,2.0,2.0,7.90100705199242,113.0,1410.0,1750.0,4000.0,2015.0,1.0,1.0,1.0,1.0,1.0])   |13.1616|13.178330012485679|\n",
            "|7600065 |20140605T000000|465000.0|3       |2.25     |1530       |1245    |2.0   |0         |0   |3        |9    |1050      |480          |2014    |0           |98122  |47.6018|-122.297|1530         |2307      |13.049792684569493|7.126890808898808 |1  |2015         |31.0         |0.0             |2.0        |0.0            |0.0       |(69,[31],[1.0])|(1,[0],[1.0]) |(11,[2],[1.0])|(4,[0],[1.0])|(4,[0],[1.0])|(99,[0,1,2,3,4,5,6,7,8,9,41,79,82,91,95],[1530.0,3.0,2.25,2.0,7.126890808898808,1.0,1050.0,1530.0,2307.0,2015.0,1.0,1.0,1.0,1.0,1.0])   |13.0498|13.234016576679092|\n",
            "|11200070|20140721T000000|570000.0|3       |2.5      |1530       |3296    |2.0   |0         |0   |3        |8    |1530      |0            |1998    |0           |98007  |47.6181|-122.138|1530         |4099      |13.253391639810733|8.100464891029363 |17 |2015         |59.0         |0.0             |1.0        |0.0            |0.0       |(69,[59],[1.0])|(1,[0],[1.0]) |(11,[1],[1.0])|(4,[0],[1.0])|(4,[0],[1.0])|(99,[0,1,2,3,4,5,6,7,8,9,69,79,81,91,95],[1530.0,3.0,2.5,2.0,8.100464891029363,17.0,1530.0,1530.0,4099.0,2015.0,1.0,1.0,1.0,1.0,1.0])   |13.2534|13.049959632944653|\n",
            "|11200400|20140923T000000|617000.0|3       |2.5      |1910       |4488    |2.0   |0         |0   |3        |8    |1910      |0            |1998    |0           |98007  |47.6176|-122.14 |1530         |3696      |13.332624302887524|8.409162447202533 |17 |2015         |59.0         |0.0             |1.0        |0.0            |0.0       |(69,[59],[1.0])|(1,[0],[1.0]) |(11,[1],[1.0])|(4,[0],[1.0])|(4,[0],[1.0])|(99,[0,1,2,3,4,5,6,7,8,9,69,79,81,91,95],[1910.0,3.0,2.5,2.0,8.409162447202533,17.0,1910.0,1530.0,3696.0,2015.0,1.0,1.0,1.0,1.0,1.0])   |13.3326|13.143058039247327|\n",
            "|11500240|20150428T000000|872750.0|3       |2.5      |2870       |13695   |2.0   |0         |0   |3        |10   |2870      |0            |1991    |0           |98052  |47.6944|-122.102|2840         |8472      |13.679404424967283|9.524786081697178 |24 |2015         |3.0          |0.0             |4.0        |0.0            |0.0       |(69,[3],[1.0]) |(1,[0],[1.0]) |(11,[4],[1.0])|(4,[0],[1.0])|(4,[0],[1.0])|(99,[0,1,2,3,4,5,6,7,8,9,13,79,84,91,95],[2870.0,3.0,2.5,2.0,9.524786081697178,24.0,2870.0,2840.0,8472.0,2015.0,1.0,1.0,1.0,1.0,1.0])   |13.6794|13.629486767582064|\n",
            "+--------+---------------+--------+--------+---------+-----------+--------+------+----------+----+---------+-----+----------+-------------+--------+------------+-------+-------+--------+-------------+----------+------------------+------------------+---+-------------+-------------+----------------+-----------+---------------+----------+---------------+--------------+--------------+-------------+-------------+----------------------------------------------------------------------------------------------------------------------------------------+-------+------------------+\n",
            "only showing top 10 rows\n",
            "\n"
          ]
        }
      ]
    },
    {
      "cell_type": "code",
      "execution_count": null,
      "metadata": {
        "id": "R5jW7d2q-E7P",
        "outputId": "995bca17-8a8e-4274-edd1-4500ddcc307e",
        "colab": {
          "base_uri": "https://localhost:8080/"
        }
      },
      "outputs": [
        {
          "output_type": "stream",
          "name": "stdout",
          "text": [
            "+--------------------+-------+------------------+--------+\n",
            "|            features|  label|        prediction|   price|\n",
            "+--------------------+-------+------------------+--------+\n",
            "|(99,[0,1,2,3,4,5,...|13.3809| 12.97378749982863|647500.0|\n",
            "|(99,[0,1,2,3,4,5,...|13.4298|13.239182459860803|680000.0|\n",
            "|(99,[0,1,2,3,4,5,...| 13.096|13.157728680289335|487000.0|\n",
            "|(99,[0,1,2,3,4,5,...|12.5461|12.101691867227085|281000.0|\n",
            "|(99,[0,1,2,3,4,5,...|12.6109|12.563100853580927|299800.0|\n",
            "+--------------------+-------+------------------+--------+\n",
            "only showing top 5 rows\n",
            "\n"
          ]
        }
      ],
      "source": [
        "y_pred_test.select( 'features',  'label', 'prediction', 'price' ).show( 5 )"
      ]
    },
    {
      "cell_type": "code",
      "execution_count": null,
      "metadata": {
        "id": "Iguj2W5j-E7P"
      },
      "outputs": [],
      "source": [
        "#Calculate the actual predicted price\n",
        "from pyspark.sql.functions import exp\n",
        "y_pred_train = y_pred_train.withColumn( \"y_pred\", exp( 'prediction' ) )\n",
        "y_pred_test = y_pred_test.withColumn( \"y_pred\", exp( 'prediction' ) )"
      ]
    },
    {
      "cell_type": "code",
      "source": [
        "y_pred_test.show(10)"
      ],
      "metadata": {
        "colab": {
          "base_uri": "https://localhost:8080/"
        },
        "id": "cvnfv3BszdtA",
        "outputId": "6552f55f-d572-4b7f-9a95-1050fd5a3be6"
      },
      "execution_count": null,
      "outputs": [
        {
          "output_type": "stream",
          "name": "stdout",
          "text": [
            "+--------+---------------+--------+--------+---------+-----------+--------+------+----------+----+---------+-----+----------+-------------+--------+------------+-------+-------+--------+-------------+----------+------------------+------------------+---+-------------+-------------+----------------+-----------+---------------+----------+---------------+--------------+--------------+-------------+-------------+--------------------+-------+------------------+------------------+\n",
            "|      id|           date|   price|bedrooms|bathrooms|sqft_living|sqft_lot|floors|waterfront|view|condition|grade|sqft_above|sqft_basement|yr_built|yr_renovated|zipcode|    lat|    long|sqft_living15|sqft_lot15|         log_price|      log_sqft_lot|age|rennovate_age|zipcode_Index|waterfront_Index|grade_Index|condition_Index|view_Index|    zipcode_vec|waterfront_vec|     grade_vec|condition_vec|     view_vec|            features|  label|        prediction|            y_pred|\n",
            "+--------+---------------+--------+--------+---------+-----------+--------+------+----------+----+---------+-----+----------+-------------+--------+------------+-------+-------+--------+-------------+----------+------------------+------------------+---+-------------+-------------+----------------+-----------+---------------+----------+---------------+--------------+--------------+-------------+-------------+--------------------+-------+------------------+------------------+\n",
            "| 1200019|20140508T000000|647500.0|       4|     1.75|       2060|   26036|   1.0|         0|   0|        4|    8|      1160|          900|    1947|           0|  98166|47.4444|-122.351|         2590|     21891| 13.38087407255583|10.167235474692278| 68|         2015|         48.0|             0.0|        1.0|            1.0|       0.0|(69,[48],[1.0])| (1,[0],[1.0])|(11,[1],[1.0])|(4,[1],[1.0])|(4,[0],[1.0])|(99,[0,1,2,3,4,5,...|13.3809| 12.97378749982863| 430967.3015905408|\n",
            "| 3600072|20150330T000000|680000.0|       4|     2.75|       2220|    5310|   1.0|         0|   0|        5|    7|      1170|         1050|    1951|           0|  98144|47.5801|-122.294|         1540|      4200| 13.42984807715229| 8.577347114235984| 64|         2015|         24.0|             0.0|        0.0|            2.0|       0.0|(69,[24],[1.0])| (1,[0],[1.0])|(11,[0],[1.0])|(4,[2],[1.0])|(4,[0],[1.0])|(99,[0,1,2,3,4,5,...|13.4298|13.239182459860803| 561958.0375802218|\n",
            "| 5200087|20140709T000000|487000.0|       4|      2.5|       2540|    5001|   2.0|         0|   0|        3|    9|      2540|            0|    2005|           0|  98108|47.5423|-122.302|         2360|      6834|13.096019402064726| 8.517393171418904| 10|         2015|         56.0|             0.0|        2.0|            0.0|       0.0|(69,[56],[1.0])| (1,[0],[1.0])|(11,[2],[1.0])|(4,[0],[1.0])|(4,[0],[1.0])|(99,[0,1,2,3,4,5,...| 13.096|13.157728680289335|517999.04638759396|\n",
            "| 6200017|20141112T000000|281000.0|       3|      1.0|       1340|   21336|   1.5|         0|   0|        4|    5|      1340|            0|    1945|           0|  98032|47.4023|-122.273|         1340|     37703|12.546109948315882|  9.96815106586185| 70|         2015|         61.0|             0.0|        6.0|            1.0|       0.0|(69,[61],[1.0])| (1,[0],[1.0])|(11,[6],[1.0])|(4,[1],[1.0])|(4,[0],[1.0])|(99,[0,1,2,3,4,5,...|12.5461|12.101691867227085|180176.43914174841|\n",
            "| 7400062|20140521T000000|299800.0|       2|      1.0|        790|    5240|   1.0|         0|   0|        4|    6|       790|            0|    1925|           0|  98118|47.5303|-122.288|         1430|      5320|12.610870864650634| 8.564076777315087| 90|         2015|          7.0|             0.0|        3.0|            1.0|       0.0| (69,[7],[1.0])| (1,[0],[1.0])|(11,[3],[1.0])|(4,[1],[1.0])|(4,[0],[1.0])|(99,[0,1,2,3,4,5,...|12.6109|12.563100853580927| 285815.2361477531|\n",
            "| 7600057|20140805T000000|520000.0|       3|      2.0|       1410|    2700|   2.0|         0|   0|        4|    7|      1410|            0|    1902|           0|  98122|47.6029|-122.302|         1750|      4000| 13.16158409055761|  7.90100705199242|113|         2015|         31.0|             0.0|        0.0|            1.0|       0.0|(69,[31],[1.0])| (1,[0],[1.0])|(11,[0],[1.0])|(4,[1],[1.0])|(4,[0],[1.0])|(99,[0,1,2,3,4,5,...|13.1616|13.178330012485679| 528781.1988322955|\n",
            "| 7600065|20140605T000000|465000.0|       3|     2.25|       1530|    1245|   2.0|         0|   0|        3|    9|      1050|          480|    2014|           0|  98122|47.6018|-122.297|         1530|      2307|13.049792684569493| 7.126890808898808|  1|         2015|         31.0|             0.0|        2.0|            0.0|       0.0|(69,[31],[1.0])| (1,[0],[1.0])|(11,[2],[1.0])|(4,[0],[1.0])|(4,[0],[1.0])|(99,[0,1,2,3,4,5,...|13.0498|13.234016576679092| 559062.5134140995|\n",
            "|11200070|20140721T000000|570000.0|       3|      2.5|       1530|    3296|   2.0|         0|   0|        3|    8|      1530|            0|    1998|           0|  98007|47.6181|-122.138|         1530|      4099|13.253391639810733| 8.100464891029363| 17|         2015|         59.0|             0.0|        1.0|            0.0|       0.0|(69,[59],[1.0])| (1,[0],[1.0])|(11,[1],[1.0])|(4,[0],[1.0])|(4,[0],[1.0])|(99,[0,1,2,3,4,5,...|13.2534|13.049959632944653| 465077.6374749938|\n",
            "|11200400|20140923T000000|617000.0|       3|      2.5|       1910|    4488|   2.0|         0|   0|        3|    8|      1910|            0|    1998|           0|  98007|47.6176| -122.14|         1530|      3696|13.332624302887524| 8.409162447202533| 17|         2015|         59.0|             0.0|        1.0|            0.0|       0.0|(69,[59],[1.0])| (1,[0],[1.0])|(11,[1],[1.0])|(4,[0],[1.0])|(4,[0],[1.0])|(99,[0,1,2,3,4,5,...|13.3326|13.143058039247327|510455.14058926154|\n",
            "|11500240|20150428T000000|872750.0|       3|      2.5|       2870|   13695|   2.0|         0|   0|        3|   10|      2870|            0|    1991|           0|  98052|47.6944|-122.102|         2840|      8472|13.679404424967283| 9.524786081697178| 24|         2015|          3.0|             0.0|        4.0|            0.0|       0.0| (69,[3],[1.0])| (1,[0],[1.0])|(11,[4],[1.0])|(4,[0],[1.0])|(4,[0],[1.0])|(99,[0,1,2,3,4,5,...|13.6794|13.629486767582064| 830253.8426907271|\n",
            "+--------+---------------+--------+--------+---------+-----------+--------+------+----------+----+---------+-----+----------+-------------+--------+------------+-------+-------+--------+-------------+----------+------------------+------------------+---+-------------+-------------+----------------+-----------+---------------+----------+---------------+--------------+--------------+-------------+-------------+--------------------+-------+------------------+------------------+\n",
            "only showing top 10 rows\n",
            "\n"
          ]
        }
      ]
    },
    {
      "cell_type": "code",
      "execution_count": null,
      "metadata": {
        "id": "esoE1ta1-E7P"
      },
      "outputs": [],
      "source": [
        "#Calculate RMSE\n",
        "from pyspark.ml.evaluation import RegressionEvaluator\n",
        "\n",
        "rmse_evaluator = RegressionEvaluator(labelCol=\"price\",\n",
        "                              predictionCol=\"y_pred\",\n",
        "                              metricName=\"rmse\" )"
      ]
    },
    {
      "cell_type": "code",
      "source": [
        "lm_rmse_train = rmse_evaluator.evaluate( y_pred_train )"
      ],
      "metadata": {
        "id": "UCANo2zB1dg-"
      },
      "execution_count": null,
      "outputs": []
    },
    {
      "cell_type": "code",
      "source": [
        "lm_rmse_train"
      ],
      "metadata": {
        "colab": {
          "base_uri": "https://localhost:8080/"
        },
        "id": "s45s4w7h1wa5",
        "outputId": "e5a55bbe-6b74-4bd9-9796-4c7afeca025b"
      },
      "execution_count": null,
      "outputs": [
        {
          "output_type": "execute_result",
          "data": {
            "text/plain": [
              "136032.8437602411"
            ]
          },
          "metadata": {},
          "execution_count": 355
        }
      ]
    },
    {
      "cell_type": "code",
      "execution_count": null,
      "metadata": {
        "id": "DKSfEJ1E-E7P"
      },
      "outputs": [],
      "source": [
        "lm_rmse_test = rmse_evaluator.evaluate( y_pred_test )"
      ]
    },
    {
      "cell_type": "code",
      "execution_count": null,
      "metadata": {
        "id": "Dxi-zC4y-E7P",
        "outputId": "e8b2d093-531f-458a-8be8-8f9a6c86aeab",
        "colab": {
          "base_uri": "https://localhost:8080/"
        }
      },
      "outputs": [
        {
          "output_type": "execute_result",
          "data": {
            "text/plain": [
              "169421.45417217334"
            ]
          },
          "metadata": {},
          "execution_count": 358
        }
      ],
      "source": [
        "lm_rmse_test"
      ]
    },
    {
      "cell_type": "code",
      "execution_count": null,
      "metadata": {
        "id": "vZJjdBbP-E7Q"
      },
      "outputs": [],
      "source": [
        "#Calculate R-squared\n",
        "r2_evaluator = RegressionEvaluator(labelCol=\"price\",\n",
        "                              predictionCol=\"y_pred\",\n",
        "                              metricName=\"r2\" )"
      ]
    },
    {
      "cell_type": "code",
      "source": [
        "lm_r2_train = r2_evaluator.evaluate( y_pred_train )\n",
        "lm_r2_train"
      ],
      "metadata": {
        "colab": {
          "base_uri": "https://localhost:8080/"
        },
        "id": "6cvtEnl62BSN",
        "outputId": "0431c576-5492-4fe7-f512-a566e1f11e19"
      },
      "execution_count": null,
      "outputs": [
        {
          "output_type": "execute_result",
          "data": {
            "text/plain": [
              "0.8626957156195147"
            ]
          },
          "metadata": {},
          "execution_count": 364
        }
      ]
    },
    {
      "cell_type": "code",
      "execution_count": null,
      "metadata": {
        "id": "u94fDyZG-E7Q"
      },
      "outputs": [],
      "source": [
        "lm_r2_test = r2_evaluator.evaluate( y_pred_test )"
      ]
    },
    {
      "cell_type": "code",
      "execution_count": null,
      "metadata": {
        "id": "w9pRJTTa-E7Q",
        "outputId": "50e3d6b7-4384-43c8-eeaa-f1dffe2d59b3",
        "colab": {
          "base_uri": "https://localhost:8080/"
        }
      },
      "outputs": [
        {
          "output_type": "execute_result",
          "data": {
            "text/plain": [
              "0.7870371514391891"
            ]
          },
          "metadata": {},
          "execution_count": 366
        }
      ],
      "source": [
        "lm_r2_test"
      ]
    },
    {
      "cell_type": "code",
      "execution_count": null,
      "metadata": {
        "id": "J2YtU-xM-E7Q"
      },
      "outputs": [],
      "source": [
        "#An utility function to get evaluation metrics: R-squared and RMSE Values\n",
        "def get_r2_rmse( model, test_df ):\n",
        "  y_pred = model.transform( test_df )\n",
        "  y_pred = y_pred.withColumn( \"y_pred\", exp( 'prediction' ) )\n",
        "  rmse_evaluator = RegressionEvaluator(labelCol=\"price\",\n",
        "                              predictionCol=\"y_pred\",\n",
        "                              metricName=\"rmse\" )\n",
        "  r2_evaluator = RegressionEvaluator(labelCol=\"price\",\n",
        "                              predictionCol=\"y_pred\",\n",
        "                              metricName=\"r2\" )\n",
        "\n",
        "  return [np.round( r2_evaluator.evaluate( y_pred ), 2), np.round( rmse_evaluator.evaluate( y_pred ), 2 )]"
      ]
    },
    {
      "cell_type": "code",
      "execution_count": null,
      "metadata": {
        "id": "Rll4fnKt-E7Q"
      },
      "outputs": [],
      "source": [
        "perf_params = get_r2_rmse( lm, test_df )"
      ]
    },
    {
      "cell_type": "code",
      "execution_count": null,
      "metadata": {
        "id": "ODKyp2jG-E7R",
        "outputId": "b2a6bc09-aaa5-4a1e-f1fd-1ae238e3ace4",
        "colab": {
          "base_uri": "https://localhost:8080/"
        }
      },
      "outputs": [
        {
          "output_type": "execute_result",
          "data": {
            "text/plain": [
              "[0.79, 169421.45]"
            ]
          },
          "metadata": {},
          "execution_count": 369
        }
      ],
      "source": [
        "perf_params"
      ]
    },
    {
      "cell_type": "code",
      "execution_count": null,
      "metadata": {
        "id": "AthjMJ85-E7R",
        "outputId": "1b5fefb2-63ad-427d-a819-41762b08be1f",
        "colab": {
          "base_uri": "https://localhost:8080/",
          "height": 81
        }
      },
      "outputs": [
        {
          "output_type": "execute_result",
          "data": {
            "text/plain": [
              "                name  rsquared       rmse\n",
              "0  Linear Regression      0.79  169421.45"
            ],
            "text/html": [
              "\n",
              "  <div id=\"df-c5bd41ee-5333-4384-8a1d-0604670ddd0e\">\n",
              "    <div class=\"colab-df-container\">\n",
              "      <div>\n",
              "<style scoped>\n",
              "    .dataframe tbody tr th:only-of-type {\n",
              "        vertical-align: middle;\n",
              "    }\n",
              "\n",
              "    .dataframe tbody tr th {\n",
              "        vertical-align: top;\n",
              "    }\n",
              "\n",
              "    .dataframe thead th {\n",
              "        text-align: right;\n",
              "    }\n",
              "</style>\n",
              "<table border=\"1\" class=\"dataframe\">\n",
              "  <thead>\n",
              "    <tr style=\"text-align: right;\">\n",
              "      <th></th>\n",
              "      <th>name</th>\n",
              "      <th>rsquared</th>\n",
              "      <th>rmse</th>\n",
              "    </tr>\n",
              "  </thead>\n",
              "  <tbody>\n",
              "    <tr>\n",
              "      <th>0</th>\n",
              "      <td>Linear Regression</td>\n",
              "      <td>0.79</td>\n",
              "      <td>169421.45</td>\n",
              "    </tr>\n",
              "  </tbody>\n",
              "</table>\n",
              "</div>\n",
              "      <button class=\"colab-df-convert\" onclick=\"convertToInteractive('df-c5bd41ee-5333-4384-8a1d-0604670ddd0e')\"\n",
              "              title=\"Convert this dataframe to an interactive table.\"\n",
              "              style=\"display:none;\">\n",
              "        \n",
              "  <svg xmlns=\"http://www.w3.org/2000/svg\" height=\"24px\"viewBox=\"0 0 24 24\"\n",
              "       width=\"24px\">\n",
              "    <path d=\"M0 0h24v24H0V0z\" fill=\"none\"/>\n",
              "    <path d=\"M18.56 5.44l.94 2.06.94-2.06 2.06-.94-2.06-.94-.94-2.06-.94 2.06-2.06.94zm-11 1L8.5 8.5l.94-2.06 2.06-.94-2.06-.94L8.5 2.5l-.94 2.06-2.06.94zm10 10l.94 2.06.94-2.06 2.06-.94-2.06-.94-.94-2.06-.94 2.06-2.06.94z\"/><path d=\"M17.41 7.96l-1.37-1.37c-.4-.4-.92-.59-1.43-.59-.52 0-1.04.2-1.43.59L10.3 9.45l-7.72 7.72c-.78.78-.78 2.05 0 2.83L4 21.41c.39.39.9.59 1.41.59.51 0 1.02-.2 1.41-.59l7.78-7.78 2.81-2.81c.8-.78.8-2.07 0-2.86zM5.41 20L4 18.59l7.72-7.72 1.47 1.35L5.41 20z\"/>\n",
              "  </svg>\n",
              "      </button>\n",
              "      \n",
              "  <style>\n",
              "    .colab-df-container {\n",
              "      display:flex;\n",
              "      flex-wrap:wrap;\n",
              "      gap: 12px;\n",
              "    }\n",
              "\n",
              "    .colab-df-convert {\n",
              "      background-color: #E8F0FE;\n",
              "      border: none;\n",
              "      border-radius: 50%;\n",
              "      cursor: pointer;\n",
              "      display: none;\n",
              "      fill: #1967D2;\n",
              "      height: 32px;\n",
              "      padding: 0 0 0 0;\n",
              "      width: 32px;\n",
              "    }\n",
              "\n",
              "    .colab-df-convert:hover {\n",
              "      background-color: #E2EBFA;\n",
              "      box-shadow: 0px 1px 2px rgba(60, 64, 67, 0.3), 0px 1px 3px 1px rgba(60, 64, 67, 0.15);\n",
              "      fill: #174EA6;\n",
              "    }\n",
              "\n",
              "    [theme=dark] .colab-df-convert {\n",
              "      background-color: #3B4455;\n",
              "      fill: #D2E3FC;\n",
              "    }\n",
              "\n",
              "    [theme=dark] .colab-df-convert:hover {\n",
              "      background-color: #434B5C;\n",
              "      box-shadow: 0px 1px 3px 1px rgba(0, 0, 0, 0.15);\n",
              "      filter: drop-shadow(0px 1px 2px rgba(0, 0, 0, 0.3));\n",
              "      fill: #FFFFFF;\n",
              "    }\n",
              "  </style>\n",
              "\n",
              "      <script>\n",
              "        const buttonEl =\n",
              "          document.querySelector('#df-c5bd41ee-5333-4384-8a1d-0604670ddd0e button.colab-df-convert');\n",
              "        buttonEl.style.display =\n",
              "          google.colab.kernel.accessAllowed ? 'block' : 'none';\n",
              "\n",
              "        async function convertToInteractive(key) {\n",
              "          const element = document.querySelector('#df-c5bd41ee-5333-4384-8a1d-0604670ddd0e');\n",
              "          const dataTable =\n",
              "            await google.colab.kernel.invokeFunction('convertToInteractive',\n",
              "                                                     [key], {});\n",
              "          if (!dataTable) return;\n",
              "\n",
              "          const docLinkHtml = 'Like what you see? Visit the ' +\n",
              "            '<a target=\"_blank\" href=https://colab.research.google.com/notebooks/data_table.ipynb>data table notebook</a>'\n",
              "            + ' to learn more about interactive tables.';\n",
              "          element.innerHTML = '';\n",
              "          dataTable['output_type'] = 'display_data';\n",
              "          await google.colab.output.renderOutput(dataTable, element);\n",
              "          const docLink = document.createElement('div');\n",
              "          docLink.innerHTML = docLinkHtml;\n",
              "          element.appendChild(docLink);\n",
              "        }\n",
              "      </script>\n",
              "    </div>\n",
              "  </div>\n",
              "  "
            ]
          },
          "metadata": {},
          "execution_count": 370
        }
      ],
      "source": [
        "#Create a dataframe to store all model performances\n",
        "import pandas as pd\n",
        "\n",
        "model_perf = pd.DataFrame( columns = ['name', 'rsquared', 'rmse'] )\n",
        "\n",
        "model_perf = model_perf.append( pd.Series( [\"Linear Regression\"] + perf_params ,\n",
        "                 index = model_perf.columns ),\n",
        "                 ignore_index = True )\n",
        "model_perf"
      ]
    },
    {
      "cell_type": "code",
      "execution_count": null,
      "metadata": {
        "id": "RHEr4Xka-E7R"
      },
      "outputs": [],
      "source": [
        "#Grid Search for Optimal Regularization Parameter\n",
        "from pyspark.ml.tuning import CrossValidator, ParamGridBuilder"
      ]
    },
    {
      "cell_type": "code",
      "execution_count": null,
      "metadata": {
        "id": "U-7pLblD-E7R"
      },
      "outputs": [],
      "source": [
        "lrModel = LinearRegression(maxIter=50)"
      ]
    },
    {
      "cell_type": "markdown",
      "metadata": {
        "id": "pqPOqDSZ-E7R"
      },
      "source": [
        "### LinearRegression takes two paramteres\n",
        "\n",
        "- regParam=0.0, elasticNetParam=0.0\n",
        "- If you are interested in controlling the L1 and L2 penalty separately, keep in mind that this is equivalent to:\n",
        "- a L1 + b L2\n",
        "\n",
        "where:\n",
        "- regParam = a + b and elasticNetParam = a / (a + b)\n",
        "- When elasticNetParam is 1, b = 0. That means it is a L1 penalty i.e. Lasso Penalty.\n",
        "- Whene elasticNetParam is 0, a = 0. That means it is L2 penalty i.e. Ridge Penalty."
      ]
    },
    {
      "cell_type": "markdown",
      "metadata": {
        "id": "mM7jfLCR-E7S"
      },
      "source": [
        "#Using Rigde Regression\n",
        "- the regParam is a L2 (ridge) penalty, if elastic param is 0"
      ]
    },
    {
      "cell_type": "code",
      "execution_count": null,
      "metadata": {
        "id": "jEbRN-21-E7S"
      },
      "outputs": [],
      "source": [
        "paramGrid = ParamGridBuilder()                          \\\n",
        "  .addGrid(lrModel.regParam, [0.1, 0.01, 0.001])      \\\n",
        "  .addGrid(lrModel.elasticNetParam, [0.0])            \\\n",
        "  .build()"
      ]
    },
    {
      "cell_type": "code",
      "execution_count": null,
      "metadata": {
        "id": "wHM0LhDA-E7S"
      },
      "outputs": [],
      "source": [
        "evaluator = RegressionEvaluator(\n",
        "  metricName=\"r2\",\n",
        "  labelCol=\"label\",\n",
        ")"
      ]
    },
    {
      "cell_type": "code",
      "execution_count": null,
      "metadata": {
        "id": "cjcsNbZ0-E7S"
      },
      "outputs": [],
      "source": [
        "crossval = CrossValidator(estimator=lrModel,\n",
        "                        estimatorParamMaps=paramGrid,\n",
        "                        evaluator=evaluator,\n",
        "                        numFolds=2)  # use 3+ folds in practice"
      ]
    },
    {
      "cell_type": "code",
      "execution_count": null,
      "metadata": {
        "id": "CAvzxcQS-E7S"
      },
      "outputs": [],
      "source": [
        "cvModel = crossval.fit( train_df )"
      ]
    },
    {
      "cell_type": "code",
      "execution_count": null,
      "metadata": {
        "id": "2f_-5XqA-E7S",
        "outputId": "232ced33-33b5-42a5-8794-70b7b267a2ec",
        "colab": {
          "base_uri": "https://localhost:8080/"
        }
      },
      "outputs": [
        {
          "output_type": "execute_result",
          "data": {
            "text/plain": [
              "0.001"
            ]
          },
          "metadata": {},
          "execution_count": 204
        }
      ],
      "source": [
        "#Find the best parameters\n",
        "cvModel.bestModel._java_obj.getRegParam()"
      ]
    },
    {
      "cell_type": "code",
      "execution_count": null,
      "metadata": {
        "id": "Rf1oDQkj-E7T",
        "outputId": "1185f8c6-09c1-4966-b8f0-1aa534eed938",
        "colab": {
          "base_uri": "https://localhost:8080/"
        }
      },
      "outputs": [
        {
          "output_type": "execute_result",
          "data": {
            "text/plain": [
              "0.0"
            ]
          },
          "metadata": {},
          "execution_count": 205
        }
      ],
      "source": [
        "cvModel.bestModel._java_obj.getElasticNetParam()"
      ]
    },
    {
      "cell_type": "code",
      "execution_count": null,
      "metadata": {
        "id": "TOF8aQcu-E7T"
      },
      "outputs": [],
      "source": [
        "ridge_perf = get_r2_rmse( cvModel.bestModel, test_df )"
      ]
    },
    {
      "cell_type": "code",
      "execution_count": null,
      "metadata": {
        "id": "nbkYObwv-E7T",
        "outputId": "4998c59e-d85c-4527-cd5d-6e8974ea4ab9",
        "colab": {
          "base_uri": "https://localhost:8080/",
          "height": 112
        }
      },
      "outputs": [
        {
          "output_type": "execute_result",
          "data": {
            "text/plain": [
              "                name  rsquared       rmse\n",
              "0  Linear Regression      0.79  169421.45\n",
              "1   Ridge Regression      0.76  178486.98"
            ],
            "text/html": [
              "\n",
              "  <div id=\"df-3528e6f0-6183-489f-8cfc-1cdd3134b5a1\">\n",
              "    <div class=\"colab-df-container\">\n",
              "      <div>\n",
              "<style scoped>\n",
              "    .dataframe tbody tr th:only-of-type {\n",
              "        vertical-align: middle;\n",
              "    }\n",
              "\n",
              "    .dataframe tbody tr th {\n",
              "        vertical-align: top;\n",
              "    }\n",
              "\n",
              "    .dataframe thead th {\n",
              "        text-align: right;\n",
              "    }\n",
              "</style>\n",
              "<table border=\"1\" class=\"dataframe\">\n",
              "  <thead>\n",
              "    <tr style=\"text-align: right;\">\n",
              "      <th></th>\n",
              "      <th>name</th>\n",
              "      <th>rsquared</th>\n",
              "      <th>rmse</th>\n",
              "    </tr>\n",
              "  </thead>\n",
              "  <tbody>\n",
              "    <tr>\n",
              "      <th>0</th>\n",
              "      <td>Linear Regression</td>\n",
              "      <td>0.79</td>\n",
              "      <td>169421.45</td>\n",
              "    </tr>\n",
              "    <tr>\n",
              "      <th>1</th>\n",
              "      <td>Ridge Regression</td>\n",
              "      <td>0.76</td>\n",
              "      <td>178486.98</td>\n",
              "    </tr>\n",
              "  </tbody>\n",
              "</table>\n",
              "</div>\n",
              "      <button class=\"colab-df-convert\" onclick=\"convertToInteractive('df-3528e6f0-6183-489f-8cfc-1cdd3134b5a1')\"\n",
              "              title=\"Convert this dataframe to an interactive table.\"\n",
              "              style=\"display:none;\">\n",
              "        \n",
              "  <svg xmlns=\"http://www.w3.org/2000/svg\" height=\"24px\"viewBox=\"0 0 24 24\"\n",
              "       width=\"24px\">\n",
              "    <path d=\"M0 0h24v24H0V0z\" fill=\"none\"/>\n",
              "    <path d=\"M18.56 5.44l.94 2.06.94-2.06 2.06-.94-2.06-.94-.94-2.06-.94 2.06-2.06.94zm-11 1L8.5 8.5l.94-2.06 2.06-.94-2.06-.94L8.5 2.5l-.94 2.06-2.06.94zm10 10l.94 2.06.94-2.06 2.06-.94-2.06-.94-.94-2.06-.94 2.06-2.06.94z\"/><path d=\"M17.41 7.96l-1.37-1.37c-.4-.4-.92-.59-1.43-.59-.52 0-1.04.2-1.43.59L10.3 9.45l-7.72 7.72c-.78.78-.78 2.05 0 2.83L4 21.41c.39.39.9.59 1.41.59.51 0 1.02-.2 1.41-.59l7.78-7.78 2.81-2.81c.8-.78.8-2.07 0-2.86zM5.41 20L4 18.59l7.72-7.72 1.47 1.35L5.41 20z\"/>\n",
              "  </svg>\n",
              "      </button>\n",
              "      \n",
              "  <style>\n",
              "    .colab-df-container {\n",
              "      display:flex;\n",
              "      flex-wrap:wrap;\n",
              "      gap: 12px;\n",
              "    }\n",
              "\n",
              "    .colab-df-convert {\n",
              "      background-color: #E8F0FE;\n",
              "      border: none;\n",
              "      border-radius: 50%;\n",
              "      cursor: pointer;\n",
              "      display: none;\n",
              "      fill: #1967D2;\n",
              "      height: 32px;\n",
              "      padding: 0 0 0 0;\n",
              "      width: 32px;\n",
              "    }\n",
              "\n",
              "    .colab-df-convert:hover {\n",
              "      background-color: #E2EBFA;\n",
              "      box-shadow: 0px 1px 2px rgba(60, 64, 67, 0.3), 0px 1px 3px 1px rgba(60, 64, 67, 0.15);\n",
              "      fill: #174EA6;\n",
              "    }\n",
              "\n",
              "    [theme=dark] .colab-df-convert {\n",
              "      background-color: #3B4455;\n",
              "      fill: #D2E3FC;\n",
              "    }\n",
              "\n",
              "    [theme=dark] .colab-df-convert:hover {\n",
              "      background-color: #434B5C;\n",
              "      box-shadow: 0px 1px 3px 1px rgba(0, 0, 0, 0.15);\n",
              "      filter: drop-shadow(0px 1px 2px rgba(0, 0, 0, 0.3));\n",
              "      fill: #FFFFFF;\n",
              "    }\n",
              "  </style>\n",
              "\n",
              "      <script>\n",
              "        const buttonEl =\n",
              "          document.querySelector('#df-3528e6f0-6183-489f-8cfc-1cdd3134b5a1 button.colab-df-convert');\n",
              "        buttonEl.style.display =\n",
              "          google.colab.kernel.accessAllowed ? 'block' : 'none';\n",
              "\n",
              "        async function convertToInteractive(key) {\n",
              "          const element = document.querySelector('#df-3528e6f0-6183-489f-8cfc-1cdd3134b5a1');\n",
              "          const dataTable =\n",
              "            await google.colab.kernel.invokeFunction('convertToInteractive',\n",
              "                                                     [key], {});\n",
              "          if (!dataTable) return;\n",
              "\n",
              "          const docLinkHtml = 'Like what you see? Visit the ' +\n",
              "            '<a target=\"_blank\" href=https://colab.research.google.com/notebooks/data_table.ipynb>data table notebook</a>'\n",
              "            + ' to learn more about interactive tables.';\n",
              "          element.innerHTML = '';\n",
              "          dataTable['output_type'] = 'display_data';\n",
              "          await google.colab.output.renderOutput(dataTable, element);\n",
              "          const docLink = document.createElement('div');\n",
              "          docLink.innerHTML = docLinkHtml;\n",
              "          element.appendChild(docLink);\n",
              "        }\n",
              "      </script>\n",
              "    </div>\n",
              "  </div>\n",
              "  "
            ]
          },
          "metadata": {},
          "execution_count": 207
        }
      ],
      "source": [
        "model_perf = model_perf.append( pd.Series( [\"Ridge Regression\"] + ridge_perf ,\n",
        "                 index = model_perf.columns ),\n",
        "                 ignore_index = True )\n",
        "\n",
        "model_perf"
      ]
    },
    {
      "cell_type": "code",
      "execution_count": null,
      "metadata": {
        "id": "SsfRcBPv-E7T"
      },
      "outputs": [],
      "source": [
        "#Using Lasso Regression\n",
        "#the regParam is a L1 (ridge) penalty, if elastic param is 1.0\n",
        "\n",
        "paramGrid = ParamGridBuilder()                          \\\n",
        "  .addGrid(lrModel.regParam, [0.1, 0.01, 0.001])      \\\n",
        "  .addGrid(lrModel.elasticNetParam, [1.0])            \\\n",
        "  .build()\n",
        "\n",
        "evaluator = RegressionEvaluator(\n",
        "  metricName=\"r2\",\n",
        "  labelCol=\"label\",\n",
        ")\n",
        "\n",
        "crossval = CrossValidator(estimator=lrModel,\n",
        "                        estimatorParamMaps=paramGrid,\n",
        "                        evaluator=evaluator,\n",
        "                        numFolds=2)  # use 3+ folds in practice"
      ]
    },
    {
      "cell_type": "code",
      "execution_count": null,
      "metadata": {
        "id": "Tjh7cZ4A-E7U",
        "outputId": "cf11b129-b43c-48c3-cd60-5cd5e0c97544",
        "colab": {
          "base_uri": "https://localhost:8080/"
        }
      },
      "outputs": [
        {
          "output_type": "execute_result",
          "data": {
            "text/plain": [
              "1.0"
            ]
          },
          "metadata": {},
          "execution_count": 209
        }
      ],
      "source": [
        "cvModel = crossval.fit( train_df )\n",
        "cvModel.bestModel._java_obj.getElasticNetParam()"
      ]
    },
    {
      "cell_type": "code",
      "execution_count": null,
      "metadata": {
        "id": "PiPs8jzH-E7U",
        "outputId": "908f8c50-928c-4378-9903-a2f8cea40181",
        "colab": {
          "base_uri": "https://localhost:8080/"
        }
      },
      "outputs": [
        {
          "output_type": "execute_result",
          "data": {
            "text/plain": [
              "0.001"
            ]
          },
          "metadata": {},
          "execution_count": 210
        }
      ],
      "source": [
        "cvModel.bestModel._java_obj.getRegParam()"
      ]
    },
    {
      "cell_type": "code",
      "execution_count": null,
      "metadata": {
        "id": "tTO5kXpR-E7U",
        "outputId": "3f35e477-e9e6-41a1-97dd-25f8a34a6dff",
        "colab": {
          "base_uri": "https://localhost:8080/",
          "height": 143
        }
      },
      "outputs": [
        {
          "output_type": "execute_result",
          "data": {
            "text/plain": [
              "                name  rsquared       rmse\n",
              "0  Linear Regression      0.79  169421.45\n",
              "1   Ridge Regression      0.76  178486.98\n",
              "2   Lasso Regression      0.74  187749.85"
            ],
            "text/html": [
              "\n",
              "  <div id=\"df-6f3c075f-5a7b-49c9-adbd-58b18bc302d4\">\n",
              "    <div class=\"colab-df-container\">\n",
              "      <div>\n",
              "<style scoped>\n",
              "    .dataframe tbody tr th:only-of-type {\n",
              "        vertical-align: middle;\n",
              "    }\n",
              "\n",
              "    .dataframe tbody tr th {\n",
              "        vertical-align: top;\n",
              "    }\n",
              "\n",
              "    .dataframe thead th {\n",
              "        text-align: right;\n",
              "    }\n",
              "</style>\n",
              "<table border=\"1\" class=\"dataframe\">\n",
              "  <thead>\n",
              "    <tr style=\"text-align: right;\">\n",
              "      <th></th>\n",
              "      <th>name</th>\n",
              "      <th>rsquared</th>\n",
              "      <th>rmse</th>\n",
              "    </tr>\n",
              "  </thead>\n",
              "  <tbody>\n",
              "    <tr>\n",
              "      <th>0</th>\n",
              "      <td>Linear Regression</td>\n",
              "      <td>0.79</td>\n",
              "      <td>169421.45</td>\n",
              "    </tr>\n",
              "    <tr>\n",
              "      <th>1</th>\n",
              "      <td>Ridge Regression</td>\n",
              "      <td>0.76</td>\n",
              "      <td>178486.98</td>\n",
              "    </tr>\n",
              "    <tr>\n",
              "      <th>2</th>\n",
              "      <td>Lasso Regression</td>\n",
              "      <td>0.74</td>\n",
              "      <td>187749.85</td>\n",
              "    </tr>\n",
              "  </tbody>\n",
              "</table>\n",
              "</div>\n",
              "      <button class=\"colab-df-convert\" onclick=\"convertToInteractive('df-6f3c075f-5a7b-49c9-adbd-58b18bc302d4')\"\n",
              "              title=\"Convert this dataframe to an interactive table.\"\n",
              "              style=\"display:none;\">\n",
              "        \n",
              "  <svg xmlns=\"http://www.w3.org/2000/svg\" height=\"24px\"viewBox=\"0 0 24 24\"\n",
              "       width=\"24px\">\n",
              "    <path d=\"M0 0h24v24H0V0z\" fill=\"none\"/>\n",
              "    <path d=\"M18.56 5.44l.94 2.06.94-2.06 2.06-.94-2.06-.94-.94-2.06-.94 2.06-2.06.94zm-11 1L8.5 8.5l.94-2.06 2.06-.94-2.06-.94L8.5 2.5l-.94 2.06-2.06.94zm10 10l.94 2.06.94-2.06 2.06-.94-2.06-.94-.94-2.06-.94 2.06-2.06.94z\"/><path d=\"M17.41 7.96l-1.37-1.37c-.4-.4-.92-.59-1.43-.59-.52 0-1.04.2-1.43.59L10.3 9.45l-7.72 7.72c-.78.78-.78 2.05 0 2.83L4 21.41c.39.39.9.59 1.41.59.51 0 1.02-.2 1.41-.59l7.78-7.78 2.81-2.81c.8-.78.8-2.07 0-2.86zM5.41 20L4 18.59l7.72-7.72 1.47 1.35L5.41 20z\"/>\n",
              "  </svg>\n",
              "      </button>\n",
              "      \n",
              "  <style>\n",
              "    .colab-df-container {\n",
              "      display:flex;\n",
              "      flex-wrap:wrap;\n",
              "      gap: 12px;\n",
              "    }\n",
              "\n",
              "    .colab-df-convert {\n",
              "      background-color: #E8F0FE;\n",
              "      border: none;\n",
              "      border-radius: 50%;\n",
              "      cursor: pointer;\n",
              "      display: none;\n",
              "      fill: #1967D2;\n",
              "      height: 32px;\n",
              "      padding: 0 0 0 0;\n",
              "      width: 32px;\n",
              "    }\n",
              "\n",
              "    .colab-df-convert:hover {\n",
              "      background-color: #E2EBFA;\n",
              "      box-shadow: 0px 1px 2px rgba(60, 64, 67, 0.3), 0px 1px 3px 1px rgba(60, 64, 67, 0.15);\n",
              "      fill: #174EA6;\n",
              "    }\n",
              "\n",
              "    [theme=dark] .colab-df-convert {\n",
              "      background-color: #3B4455;\n",
              "      fill: #D2E3FC;\n",
              "    }\n",
              "\n",
              "    [theme=dark] .colab-df-convert:hover {\n",
              "      background-color: #434B5C;\n",
              "      box-shadow: 0px 1px 3px 1px rgba(0, 0, 0, 0.15);\n",
              "      filter: drop-shadow(0px 1px 2px rgba(0, 0, 0, 0.3));\n",
              "      fill: #FFFFFF;\n",
              "    }\n",
              "  </style>\n",
              "\n",
              "      <script>\n",
              "        const buttonEl =\n",
              "          document.querySelector('#df-6f3c075f-5a7b-49c9-adbd-58b18bc302d4 button.colab-df-convert');\n",
              "        buttonEl.style.display =\n",
              "          google.colab.kernel.accessAllowed ? 'block' : 'none';\n",
              "\n",
              "        async function convertToInteractive(key) {\n",
              "          const element = document.querySelector('#df-6f3c075f-5a7b-49c9-adbd-58b18bc302d4');\n",
              "          const dataTable =\n",
              "            await google.colab.kernel.invokeFunction('convertToInteractive',\n",
              "                                                     [key], {});\n",
              "          if (!dataTable) return;\n",
              "\n",
              "          const docLinkHtml = 'Like what you see? Visit the ' +\n",
              "            '<a target=\"_blank\" href=https://colab.research.google.com/notebooks/data_table.ipynb>data table notebook</a>'\n",
              "            + ' to learn more about interactive tables.';\n",
              "          element.innerHTML = '';\n",
              "          dataTable['output_type'] = 'display_data';\n",
              "          await google.colab.output.renderOutput(dataTable, element);\n",
              "          const docLink = document.createElement('div');\n",
              "          docLink.innerHTML = docLinkHtml;\n",
              "          element.appendChild(docLink);\n",
              "        }\n",
              "      </script>\n",
              "    </div>\n",
              "  </div>\n",
              "  "
            ]
          },
          "metadata": {},
          "execution_count": 211
        }
      ],
      "source": [
        "lasso_perf = get_r2_rmse( cvModel.bestModel, test_df )\n",
        "model_perf = model_perf.append( pd.Series( [\"Lasso Regression\"] + lasso_perf ,\n",
        "                 index = model_perf.columns ),\n",
        "                 ignore_index = True )\n",
        "\n",
        "model_perf"
      ]
    },
    {
      "cell_type": "code",
      "execution_count": null,
      "metadata": {
        "id": "n8JUE-ZV-E7U"
      },
      "outputs": [],
      "source": [
        "#Function to create best model using Grid parameters and Cross Validation Strategy\n",
        "def getBestModel( paramGrid, lModel, train, test ):\n",
        "\n",
        "  evaluator = RegressionEvaluator(\n",
        "      metricName=\"r2\",\n",
        "      labelCol=\"label\",\n",
        "  )\n",
        "\n",
        "  crossval = CrossValidator(estimator=lModel,\n",
        "                        estimatorParamMaps=paramGrid,\n",
        "                        evaluator=evaluator,\n",
        "                        numFolds=2)  # use 3+ folds in practice\n",
        "\n",
        "  cvModel = crossval.fit( train )\n",
        "  r2, rmse = get_r2_rmse( cvModel.bestModel, test )\n",
        "\n",
        "  print( \"RMSE: \", np.round( rmse, 2 ) )\n",
        "  print( \"R-Squared: \", np.round( r2, 2 ) )\n",
        "\n",
        "  return cvModel, rmse, r2"
      ]
    },
    {
      "cell_type": "code",
      "execution_count": null,
      "metadata": {
        "id": "lZojXczb-E7V"
      },
      "outputs": [],
      "source": [
        "#Elastic Net Regression\n",
        "lModel = LinearRegression(maxIter=50)\n",
        "\n",
        "enetParamGrid = ParamGridBuilder()                     \\\n",
        "  .addGrid(lModel.regParam, [0.1, 0.01])             \\\n",
        "  .addGrid(lModel.elasticNetParam, [0.2, 0.5])       \\\n",
        "  .build()\n",
        "\n",
        "train_df, test_df = housing_train_df.randomSplit( [0.7, 0.3], seed = 42 )"
      ]
    },
    {
      "cell_type": "code",
      "execution_count": null,
      "metadata": {
        "id": "SZ9BltRE-E7V",
        "outputId": "1fc099ba-cb48-4db8-f84b-9629c7bcd05f",
        "colab": {
          "base_uri": "https://localhost:8080/"
        }
      },
      "outputs": [
        {
          "output_type": "stream",
          "name": "stdout",
          "text": [
            "RMSE:  182376.15\n",
            "R-Squared:  0.75\n"
          ]
        }
      ],
      "source": [
        "enetModel, rmse, r2 = getBestModel( enetParamGrid,\n",
        "                                 lModel,\n",
        "                                 train_df,\n",
        "                                 test_df )"
      ]
    },
    {
      "cell_type": "code",
      "execution_count": null,
      "metadata": {
        "id": "2LKjsToV-E7V"
      },
      "outputs": [],
      "source": [
        "enet_perf = get_r2_rmse( enetModel.bestModel, test_df )"
      ]
    },
    {
      "cell_type": "code",
      "execution_count": null,
      "metadata": {
        "id": "btGFkK0P-E7V",
        "outputId": "8be0303c-3c51-4ae4-94dd-2c00a5ad4412",
        "colab": {
          "base_uri": "https://localhost:8080/",
          "height": 175
        }
      },
      "outputs": [
        {
          "output_type": "execute_result",
          "data": {
            "text/plain": [
              "                    name  rsquared       rmse\n",
              "0      Linear Regression      0.79  169421.45\n",
              "1       Ridge Regression      0.76  178486.98\n",
              "2       Lasso Regression      0.74  187749.85\n",
              "3  ElasticNet Regression      0.75  182376.15"
            ],
            "text/html": [
              "\n",
              "  <div id=\"df-ca0f98ac-a4d3-4ca8-ac9d-cdec90bf9087\">\n",
              "    <div class=\"colab-df-container\">\n",
              "      <div>\n",
              "<style scoped>\n",
              "    .dataframe tbody tr th:only-of-type {\n",
              "        vertical-align: middle;\n",
              "    }\n",
              "\n",
              "    .dataframe tbody tr th {\n",
              "        vertical-align: top;\n",
              "    }\n",
              "\n",
              "    .dataframe thead th {\n",
              "        text-align: right;\n",
              "    }\n",
              "</style>\n",
              "<table border=\"1\" class=\"dataframe\">\n",
              "  <thead>\n",
              "    <tr style=\"text-align: right;\">\n",
              "      <th></th>\n",
              "      <th>name</th>\n",
              "      <th>rsquared</th>\n",
              "      <th>rmse</th>\n",
              "    </tr>\n",
              "  </thead>\n",
              "  <tbody>\n",
              "    <tr>\n",
              "      <th>0</th>\n",
              "      <td>Linear Regression</td>\n",
              "      <td>0.79</td>\n",
              "      <td>169421.45</td>\n",
              "    </tr>\n",
              "    <tr>\n",
              "      <th>1</th>\n",
              "      <td>Ridge Regression</td>\n",
              "      <td>0.76</td>\n",
              "      <td>178486.98</td>\n",
              "    </tr>\n",
              "    <tr>\n",
              "      <th>2</th>\n",
              "      <td>Lasso Regression</td>\n",
              "      <td>0.74</td>\n",
              "      <td>187749.85</td>\n",
              "    </tr>\n",
              "    <tr>\n",
              "      <th>3</th>\n",
              "      <td>ElasticNet Regression</td>\n",
              "      <td>0.75</td>\n",
              "      <td>182376.15</td>\n",
              "    </tr>\n",
              "  </tbody>\n",
              "</table>\n",
              "</div>\n",
              "      <button class=\"colab-df-convert\" onclick=\"convertToInteractive('df-ca0f98ac-a4d3-4ca8-ac9d-cdec90bf9087')\"\n",
              "              title=\"Convert this dataframe to an interactive table.\"\n",
              "              style=\"display:none;\">\n",
              "        \n",
              "  <svg xmlns=\"http://www.w3.org/2000/svg\" height=\"24px\"viewBox=\"0 0 24 24\"\n",
              "       width=\"24px\">\n",
              "    <path d=\"M0 0h24v24H0V0z\" fill=\"none\"/>\n",
              "    <path d=\"M18.56 5.44l.94 2.06.94-2.06 2.06-.94-2.06-.94-.94-2.06-.94 2.06-2.06.94zm-11 1L8.5 8.5l.94-2.06 2.06-.94-2.06-.94L8.5 2.5l-.94 2.06-2.06.94zm10 10l.94 2.06.94-2.06 2.06-.94-2.06-.94-.94-2.06-.94 2.06-2.06.94z\"/><path d=\"M17.41 7.96l-1.37-1.37c-.4-.4-.92-.59-1.43-.59-.52 0-1.04.2-1.43.59L10.3 9.45l-7.72 7.72c-.78.78-.78 2.05 0 2.83L4 21.41c.39.39.9.59 1.41.59.51 0 1.02-.2 1.41-.59l7.78-7.78 2.81-2.81c.8-.78.8-2.07 0-2.86zM5.41 20L4 18.59l7.72-7.72 1.47 1.35L5.41 20z\"/>\n",
              "  </svg>\n",
              "      </button>\n",
              "      \n",
              "  <style>\n",
              "    .colab-df-container {\n",
              "      display:flex;\n",
              "      flex-wrap:wrap;\n",
              "      gap: 12px;\n",
              "    }\n",
              "\n",
              "    .colab-df-convert {\n",
              "      background-color: #E8F0FE;\n",
              "      border: none;\n",
              "      border-radius: 50%;\n",
              "      cursor: pointer;\n",
              "      display: none;\n",
              "      fill: #1967D2;\n",
              "      height: 32px;\n",
              "      padding: 0 0 0 0;\n",
              "      width: 32px;\n",
              "    }\n",
              "\n",
              "    .colab-df-convert:hover {\n",
              "      background-color: #E2EBFA;\n",
              "      box-shadow: 0px 1px 2px rgba(60, 64, 67, 0.3), 0px 1px 3px 1px rgba(60, 64, 67, 0.15);\n",
              "      fill: #174EA6;\n",
              "    }\n",
              "\n",
              "    [theme=dark] .colab-df-convert {\n",
              "      background-color: #3B4455;\n",
              "      fill: #D2E3FC;\n",
              "    }\n",
              "\n",
              "    [theme=dark] .colab-df-convert:hover {\n",
              "      background-color: #434B5C;\n",
              "      box-shadow: 0px 1px 3px 1px rgba(0, 0, 0, 0.15);\n",
              "      filter: drop-shadow(0px 1px 2px rgba(0, 0, 0, 0.3));\n",
              "      fill: #FFFFFF;\n",
              "    }\n",
              "  </style>\n",
              "\n",
              "      <script>\n",
              "        const buttonEl =\n",
              "          document.querySelector('#df-ca0f98ac-a4d3-4ca8-ac9d-cdec90bf9087 button.colab-df-convert');\n",
              "        buttonEl.style.display =\n",
              "          google.colab.kernel.accessAllowed ? 'block' : 'none';\n",
              "\n",
              "        async function convertToInteractive(key) {\n",
              "          const element = document.querySelector('#df-ca0f98ac-a4d3-4ca8-ac9d-cdec90bf9087');\n",
              "          const dataTable =\n",
              "            await google.colab.kernel.invokeFunction('convertToInteractive',\n",
              "                                                     [key], {});\n",
              "          if (!dataTable) return;\n",
              "\n",
              "          const docLinkHtml = 'Like what you see? Visit the ' +\n",
              "            '<a target=\"_blank\" href=https://colab.research.google.com/notebooks/data_table.ipynb>data table notebook</a>'\n",
              "            + ' to learn more about interactive tables.';\n",
              "          element.innerHTML = '';\n",
              "          dataTable['output_type'] = 'display_data';\n",
              "          await google.colab.output.renderOutput(dataTable, element);\n",
              "          const docLink = document.createElement('div');\n",
              "          docLink.innerHTML = docLinkHtml;\n",
              "          element.appendChild(docLink);\n",
              "        }\n",
              "      </script>\n",
              "    </div>\n",
              "  </div>\n",
              "  "
            ]
          },
          "metadata": {},
          "execution_count": 216
        }
      ],
      "source": [
        "model_perf = model_perf.append( pd.Series( [\"ElasticNet Regression\"] + enet_perf ,\n",
        "                 index = model_perf.columns ),\n",
        "                 ignore_index = True )\n",
        "\n",
        "model_perf"
      ]
    },
    {
      "cell_type": "code",
      "execution_count": null,
      "metadata": {
        "id": "CyaPeElU-E7W"
      },
      "outputs": [],
      "source": [
        "#Decision Tree Regressor\n",
        "#Using a decision tree regressor with maxdept = 6\n",
        "from pyspark.ml.regression import DecisionTreeRegressor, RandomForestRegressor\n",
        "\n",
        "treeModel = DecisionTreeRegressor(featuresCol=\"features\",\n",
        "                              labelCol=\"label\",\n",
        "                              maxDepth=6)"
      ]
    },
    {
      "cell_type": "code",
      "execution_count": null,
      "metadata": {
        "id": "57JC02sO-E7W"
      },
      "outputs": [],
      "source": [
        "tlm = treeModel.fit( train_df )"
      ]
    },
    {
      "cell_type": "code",
      "execution_count": null,
      "metadata": {
        "id": "frF0z9Rd-E7W"
      },
      "outputs": [],
      "source": [
        "tree_perf = get_r2_rmse( tlm, test_df )"
      ]
    },
    {
      "cell_type": "code",
      "execution_count": null,
      "metadata": {
        "id": "U65k_vgZ-E7W",
        "outputId": "9373aef4-ec24-417e-feb0-f96fe5bfea07",
        "colab": {
          "base_uri": "https://localhost:8080/",
          "height": 206
        }
      },
      "outputs": [
        {
          "output_type": "execute_result",
          "data": {
            "text/plain": [
              "                    name  rsquared       rmse\n",
              "0      Linear Regression      0.79  169421.45\n",
              "1       Ridge Regression      0.76  178486.98\n",
              "2       Lasso Regression      0.74  187749.85\n",
              "3  ElasticNet Regression      0.75  182376.15\n",
              "4         Decistion Tree      0.62  226933.94"
            ],
            "text/html": [
              "\n",
              "  <div id=\"df-9ec0c124-d943-4b6b-b76f-e991fbda9a0d\">\n",
              "    <div class=\"colab-df-container\">\n",
              "      <div>\n",
              "<style scoped>\n",
              "    .dataframe tbody tr th:only-of-type {\n",
              "        vertical-align: middle;\n",
              "    }\n",
              "\n",
              "    .dataframe tbody tr th {\n",
              "        vertical-align: top;\n",
              "    }\n",
              "\n",
              "    .dataframe thead th {\n",
              "        text-align: right;\n",
              "    }\n",
              "</style>\n",
              "<table border=\"1\" class=\"dataframe\">\n",
              "  <thead>\n",
              "    <tr style=\"text-align: right;\">\n",
              "      <th></th>\n",
              "      <th>name</th>\n",
              "      <th>rsquared</th>\n",
              "      <th>rmse</th>\n",
              "    </tr>\n",
              "  </thead>\n",
              "  <tbody>\n",
              "    <tr>\n",
              "      <th>0</th>\n",
              "      <td>Linear Regression</td>\n",
              "      <td>0.79</td>\n",
              "      <td>169421.45</td>\n",
              "    </tr>\n",
              "    <tr>\n",
              "      <th>1</th>\n",
              "      <td>Ridge Regression</td>\n",
              "      <td>0.76</td>\n",
              "      <td>178486.98</td>\n",
              "    </tr>\n",
              "    <tr>\n",
              "      <th>2</th>\n",
              "      <td>Lasso Regression</td>\n",
              "      <td>0.74</td>\n",
              "      <td>187749.85</td>\n",
              "    </tr>\n",
              "    <tr>\n",
              "      <th>3</th>\n",
              "      <td>ElasticNet Regression</td>\n",
              "      <td>0.75</td>\n",
              "      <td>182376.15</td>\n",
              "    </tr>\n",
              "    <tr>\n",
              "      <th>4</th>\n",
              "      <td>Decistion Tree</td>\n",
              "      <td>0.62</td>\n",
              "      <td>226933.94</td>\n",
              "    </tr>\n",
              "  </tbody>\n",
              "</table>\n",
              "</div>\n",
              "      <button class=\"colab-df-convert\" onclick=\"convertToInteractive('df-9ec0c124-d943-4b6b-b76f-e991fbda9a0d')\"\n",
              "              title=\"Convert this dataframe to an interactive table.\"\n",
              "              style=\"display:none;\">\n",
              "        \n",
              "  <svg xmlns=\"http://www.w3.org/2000/svg\" height=\"24px\"viewBox=\"0 0 24 24\"\n",
              "       width=\"24px\">\n",
              "    <path d=\"M0 0h24v24H0V0z\" fill=\"none\"/>\n",
              "    <path d=\"M18.56 5.44l.94 2.06.94-2.06 2.06-.94-2.06-.94-.94-2.06-.94 2.06-2.06.94zm-11 1L8.5 8.5l.94-2.06 2.06-.94-2.06-.94L8.5 2.5l-.94 2.06-2.06.94zm10 10l.94 2.06.94-2.06 2.06-.94-2.06-.94-.94-2.06-.94 2.06-2.06.94z\"/><path d=\"M17.41 7.96l-1.37-1.37c-.4-.4-.92-.59-1.43-.59-.52 0-1.04.2-1.43.59L10.3 9.45l-7.72 7.72c-.78.78-.78 2.05 0 2.83L4 21.41c.39.39.9.59 1.41.59.51 0 1.02-.2 1.41-.59l7.78-7.78 2.81-2.81c.8-.78.8-2.07 0-2.86zM5.41 20L4 18.59l7.72-7.72 1.47 1.35L5.41 20z\"/>\n",
              "  </svg>\n",
              "      </button>\n",
              "      \n",
              "  <style>\n",
              "    .colab-df-container {\n",
              "      display:flex;\n",
              "      flex-wrap:wrap;\n",
              "      gap: 12px;\n",
              "    }\n",
              "\n",
              "    .colab-df-convert {\n",
              "      background-color: #E8F0FE;\n",
              "      border: none;\n",
              "      border-radius: 50%;\n",
              "      cursor: pointer;\n",
              "      display: none;\n",
              "      fill: #1967D2;\n",
              "      height: 32px;\n",
              "      padding: 0 0 0 0;\n",
              "      width: 32px;\n",
              "    }\n",
              "\n",
              "    .colab-df-convert:hover {\n",
              "      background-color: #E2EBFA;\n",
              "      box-shadow: 0px 1px 2px rgba(60, 64, 67, 0.3), 0px 1px 3px 1px rgba(60, 64, 67, 0.15);\n",
              "      fill: #174EA6;\n",
              "    }\n",
              "\n",
              "    [theme=dark] .colab-df-convert {\n",
              "      background-color: #3B4455;\n",
              "      fill: #D2E3FC;\n",
              "    }\n",
              "\n",
              "    [theme=dark] .colab-df-convert:hover {\n",
              "      background-color: #434B5C;\n",
              "      box-shadow: 0px 1px 3px 1px rgba(0, 0, 0, 0.15);\n",
              "      filter: drop-shadow(0px 1px 2px rgba(0, 0, 0, 0.3));\n",
              "      fill: #FFFFFF;\n",
              "    }\n",
              "  </style>\n",
              "\n",
              "      <script>\n",
              "        const buttonEl =\n",
              "          document.querySelector('#df-9ec0c124-d943-4b6b-b76f-e991fbda9a0d button.colab-df-convert');\n",
              "        buttonEl.style.display =\n",
              "          google.colab.kernel.accessAllowed ? 'block' : 'none';\n",
              "\n",
              "        async function convertToInteractive(key) {\n",
              "          const element = document.querySelector('#df-9ec0c124-d943-4b6b-b76f-e991fbda9a0d');\n",
              "          const dataTable =\n",
              "            await google.colab.kernel.invokeFunction('convertToInteractive',\n",
              "                                                     [key], {});\n",
              "          if (!dataTable) return;\n",
              "\n",
              "          const docLinkHtml = 'Like what you see? Visit the ' +\n",
              "            '<a target=\"_blank\" href=https://colab.research.google.com/notebooks/data_table.ipynb>data table notebook</a>'\n",
              "            + ' to learn more about interactive tables.';\n",
              "          element.innerHTML = '';\n",
              "          dataTable['output_type'] = 'display_data';\n",
              "          await google.colab.output.renderOutput(dataTable, element);\n",
              "          const docLink = document.createElement('div');\n",
              "          docLink.innerHTML = docLinkHtml;\n",
              "          element.appendChild(docLink);\n",
              "        }\n",
              "      </script>\n",
              "    </div>\n",
              "  </div>\n",
              "  "
            ]
          },
          "metadata": {},
          "execution_count": 220
        }
      ],
      "source": [
        "model_perf = model_perf.append( pd.Series( [\"Decistion Tree\"] + tree_perf ,\n",
        "                 index = model_perf.columns ),\n",
        "                 ignore_index = True )\n",
        "\n",
        "model_perf"
      ]
    },
    {
      "cell_type": "markdown",
      "metadata": {
        "id": "cYb9Epql-E7W"
      },
      "source": [
        "#Random Forest Regressor\n",
        "- Random Forest regressor to create 100 decision trees, which will use one third of num features available and maximum depth for each tree will be 10.\n",
        "- featureSubsetupported options: auto, all, onethird, sqrt, log2, (0.0-1.0], [1-n]"
      ]
    },
    {
      "cell_type": "code",
      "execution_count": null,
      "metadata": {
        "id": "X_idE9Qy-E7X"
      },
      "outputs": [],
      "source": [
        "rfModel = RandomForestRegressor(featuresCol=\"features\",\n",
        "                              labelCol=\"label\",\n",
        "                              numTrees=50,\n",
        "                              maxDepth=5,\n",
        "                              featureSubsetStrategy='onethird')"
      ]
    },
    {
      "cell_type": "code",
      "execution_count": null,
      "metadata": {
        "id": "XwifoKqq-E7X"
      },
      "outputs": [],
      "source": [
        "rflm = rfModel.fit( train_df )"
      ]
    },
    {
      "cell_type": "code",
      "execution_count": null,
      "metadata": {
        "id": "DNmlEDcH-E7X"
      },
      "outputs": [],
      "source": [
        "rf_perf = get_r2_rmse( rflm, test_df )"
      ]
    },
    {
      "cell_type": "code",
      "execution_count": null,
      "metadata": {
        "id": "pSozq9NI-E7Y",
        "outputId": "b901d2b6-17f0-4c71-d725-f6577cf35856",
        "colab": {
          "base_uri": "https://localhost:8080/",
          "height": 238
        }
      },
      "outputs": [
        {
          "output_type": "execute_result",
          "data": {
            "text/plain": [
              "                    name  rsquared       rmse\n",
              "0      Linear Regression      0.79  169421.45\n",
              "1       Ridge Regression      0.76  178486.98\n",
              "2       Lasso Regression      0.74  187749.85\n",
              "3  ElasticNet Regression      0.75  182376.15\n",
              "4         Decistion Tree      0.62  226933.94\n",
              "5     Random Forest Tree      0.58  237629.24"
            ],
            "text/html": [
              "\n",
              "  <div id=\"df-bce78b94-74ed-4c7c-9253-7983345ac74b\">\n",
              "    <div class=\"colab-df-container\">\n",
              "      <div>\n",
              "<style scoped>\n",
              "    .dataframe tbody tr th:only-of-type {\n",
              "        vertical-align: middle;\n",
              "    }\n",
              "\n",
              "    .dataframe tbody tr th {\n",
              "        vertical-align: top;\n",
              "    }\n",
              "\n",
              "    .dataframe thead th {\n",
              "        text-align: right;\n",
              "    }\n",
              "</style>\n",
              "<table border=\"1\" class=\"dataframe\">\n",
              "  <thead>\n",
              "    <tr style=\"text-align: right;\">\n",
              "      <th></th>\n",
              "      <th>name</th>\n",
              "      <th>rsquared</th>\n",
              "      <th>rmse</th>\n",
              "    </tr>\n",
              "  </thead>\n",
              "  <tbody>\n",
              "    <tr>\n",
              "      <th>0</th>\n",
              "      <td>Linear Regression</td>\n",
              "      <td>0.79</td>\n",
              "      <td>169421.45</td>\n",
              "    </tr>\n",
              "    <tr>\n",
              "      <th>1</th>\n",
              "      <td>Ridge Regression</td>\n",
              "      <td>0.76</td>\n",
              "      <td>178486.98</td>\n",
              "    </tr>\n",
              "    <tr>\n",
              "      <th>2</th>\n",
              "      <td>Lasso Regression</td>\n",
              "      <td>0.74</td>\n",
              "      <td>187749.85</td>\n",
              "    </tr>\n",
              "    <tr>\n",
              "      <th>3</th>\n",
              "      <td>ElasticNet Regression</td>\n",
              "      <td>0.75</td>\n",
              "      <td>182376.15</td>\n",
              "    </tr>\n",
              "    <tr>\n",
              "      <th>4</th>\n",
              "      <td>Decistion Tree</td>\n",
              "      <td>0.62</td>\n",
              "      <td>226933.94</td>\n",
              "    </tr>\n",
              "    <tr>\n",
              "      <th>5</th>\n",
              "      <td>Random Forest Tree</td>\n",
              "      <td>0.58</td>\n",
              "      <td>237629.24</td>\n",
              "    </tr>\n",
              "  </tbody>\n",
              "</table>\n",
              "</div>\n",
              "      <button class=\"colab-df-convert\" onclick=\"convertToInteractive('df-bce78b94-74ed-4c7c-9253-7983345ac74b')\"\n",
              "              title=\"Convert this dataframe to an interactive table.\"\n",
              "              style=\"display:none;\">\n",
              "        \n",
              "  <svg xmlns=\"http://www.w3.org/2000/svg\" height=\"24px\"viewBox=\"0 0 24 24\"\n",
              "       width=\"24px\">\n",
              "    <path d=\"M0 0h24v24H0V0z\" fill=\"none\"/>\n",
              "    <path d=\"M18.56 5.44l.94 2.06.94-2.06 2.06-.94-2.06-.94-.94-2.06-.94 2.06-2.06.94zm-11 1L8.5 8.5l.94-2.06 2.06-.94-2.06-.94L8.5 2.5l-.94 2.06-2.06.94zm10 10l.94 2.06.94-2.06 2.06-.94-2.06-.94-.94-2.06-.94 2.06-2.06.94z\"/><path d=\"M17.41 7.96l-1.37-1.37c-.4-.4-.92-.59-1.43-.59-.52 0-1.04.2-1.43.59L10.3 9.45l-7.72 7.72c-.78.78-.78 2.05 0 2.83L4 21.41c.39.39.9.59 1.41.59.51 0 1.02-.2 1.41-.59l7.78-7.78 2.81-2.81c.8-.78.8-2.07 0-2.86zM5.41 20L4 18.59l7.72-7.72 1.47 1.35L5.41 20z\"/>\n",
              "  </svg>\n",
              "      </button>\n",
              "      \n",
              "  <style>\n",
              "    .colab-df-container {\n",
              "      display:flex;\n",
              "      flex-wrap:wrap;\n",
              "      gap: 12px;\n",
              "    }\n",
              "\n",
              "    .colab-df-convert {\n",
              "      background-color: #E8F0FE;\n",
              "      border: none;\n",
              "      border-radius: 50%;\n",
              "      cursor: pointer;\n",
              "      display: none;\n",
              "      fill: #1967D2;\n",
              "      height: 32px;\n",
              "      padding: 0 0 0 0;\n",
              "      width: 32px;\n",
              "    }\n",
              "\n",
              "    .colab-df-convert:hover {\n",
              "      background-color: #E2EBFA;\n",
              "      box-shadow: 0px 1px 2px rgba(60, 64, 67, 0.3), 0px 1px 3px 1px rgba(60, 64, 67, 0.15);\n",
              "      fill: #174EA6;\n",
              "    }\n",
              "\n",
              "    [theme=dark] .colab-df-convert {\n",
              "      background-color: #3B4455;\n",
              "      fill: #D2E3FC;\n",
              "    }\n",
              "\n",
              "    [theme=dark] .colab-df-convert:hover {\n",
              "      background-color: #434B5C;\n",
              "      box-shadow: 0px 1px 3px 1px rgba(0, 0, 0, 0.15);\n",
              "      filter: drop-shadow(0px 1px 2px rgba(0, 0, 0, 0.3));\n",
              "      fill: #FFFFFF;\n",
              "    }\n",
              "  </style>\n",
              "\n",
              "      <script>\n",
              "        const buttonEl =\n",
              "          document.querySelector('#df-bce78b94-74ed-4c7c-9253-7983345ac74b button.colab-df-convert');\n",
              "        buttonEl.style.display =\n",
              "          google.colab.kernel.accessAllowed ? 'block' : 'none';\n",
              "\n",
              "        async function convertToInteractive(key) {\n",
              "          const element = document.querySelector('#df-bce78b94-74ed-4c7c-9253-7983345ac74b');\n",
              "          const dataTable =\n",
              "            await google.colab.kernel.invokeFunction('convertToInteractive',\n",
              "                                                     [key], {});\n",
              "          if (!dataTable) return;\n",
              "\n",
              "          const docLinkHtml = 'Like what you see? Visit the ' +\n",
              "            '<a target=\"_blank\" href=https://colab.research.google.com/notebooks/data_table.ipynb>data table notebook</a>'\n",
              "            + ' to learn more about interactive tables.';\n",
              "          element.innerHTML = '';\n",
              "          dataTable['output_type'] = 'display_data';\n",
              "          await google.colab.output.renderOutput(dataTable, element);\n",
              "          const docLink = document.createElement('div');\n",
              "          docLink.innerHTML = docLinkHtml;\n",
              "          element.appendChild(docLink);\n",
              "        }\n",
              "      </script>\n",
              "    </div>\n",
              "  </div>\n",
              "  "
            ]
          },
          "metadata": {},
          "execution_count": 224
        }
      ],
      "source": [
        "model_perf = model_perf.append( pd.Series( [\"Random Forest Tree\"] + rf_perf ,\n",
        "                 index = model_perf.columns ),\n",
        "                 ignore_index = True )\n",
        "\n",
        "model_perf"
      ]
    },
    {
      "cell_type": "code",
      "execution_count": null,
      "metadata": {
        "id": "BWa8kHMN-E7Y"
      },
      "outputs": [],
      "source": [
        "#Gradient Boosted Trees\n",
        "from pyspark.ml.regression import GBTRegressor\n",
        "\n",
        "gbtModel = GBTRegressor(featuresCol=\"features\",\n",
        "                 labelCol=\"label\",\n",
        "                 maxIter=20,\n",
        "                 maxDepth=6,\n",
        "                 maxBins = 10)\n",
        "\n",
        "gblm = gbtModel.fit( train_df )"
      ]
    },
    {
      "cell_type": "code",
      "execution_count": null,
      "metadata": {
        "id": "0hDUT7Sm-E7Y"
      },
      "outputs": [],
      "source": [
        "gbt_perf = get_r2_rmse( gblm, test_df )"
      ]
    },
    {
      "cell_type": "code",
      "execution_count": null,
      "metadata": {
        "id": "h73j1KGP-E7Y",
        "outputId": "08d7d1dc-9fe4-4d2f-c84f-eebe418fcb90",
        "colab": {
          "base_uri": "https://localhost:8080/",
          "height": 269
        }
      },
      "outputs": [
        {
          "output_type": "execute_result",
          "data": {
            "text/plain": [
              "                    name  rsquared       rmse\n",
              "0      Linear Regression      0.79  169421.45\n",
              "1       Ridge Regression      0.76  178486.98\n",
              "2       Lasso Regression      0.74  187749.85\n",
              "3  ElasticNet Regression      0.75  182376.15\n",
              "4         Decistion Tree      0.62  226933.94\n",
              "5     Random Forest Tree      0.58  237629.24\n",
              "6  Gradient Boosted Tree      0.70  200136.00"
            ],
            "text/html": [
              "\n",
              "  <div id=\"df-c9b3b43b-c74f-4e16-9012-dbbc6f5877ed\">\n",
              "    <div class=\"colab-df-container\">\n",
              "      <div>\n",
              "<style scoped>\n",
              "    .dataframe tbody tr th:only-of-type {\n",
              "        vertical-align: middle;\n",
              "    }\n",
              "\n",
              "    .dataframe tbody tr th {\n",
              "        vertical-align: top;\n",
              "    }\n",
              "\n",
              "    .dataframe thead th {\n",
              "        text-align: right;\n",
              "    }\n",
              "</style>\n",
              "<table border=\"1\" class=\"dataframe\">\n",
              "  <thead>\n",
              "    <tr style=\"text-align: right;\">\n",
              "      <th></th>\n",
              "      <th>name</th>\n",
              "      <th>rsquared</th>\n",
              "      <th>rmse</th>\n",
              "    </tr>\n",
              "  </thead>\n",
              "  <tbody>\n",
              "    <tr>\n",
              "      <th>0</th>\n",
              "      <td>Linear Regression</td>\n",
              "      <td>0.79</td>\n",
              "      <td>169421.45</td>\n",
              "    </tr>\n",
              "    <tr>\n",
              "      <th>1</th>\n",
              "      <td>Ridge Regression</td>\n",
              "      <td>0.76</td>\n",
              "      <td>178486.98</td>\n",
              "    </tr>\n",
              "    <tr>\n",
              "      <th>2</th>\n",
              "      <td>Lasso Regression</td>\n",
              "      <td>0.74</td>\n",
              "      <td>187749.85</td>\n",
              "    </tr>\n",
              "    <tr>\n",
              "      <th>3</th>\n",
              "      <td>ElasticNet Regression</td>\n",
              "      <td>0.75</td>\n",
              "      <td>182376.15</td>\n",
              "    </tr>\n",
              "    <tr>\n",
              "      <th>4</th>\n",
              "      <td>Decistion Tree</td>\n",
              "      <td>0.62</td>\n",
              "      <td>226933.94</td>\n",
              "    </tr>\n",
              "    <tr>\n",
              "      <th>5</th>\n",
              "      <td>Random Forest Tree</td>\n",
              "      <td>0.58</td>\n",
              "      <td>237629.24</td>\n",
              "    </tr>\n",
              "    <tr>\n",
              "      <th>6</th>\n",
              "      <td>Gradient Boosted Tree</td>\n",
              "      <td>0.70</td>\n",
              "      <td>200136.00</td>\n",
              "    </tr>\n",
              "  </tbody>\n",
              "</table>\n",
              "</div>\n",
              "      <button class=\"colab-df-convert\" onclick=\"convertToInteractive('df-c9b3b43b-c74f-4e16-9012-dbbc6f5877ed')\"\n",
              "              title=\"Convert this dataframe to an interactive table.\"\n",
              "              style=\"display:none;\">\n",
              "        \n",
              "  <svg xmlns=\"http://www.w3.org/2000/svg\" height=\"24px\"viewBox=\"0 0 24 24\"\n",
              "       width=\"24px\">\n",
              "    <path d=\"M0 0h24v24H0V0z\" fill=\"none\"/>\n",
              "    <path d=\"M18.56 5.44l.94 2.06.94-2.06 2.06-.94-2.06-.94-.94-2.06-.94 2.06-2.06.94zm-11 1L8.5 8.5l.94-2.06 2.06-.94-2.06-.94L8.5 2.5l-.94 2.06-2.06.94zm10 10l.94 2.06.94-2.06 2.06-.94-2.06-.94-.94-2.06-.94 2.06-2.06.94z\"/><path d=\"M17.41 7.96l-1.37-1.37c-.4-.4-.92-.59-1.43-.59-.52 0-1.04.2-1.43.59L10.3 9.45l-7.72 7.72c-.78.78-.78 2.05 0 2.83L4 21.41c.39.39.9.59 1.41.59.51 0 1.02-.2 1.41-.59l7.78-7.78 2.81-2.81c.8-.78.8-2.07 0-2.86zM5.41 20L4 18.59l7.72-7.72 1.47 1.35L5.41 20z\"/>\n",
              "  </svg>\n",
              "      </button>\n",
              "      \n",
              "  <style>\n",
              "    .colab-df-container {\n",
              "      display:flex;\n",
              "      flex-wrap:wrap;\n",
              "      gap: 12px;\n",
              "    }\n",
              "\n",
              "    .colab-df-convert {\n",
              "      background-color: #E8F0FE;\n",
              "      border: none;\n",
              "      border-radius: 50%;\n",
              "      cursor: pointer;\n",
              "      display: none;\n",
              "      fill: #1967D2;\n",
              "      height: 32px;\n",
              "      padding: 0 0 0 0;\n",
              "      width: 32px;\n",
              "    }\n",
              "\n",
              "    .colab-df-convert:hover {\n",
              "      background-color: #E2EBFA;\n",
              "      box-shadow: 0px 1px 2px rgba(60, 64, 67, 0.3), 0px 1px 3px 1px rgba(60, 64, 67, 0.15);\n",
              "      fill: #174EA6;\n",
              "    }\n",
              "\n",
              "    [theme=dark] .colab-df-convert {\n",
              "      background-color: #3B4455;\n",
              "      fill: #D2E3FC;\n",
              "    }\n",
              "\n",
              "    [theme=dark] .colab-df-convert:hover {\n",
              "      background-color: #434B5C;\n",
              "      box-shadow: 0px 1px 3px 1px rgba(0, 0, 0, 0.15);\n",
              "      filter: drop-shadow(0px 1px 2px rgba(0, 0, 0, 0.3));\n",
              "      fill: #FFFFFF;\n",
              "    }\n",
              "  </style>\n",
              "\n",
              "      <script>\n",
              "        const buttonEl =\n",
              "          document.querySelector('#df-c9b3b43b-c74f-4e16-9012-dbbc6f5877ed button.colab-df-convert');\n",
              "        buttonEl.style.display =\n",
              "          google.colab.kernel.accessAllowed ? 'block' : 'none';\n",
              "\n",
              "        async function convertToInteractive(key) {\n",
              "          const element = document.querySelector('#df-c9b3b43b-c74f-4e16-9012-dbbc6f5877ed');\n",
              "          const dataTable =\n",
              "            await google.colab.kernel.invokeFunction('convertToInteractive',\n",
              "                                                     [key], {});\n",
              "          if (!dataTable) return;\n",
              "\n",
              "          const docLinkHtml = 'Like what you see? Visit the ' +\n",
              "            '<a target=\"_blank\" href=https://colab.research.google.com/notebooks/data_table.ipynb>data table notebook</a>'\n",
              "            + ' to learn more about interactive tables.';\n",
              "          element.innerHTML = '';\n",
              "          dataTable['output_type'] = 'display_data';\n",
              "          await google.colab.output.renderOutput(dataTable, element);\n",
              "          const docLink = document.createElement('div');\n",
              "          docLink.innerHTML = docLinkHtml;\n",
              "          element.appendChild(docLink);\n",
              "        }\n",
              "      </script>\n",
              "    </div>\n",
              "  </div>\n",
              "  "
            ]
          },
          "metadata": {},
          "execution_count": 227
        }
      ],
      "source": [
        "model_perf = model_perf.append( pd.Series( [\"Gradient Boosted Tree\"] + gbt_perf ,\n",
        "                 index = model_perf.columns ),\n",
        "                 ignore_index = True )\n",
        "\n",
        "model_perf"
      ]
    },
    {
      "cell_type": "markdown",
      "metadata": {
        "id": "juwLcD0_-E7Z"
      },
      "source": [
        "Conclusion: The best model performance is Linear Regression with .high R-Squared value and minimum RMSE Values."
      ]
    },
    {
      "cell_type": "code",
      "source": [
        "lm.save('linear_model.model')"
      ],
      "metadata": {
        "id": "uoPN_rgt3MXD"
      },
      "execution_count": null,
      "outputs": []
    },
    {
      "cell_type": "code",
      "source": [
        "!zip -r linear_model.zip linear_model.model"
      ],
      "metadata": {
        "colab": {
          "base_uri": "https://localhost:8080/"
        },
        "id": "XaWWAqLO3XvH",
        "outputId": "34c6053e-4abc-44c3-8f14-7974b72a9001"
      },
      "execution_count": null,
      "outputs": [
        {
          "output_type": "stream",
          "name": "stdout",
          "text": [
            "  adding: linear_model.model/ (stored 0%)\n",
            "  adding: linear_model.model/data/ (stored 0%)\n",
            "  adding: linear_model.model/data/_SUCCESS (stored 0%)\n",
            "  adding: linear_model.model/data/part-00000-a94ea9ea-dbe6-4ce9-98ae-72470ee169a2-c000.snappy.parquet (deflated 38%)\n",
            "  adding: linear_model.model/data/._SUCCESS.crc (stored 0%)\n",
            "  adding: linear_model.model/data/.part-00000-a94ea9ea-dbe6-4ce9-98ae-72470ee169a2-c000.snappy.parquet.crc (stored 0%)\n",
            "  adding: linear_model.model/metadata/ (stored 0%)\n",
            "  adding: linear_model.model/metadata/_SUCCESS (stored 0%)\n",
            "  adding: linear_model.model/metadata/part-00000 (deflated 38%)\n",
            "  adding: linear_model.model/metadata/.part-00000.crc (stored 0%)\n",
            "  adding: linear_model.model/metadata/._SUCCESS.crc (stored 0%)\n"
          ]
        }
      ]
    },
    {
      "cell_type": "markdown",
      "metadata": {
        "id": "GAu9PIjT-E7Z"
      },
      "source": [
        "## Creating Pipeline\n",
        "MLlib standardizes APIs for machine learning algorithms to make it easier to combine multiple algorithms into a single pipeline, or workflow"
      ]
    },
    {
      "cell_type": "code",
      "execution_count": null,
      "metadata": {
        "id": "8S1enOGD-E7Z",
        "outputId": "6049ba68-2286-4904-858a-63ccc55ae93d",
        "colab": {
          "base_uri": "https://localhost:8080/"
        }
      },
      "outputs": [
        {
          "output_type": "execute_result",
          "data": {
            "text/plain": [
              "['sqft_living',\n",
              " 'bedrooms',\n",
              " 'bathrooms',\n",
              " 'floors',\n",
              " 'log_sqft_lot',\n",
              " 'age',\n",
              " 'sqft_above',\n",
              " 'sqft_living15',\n",
              " 'sqft_lot15',\n",
              " 'rennovate_age']"
            ]
          },
          "metadata": {},
          "execution_count": 228
        }
      ],
      "source": [
        "continuous_features"
      ]
    },
    {
      "cell_type": "code",
      "execution_count": null,
      "metadata": {
        "id": "3Sd83ZRW-E7a",
        "outputId": "1217c6c6-c08a-4ae8-cd26-15db371f7470",
        "colab": {
          "base_uri": "https://localhost:8080/"
        }
      },
      "outputs": [
        {
          "output_type": "execute_result",
          "data": {
            "text/plain": [
              "['zipcode', 'waterfront', 'grade', 'condition', 'view']"
            ]
          },
          "metadata": {},
          "execution_count": 229
        }
      ],
      "source": [
        "categorical_features"
      ]
    },
    {
      "cell_type": "code",
      "execution_count": null,
      "metadata": {
        "id": "j0i6N8fB-E7a"
      },
      "outputs": [],
      "source": [
        "from pyspark.ml.feature import StringIndexer, OneHotEncoder, VectorAssembler\n",
        "from pyspark.ml import Pipeline\n",
        "from pyspark.ml.regression import LinearRegression\n",
        "\n",
        "## Create indexers for the categorical features\n",
        "indexers = [StringIndexer(inputCol=c, outputCol=\"{}_idx\".format(c)) for c in categorical_features]\n",
        "\n",
        "## encode the categorical features\n",
        "encoders = [ OneHotEncoder(\n",
        "      inputCol=idx.getOutputCol(),\n",
        "      outputCol=\"{0}_enc\".format(idx.getOutputCol())) for idx in indexers]\n",
        "\n",
        "## Create vectors for all features categorical and continuous\n",
        "\n",
        "assembler = VectorAssembler(\n",
        "  inputCols=[enc.getOutputCol() for enc in encoders] + continuous_features,\n",
        "  outputCol=\"features\")\n",
        "\n",
        "## Initialize the linear model\n",
        "lrModel = LinearRegression( maxIter = 10 )\n",
        "\n",
        "\n",
        "## Create the pipeline with sequence of activities\n",
        "#pipeline = Pipeline( stages=indexers + encoders + [assembler, lrModel ])\n",
        "\n",
        "pipeline = Pipeline( stages= [indexers, encoders, assembler, lrModel ])"
      ]
    },
    {
      "cell_type": "code",
      "execution_count": null,
      "metadata": {
        "id": "8UkI9ryW-E7a"
      },
      "outputs": [],
      "source": [
        "housing_pipeline_df = housing_df.withColumn( 'label', round( log( 'price' ), 4) )"
      ]
    },
    {
      "cell_type": "code",
      "execution_count": null,
      "metadata": {
        "id": "zCnW8OJm-E7a"
      },
      "outputs": [],
      "source": [
        "training, testing = housing_pipeline_df.randomSplit( [0.7, 0.3], seed = 42 )"
      ]
    },
    {
      "cell_type": "code",
      "execution_count": null,
      "metadata": {
        "id": "pyKd0mhY-E7b",
        "outputId": "2b244ceb-3a66-426e-9c87-2fd2639a507a",
        "colab": {
          "base_uri": "https://localhost:8080/"
        }
      },
      "outputs": [
        {
          "output_type": "stream",
          "name": "stdout",
          "text": [
            "+-------+---------------+--------+--------+---------+-----------+--------+------+----------+----+---------+-----+----------+-------------+--------+------------+-------+-------+--------+-------------+----------+------------------+------------------+---+-------------+-------+\n",
            "|     id|           date|   price|bedrooms|bathrooms|sqft_living|sqft_lot|floors|waterfront|view|condition|grade|sqft_above|sqft_basement|yr_built|yr_renovated|zipcode|    lat|    long|sqft_living15|sqft_lot15|         log_price|      log_sqft_lot|age|rennovate_age|  label|\n",
            "+-------+---------------+--------+--------+---------+-----------+--------+------+----------+----+---------+-----+----------+-------------+--------+------------+-------+-------+--------+-------------+----------+------------------+------------------+---+-------------+-------+\n",
            "|1000102|20140916T000000|280000.0|       6|      3.0|       2400|    9373|   2.0|         0|   0|        3|    7|      2400|            0|    1991|           0|  98002|47.3262|-122.214|         2060|      7316|12.542544882151386| 9.145588494746486| 24|         2015|12.5425|\n",
            "|1000102|20150422T000000|300000.0|       6|      3.0|       2400|    9373|   2.0|         0|   0|        3|    7|      2400|            0|    1991|           0|  98002|47.3262|-122.214|         2060|      7316|12.611537753638338| 9.145588494746486| 24|         2015|12.6115|\n",
            "|1200021|20140811T000000|400000.0|       3|      1.0|       1460|   43000|   1.0|         0|   0|        3|    7|      1460|            0|    1952|           0|  98166|47.4434|-122.347|         2250|     20023| 12.89921982609012|10.668955394675699| 63|         2015|12.8992|\n",
            "|2800031|20150401T000000|235000.0|       3|      1.0|       1430|    7599|   1.5|         0|   0|        4|    6|      1010|          420|    1930|           0|  98168|47.4783|-122.265|         1290|     10320|12.367340793126296| 8.935771938669784| 85|         2015|12.3673|\n",
            "|3600057|20150319T000000|402500.0|       4|      2.0|       1650|    3504|   1.0|         0|   0|        3|    7|       760|          890|    1951|        2013|  98144|47.5803|-122.294|         1480|      3504|12.905450375840756| 8.161660452056282| 64|            2|12.9055|\n",
            "+-------+---------------+--------+--------+---------+-----------+--------+------+----------+----+---------+-----+----------+-------------+--------+------------+-------+-------+--------+-------------+----------+------------------+------------------+---+-------------+-------+\n",
            "only showing top 5 rows\n",
            "\n"
          ]
        }
      ],
      "source": [
        "training.show(5)"
      ]
    },
    {
      "cell_type": "code",
      "execution_count": null,
      "metadata": {
        "id": "_szmtkCF-E7b"
      },
      "outputs": [],
      "source": [
        "model = pipeline.fit( training )"
      ]
    },
    {
      "cell_type": "code",
      "execution_count": null,
      "metadata": {
        "id": "xdELIoVO-E7b"
      },
      "outputs": [],
      "source": [
        "y_pred_train = model.transform(training)"
      ]
    },
    {
      "cell_type": "code",
      "execution_count": null,
      "metadata": {
        "id": "J1Gc3OYU-E7b",
        "outputId": "f047e124-a125-468f-d016-6d25f87e2276",
        "colab": {
          "base_uri": "https://localhost:8080/"
        }
      },
      "outputs": [
        {
          "output_type": "execute_result",
          "data": {
            "text/plain": [
              "['__abstractmethods__',\n",
              " '__class__',\n",
              " '__delattr__',\n",
              " '__dict__',\n",
              " '__dir__',\n",
              " '__doc__',\n",
              " '__eq__',\n",
              " '__format__',\n",
              " '__ge__',\n",
              " '__getattribute__',\n",
              " '__gt__',\n",
              " '__hash__',\n",
              " '__init__',\n",
              " '__init_subclass__',\n",
              " '__le__',\n",
              " '__lt__',\n",
              " '__module__',\n",
              " '__ne__',\n",
              " '__new__',\n",
              " '__reduce__',\n",
              " '__reduce_ex__',\n",
              " '__repr__',\n",
              " '__setattr__',\n",
              " '__sizeof__',\n",
              " '__str__',\n",
              " '__subclasshook__',\n",
              " '__weakref__',\n",
              " '_abc_impl',\n",
              " '_copyValues',\n",
              " '_copy_params',\n",
              " '_defaultParamMap',\n",
              " '_dummy',\n",
              " '_from_java',\n",
              " '_paramMap',\n",
              " '_params',\n",
              " '_randomUID',\n",
              " '_resetUid',\n",
              " '_resolveParam',\n",
              " '_set',\n",
              " '_setDefault',\n",
              " '_shouldOwn',\n",
              " '_testOwnParam',\n",
              " '_to_java',\n",
              " '_transform',\n",
              " 'clear',\n",
              " 'copy',\n",
              " 'explainParam',\n",
              " 'explainParams',\n",
              " 'extractParamMap',\n",
              " 'getOrDefault',\n",
              " 'getParam',\n",
              " 'hasDefault',\n",
              " 'hasParam',\n",
              " 'isDefined',\n",
              " 'isSet',\n",
              " 'load',\n",
              " 'params',\n",
              " 'read',\n",
              " 'save',\n",
              " 'set',\n",
              " 'stages',\n",
              " 'transform',\n",
              " 'uid',\n",
              " 'write']"
            ]
          },
          "metadata": {},
          "execution_count": 241
        }
      ],
      "source": [
        "dir(model)"
      ]
    },
    {
      "cell_type": "code",
      "execution_count": null,
      "metadata": {
        "id": "Pcxiv67R-E7b"
      },
      "outputs": [],
      "source": [
        "model.save(\"linear_regression.model\")"
      ]
    },
    {
      "cell_type": "code",
      "source": [
        "!zip -r /content/linear_regression_model.zip /content/linear_regression.model"
      ],
      "metadata": {
        "colab": {
          "base_uri": "https://localhost:8080/"
        },
        "id": "zaj4q9KkN1t_",
        "outputId": "10b072fd-6d9d-4238-b11a-a68fc83358ba"
      },
      "execution_count": null,
      "outputs": [
        {
          "output_type": "stream",
          "name": "stdout",
          "text": [
            "  adding: content/linear_regression.model/ (stored 0%)\n",
            "  adding: content/linear_regression.model/metadata/ (stored 0%)\n",
            "  adding: content/linear_regression.model/metadata/_SUCCESS (stored 0%)\n",
            "  adding: content/linear_regression.model/metadata/part-00000 (deflated 43%)\n",
            "  adding: content/linear_regression.model/metadata/.part-00000.crc (stored 0%)\n",
            "  adding: content/linear_regression.model/metadata/._SUCCESS.crc (stored 0%)\n",
            "  adding: content/linear_regression.model/stages/ (stored 0%)\n",
            "  adding: content/linear_regression.model/stages/05_OneHotEncoder_45f1b1610657/ (stored 0%)\n",
            "  adding: content/linear_regression.model/stages/05_OneHotEncoder_45f1b1610657/data/ (stored 0%)\n",
            "  adding: content/linear_regression.model/stages/05_OneHotEncoder_45f1b1610657/data/_SUCCESS (stored 0%)\n",
            "  adding: content/linear_regression.model/stages/05_OneHotEncoder_45f1b1610657/data/.part-00000-91225358-96d6-468e-a1b2-9be296863ada-c000.snappy.parquet.crc (stored 0%)\n",
            "  adding: content/linear_regression.model/stages/05_OneHotEncoder_45f1b1610657/data/._SUCCESS.crc (stored 0%)\n",
            "  adding: content/linear_regression.model/stages/05_OneHotEncoder_45f1b1610657/data/part-00000-91225358-96d6-468e-a1b2-9be296863ada-c000.snappy.parquet (deflated 29%)\n",
            "  adding: content/linear_regression.model/stages/05_OneHotEncoder_45f1b1610657/metadata/ (stored 0%)\n",
            "  adding: content/linear_regression.model/stages/05_OneHotEncoder_45f1b1610657/metadata/_SUCCESS (stored 0%)\n",
            "  adding: content/linear_regression.model/stages/05_OneHotEncoder_45f1b1610657/metadata/part-00000 (deflated 37%)\n",
            "  adding: content/linear_regression.model/stages/05_OneHotEncoder_45f1b1610657/metadata/.part-00000.crc (stored 0%)\n",
            "  adding: content/linear_regression.model/stages/05_OneHotEncoder_45f1b1610657/metadata/._SUCCESS.crc (stored 0%)\n",
            "  adding: content/linear_regression.model/stages/11_LinearRegression_c5c59cb1880d/ (stored 0%)\n",
            "  adding: content/linear_regression.model/stages/11_LinearRegression_c5c59cb1880d/data/ (stored 0%)\n",
            "  adding: content/linear_regression.model/stages/11_LinearRegression_c5c59cb1880d/data/_SUCCESS (stored 0%)\n",
            "  adding: content/linear_regression.model/stages/11_LinearRegression_c5c59cb1880d/data/part-00000-f29cec6f-bdda-4299-a458-3e6f058f8d25-c000.snappy.parquet (deflated 38%)\n",
            "  adding: content/linear_regression.model/stages/11_LinearRegression_c5c59cb1880d/data/._SUCCESS.crc (stored 0%)\n",
            "  adding: content/linear_regression.model/stages/11_LinearRegression_c5c59cb1880d/data/.part-00000-f29cec6f-bdda-4299-a458-3e6f058f8d25-c000.snappy.parquet.crc (stored 0%)\n",
            "  adding: content/linear_regression.model/stages/11_LinearRegression_c5c59cb1880d/metadata/ (stored 0%)\n",
            "  adding: content/linear_regression.model/stages/11_LinearRegression_c5c59cb1880d/metadata/_SUCCESS (stored 0%)\n",
            "  adding: content/linear_regression.model/stages/11_LinearRegression_c5c59cb1880d/metadata/part-00000 (deflated 38%)\n",
            "  adding: content/linear_regression.model/stages/11_LinearRegression_c5c59cb1880d/metadata/.part-00000.crc (stored 0%)\n",
            "  adding: content/linear_regression.model/stages/11_LinearRegression_c5c59cb1880d/metadata/._SUCCESS.crc (stored 0%)\n",
            "  adding: content/linear_regression.model/stages/10_VectorAssembler_5d985c1c9013/ (stored 0%)\n",
            "  adding: content/linear_regression.model/stages/10_VectorAssembler_5d985c1c9013/metadata/ (stored 0%)\n",
            "  adding: content/linear_regression.model/stages/10_VectorAssembler_5d985c1c9013/metadata/_SUCCESS (stored 0%)\n",
            "  adding: content/linear_regression.model/stages/10_VectorAssembler_5d985c1c9013/metadata/part-00000 (deflated 44%)\n",
            "  adding: content/linear_regression.model/stages/10_VectorAssembler_5d985c1c9013/metadata/.part-00000.crc (stored 0%)\n",
            "  adding: content/linear_regression.model/stages/10_VectorAssembler_5d985c1c9013/metadata/._SUCCESS.crc (stored 0%)\n",
            "  adding: content/linear_regression.model/stages/01_StringIndexer_9376afc2cc10/ (stored 0%)\n",
            "  adding: content/linear_regression.model/stages/01_StringIndexer_9376afc2cc10/data/ (stored 0%)\n",
            "  adding: content/linear_regression.model/stages/01_StringIndexer_9376afc2cc10/data/_SUCCESS (stored 0%)\n",
            "  adding: content/linear_regression.model/stages/01_StringIndexer_9376afc2cc10/data/.part-00000-71ecb586-9db5-476a-ab15-a78cb7c6938e-c000.snappy.parquet.crc (stored 0%)\n",
            "  adding: content/linear_regression.model/stages/01_StringIndexer_9376afc2cc10/data/part-00000-71ecb586-9db5-476a-ab15-a78cb7c6938e-c000.snappy.parquet (deflated 35%)\n",
            "  adding: content/linear_regression.model/stages/01_StringIndexer_9376afc2cc10/data/._SUCCESS.crc (stored 0%)\n",
            "  adding: content/linear_regression.model/stages/01_StringIndexer_9376afc2cc10/metadata/ (stored 0%)\n",
            "  adding: content/linear_regression.model/stages/01_StringIndexer_9376afc2cc10/metadata/_SUCCESS (stored 0%)\n",
            "  adding: content/linear_regression.model/stages/01_StringIndexer_9376afc2cc10/metadata/part-00000 (deflated 37%)\n",
            "  adding: content/linear_regression.model/stages/01_StringIndexer_9376afc2cc10/metadata/.part-00000.crc (stored 0%)\n",
            "  adding: content/linear_regression.model/stages/01_StringIndexer_9376afc2cc10/metadata/._SUCCESS.crc (stored 0%)\n",
            "  adding: content/linear_regression.model/stages/09_OneHotEncoder_547da75d008d/ (stored 0%)\n",
            "  adding: content/linear_regression.model/stages/09_OneHotEncoder_547da75d008d/data/ (stored 0%)\n",
            "  adding: content/linear_regression.model/stages/09_OneHotEncoder_547da75d008d/data/.part-00000-1a7fb28b-0a98-4a51-b7fa-9e3d9b92162a-c000.snappy.parquet.crc (stored 0%)\n",
            "  adding: content/linear_regression.model/stages/09_OneHotEncoder_547da75d008d/data/_SUCCESS (stored 0%)\n",
            "  adding: content/linear_regression.model/stages/09_OneHotEncoder_547da75d008d/data/part-00000-1a7fb28b-0a98-4a51-b7fa-9e3d9b92162a-c000.snappy.parquet (deflated 29%)\n",
            "  adding: content/linear_regression.model/stages/09_OneHotEncoder_547da75d008d/data/._SUCCESS.crc (stored 0%)\n",
            "  adding: content/linear_regression.model/stages/09_OneHotEncoder_547da75d008d/metadata/ (stored 0%)\n",
            "  adding: content/linear_regression.model/stages/09_OneHotEncoder_547da75d008d/metadata/_SUCCESS (stored 0%)\n",
            "  adding: content/linear_regression.model/stages/09_OneHotEncoder_547da75d008d/metadata/part-00000 (deflated 37%)\n",
            "  adding: content/linear_regression.model/stages/09_OneHotEncoder_547da75d008d/metadata/.part-00000.crc (stored 0%)\n",
            "  adding: content/linear_regression.model/stages/09_OneHotEncoder_547da75d008d/metadata/._SUCCESS.crc (stored 0%)\n",
            "  adding: content/linear_regression.model/stages/00_StringIndexer_5ec6d319bbf6/ (stored 0%)\n",
            "  adding: content/linear_regression.model/stages/00_StringIndexer_5ec6d319bbf6/data/ (stored 0%)\n",
            "  adding: content/linear_regression.model/stages/00_StringIndexer_5ec6d319bbf6/data/_SUCCESS (stored 0%)\n",
            "  adding: content/linear_regression.model/stages/00_StringIndexer_5ec6d319bbf6/data/.part-00000-209da0bb-2800-4b82-9d6d-938a1b4df9a4-c000.snappy.parquet.crc (stored 0%)\n",
            "  adding: content/linear_regression.model/stages/00_StringIndexer_5ec6d319bbf6/data/part-00000-209da0bb-2800-4b82-9d6d-938a1b4df9a4-c000.snappy.parquet (deflated 32%)\n",
            "  adding: content/linear_regression.model/stages/00_StringIndexer_5ec6d319bbf6/data/._SUCCESS.crc (stored 0%)\n",
            "  adding: content/linear_regression.model/stages/00_StringIndexer_5ec6d319bbf6/metadata/ (stored 0%)\n",
            "  adding: content/linear_regression.model/stages/00_StringIndexer_5ec6d319bbf6/metadata/_SUCCESS (stored 0%)\n",
            "  adding: content/linear_regression.model/stages/00_StringIndexer_5ec6d319bbf6/metadata/part-00000 (deflated 36%)\n",
            "  adding: content/linear_regression.model/stages/00_StringIndexer_5ec6d319bbf6/metadata/.part-00000.crc (stored 0%)\n",
            "  adding: content/linear_regression.model/stages/00_StringIndexer_5ec6d319bbf6/metadata/._SUCCESS.crc (stored 0%)\n",
            "  adding: content/linear_regression.model/stages/08_OneHotEncoder_83ccd2c39a8d/ (stored 0%)\n",
            "  adding: content/linear_regression.model/stages/08_OneHotEncoder_83ccd2c39a8d/data/ (stored 0%)\n",
            "  adding: content/linear_regression.model/stages/08_OneHotEncoder_83ccd2c39a8d/data/_SUCCESS (stored 0%)\n",
            "  adding: content/linear_regression.model/stages/08_OneHotEncoder_83ccd2c39a8d/data/.part-00000-7c520b2e-f91f-46ac-b01c-dae38ad86053-c000.snappy.parquet.crc (stored 0%)\n",
            "  adding: content/linear_regression.model/stages/08_OneHotEncoder_83ccd2c39a8d/data/part-00000-7c520b2e-f91f-46ac-b01c-dae38ad86053-c000.snappy.parquet (deflated 29%)\n",
            "  adding: content/linear_regression.model/stages/08_OneHotEncoder_83ccd2c39a8d/data/._SUCCESS.crc (stored 0%)\n",
            "  adding: content/linear_regression.model/stages/08_OneHotEncoder_83ccd2c39a8d/metadata/ (stored 0%)\n",
            "  adding: content/linear_regression.model/stages/08_OneHotEncoder_83ccd2c39a8d/metadata/_SUCCESS (stored 0%)\n",
            "  adding: content/linear_regression.model/stages/08_OneHotEncoder_83ccd2c39a8d/metadata/part-00000 (deflated 38%)\n",
            "  adding: content/linear_regression.model/stages/08_OneHotEncoder_83ccd2c39a8d/metadata/.part-00000.crc (stored 0%)\n",
            "  adding: content/linear_regression.model/stages/08_OneHotEncoder_83ccd2c39a8d/metadata/._SUCCESS.crc (stored 0%)\n",
            "  adding: content/linear_regression.model/stages/06_OneHotEncoder_258938972b22/ (stored 0%)\n",
            "  adding: content/linear_regression.model/stages/06_OneHotEncoder_258938972b22/data/ (stored 0%)\n",
            "  adding: content/linear_regression.model/stages/06_OneHotEncoder_258938972b22/data/part-00000-2d38040c-c2fa-4c48-99a6-4c3ac6abc021-c000.snappy.parquet (deflated 29%)\n",
            "  adding: content/linear_regression.model/stages/06_OneHotEncoder_258938972b22/data/_SUCCESS (stored 0%)\n",
            "  adding: content/linear_regression.model/stages/06_OneHotEncoder_258938972b22/data/.part-00000-2d38040c-c2fa-4c48-99a6-4c3ac6abc021-c000.snappy.parquet.crc (stored 0%)\n",
            "  adding: content/linear_regression.model/stages/06_OneHotEncoder_258938972b22/data/._SUCCESS.crc (stored 0%)\n",
            "  adding: content/linear_regression.model/stages/06_OneHotEncoder_258938972b22/metadata/ (stored 0%)\n",
            "  adding: content/linear_regression.model/stages/06_OneHotEncoder_258938972b22/metadata/_SUCCESS (stored 0%)\n",
            "  adding: content/linear_regression.model/stages/06_OneHotEncoder_258938972b22/metadata/part-00000 (deflated 37%)\n",
            "  adding: content/linear_regression.model/stages/06_OneHotEncoder_258938972b22/metadata/.part-00000.crc (stored 0%)\n",
            "  adding: content/linear_regression.model/stages/06_OneHotEncoder_258938972b22/metadata/._SUCCESS.crc (stored 0%)\n",
            "  adding: content/linear_regression.model/stages/03_StringIndexer_c80531d99713/ (stored 0%)\n",
            "  adding: content/linear_regression.model/stages/03_StringIndexer_c80531d99713/data/ (stored 0%)\n",
            "  adding: content/linear_regression.model/stages/03_StringIndexer_c80531d99713/data/_SUCCESS (stored 0%)\n",
            "  adding: content/linear_regression.model/stages/03_StringIndexer_c80531d99713/data/part-00000-9da80397-4696-4be7-bd88-2ebaff21dd2b-c000.snappy.parquet (deflated 35%)\n",
            "  adding: content/linear_regression.model/stages/03_StringIndexer_c80531d99713/data/._SUCCESS.crc (stored 0%)\n",
            "  adding: content/linear_regression.model/stages/03_StringIndexer_c80531d99713/data/.part-00000-9da80397-4696-4be7-bd88-2ebaff21dd2b-c000.snappy.parquet.crc (stored 0%)\n",
            "  adding: content/linear_regression.model/stages/03_StringIndexer_c80531d99713/metadata/ (stored 0%)\n",
            "  adding: content/linear_regression.model/stages/03_StringIndexer_c80531d99713/metadata/_SUCCESS (stored 0%)\n",
            "  adding: content/linear_regression.model/stages/03_StringIndexer_c80531d99713/metadata/part-00000 (deflated 37%)\n",
            "  adding: content/linear_regression.model/stages/03_StringIndexer_c80531d99713/metadata/.part-00000.crc (stored 0%)\n",
            "  adding: content/linear_regression.model/stages/03_StringIndexer_c80531d99713/metadata/._SUCCESS.crc (stored 0%)\n",
            "  adding: content/linear_regression.model/stages/04_StringIndexer_d3cab3aa0a3b/ (stored 0%)\n",
            "  adding: content/linear_regression.model/stages/04_StringIndexer_d3cab3aa0a3b/data/ (stored 0%)\n",
            "  adding: content/linear_regression.model/stages/04_StringIndexer_d3cab3aa0a3b/data/.part-00000-d79be07b-b768-461b-a122-f9bb9f116144-c000.snappy.parquet.crc (stored 0%)\n",
            "  adding: content/linear_regression.model/stages/04_StringIndexer_d3cab3aa0a3b/data/_SUCCESS (stored 0%)\n",
            "  adding: content/linear_regression.model/stages/04_StringIndexer_d3cab3aa0a3b/data/part-00000-d79be07b-b768-461b-a122-f9bb9f116144-c000.snappy.parquet (deflated 35%)\n",
            "  adding: content/linear_regression.model/stages/04_StringIndexer_d3cab3aa0a3b/data/._SUCCESS.crc (stored 0%)\n",
            "  adding: content/linear_regression.model/stages/04_StringIndexer_d3cab3aa0a3b/metadata/ (stored 0%)\n",
            "  adding: content/linear_regression.model/stages/04_StringIndexer_d3cab3aa0a3b/metadata/_SUCCESS (stored 0%)\n",
            "  adding: content/linear_regression.model/stages/04_StringIndexer_d3cab3aa0a3b/metadata/part-00000 (deflated 35%)\n",
            "  adding: content/linear_regression.model/stages/04_StringIndexer_d3cab3aa0a3b/metadata/.part-00000.crc (stored 0%)\n",
            "  adding: content/linear_regression.model/stages/04_StringIndexer_d3cab3aa0a3b/metadata/._SUCCESS.crc (stored 0%)\n",
            "  adding: content/linear_regression.model/stages/02_StringIndexer_89945ce0b09b/ (stored 0%)\n",
            "  adding: content/linear_regression.model/stages/02_StringIndexer_89945ce0b09b/data/ (stored 0%)\n",
            "  adding: content/linear_regression.model/stages/02_StringIndexer_89945ce0b09b/data/part-00000-188876ec-3671-4971-af34-ba0cac5b907c-c000.snappy.parquet (deflated 34%)\n",
            "  adding: content/linear_regression.model/stages/02_StringIndexer_89945ce0b09b/data/_SUCCESS (stored 0%)\n",
            "  adding: content/linear_regression.model/stages/02_StringIndexer_89945ce0b09b/data/.part-00000-188876ec-3671-4971-af34-ba0cac5b907c-c000.snappy.parquet.crc (stored 0%)\n",
            "  adding: content/linear_regression.model/stages/02_StringIndexer_89945ce0b09b/data/._SUCCESS.crc (stored 0%)\n",
            "  adding: content/linear_regression.model/stages/02_StringIndexer_89945ce0b09b/metadata/ (stored 0%)\n",
            "  adding: content/linear_regression.model/stages/02_StringIndexer_89945ce0b09b/metadata/_SUCCESS (stored 0%)\n",
            "  adding: content/linear_regression.model/stages/02_StringIndexer_89945ce0b09b/metadata/part-00000 (deflated 36%)\n",
            "  adding: content/linear_regression.model/stages/02_StringIndexer_89945ce0b09b/metadata/.part-00000.crc (stored 0%)\n",
            "  adding: content/linear_regression.model/stages/02_StringIndexer_89945ce0b09b/metadata/._SUCCESS.crc (stored 0%)\n",
            "  adding: content/linear_regression.model/stages/07_OneHotEncoder_822ddc7e5237/ (stored 0%)\n",
            "  adding: content/linear_regression.model/stages/07_OneHotEncoder_822ddc7e5237/data/ (stored 0%)\n",
            "  adding: content/linear_regression.model/stages/07_OneHotEncoder_822ddc7e5237/data/_SUCCESS (stored 0%)\n",
            "  adding: content/linear_regression.model/stages/07_OneHotEncoder_822ddc7e5237/data/part-00000-3ce7ae1a-c6bf-4fc4-813e-ec95d5e03679-c000.snappy.parquet (deflated 29%)\n",
            "  adding: content/linear_regression.model/stages/07_OneHotEncoder_822ddc7e5237/data/.part-00000-3ce7ae1a-c6bf-4fc4-813e-ec95d5e03679-c000.snappy.parquet.crc (stored 0%)\n",
            "  adding: content/linear_regression.model/stages/07_OneHotEncoder_822ddc7e5237/data/._SUCCESS.crc (stored 0%)\n",
            "  adding: content/linear_regression.model/stages/07_OneHotEncoder_822ddc7e5237/metadata/ (stored 0%)\n",
            "  adding: content/linear_regression.model/stages/07_OneHotEncoder_822ddc7e5237/metadata/_SUCCESS (stored 0%)\n",
            "  adding: content/linear_regression.model/stages/07_OneHotEncoder_822ddc7e5237/metadata/part-00000 (deflated 36%)\n",
            "  adding: content/linear_regression.model/stages/07_OneHotEncoder_822ddc7e5237/metadata/.part-00000.crc (stored 0%)\n",
            "  adding: content/linear_regression.model/stages/07_OneHotEncoder_822ddc7e5237/metadata/._SUCCESS.crc (stored 0%)\n"
          ]
        }
      ]
    },
    {
      "cell_type": "markdown",
      "source": [
        "## Classification Model"
      ],
      "metadata": {
        "id": "uS6BXxNieJ6U"
      }
    },
    {
      "cell_type": "code",
      "source": [
        "from pyspark.ml import Pipeline\n",
        "from pyspark.ml.classification import RandomForestClassifier\n",
        "from pyspark.ml.feature import *\n",
        "from pyspark.ml.evaluation import MulticlassClassificationEvaluator, BinaryClassificationEvaluator\n",
        "\n",
        "from sklearn.metrics import confusion_matrix\n",
        "from sklearn.metrics import precision_score\n",
        "from sklearn.metrics import recall_score"
      ],
      "metadata": {
        "id": "NOmQXIvreDu3"
      },
      "execution_count": null,
      "outputs": []
    },
    {
      "cell_type": "code",
      "source": [
        "df = spark.read.csv('iris.csv', header = True, inferSchema = True)"
      ],
      "metadata": {
        "id": "HaI8iPBeeR-U"
      },
      "execution_count": null,
      "outputs": []
    },
    {
      "cell_type": "code",
      "source": [
        "df.show(5)"
      ],
      "metadata": {
        "colab": {
          "base_uri": "https://localhost:8080/"
        },
        "id": "g-EB1scSeR8M",
        "outputId": "ca0effee-620a-43b4-9410-7ac020450a21"
      },
      "execution_count": null,
      "outputs": [
        {
          "output_type": "stream",
          "name": "stdout",
          "text": [
            "+-------------+------------+-------------+------------+-------+\n",
            "|SepalLengthCm|SepalWidthCm|PetalLengthCm|PetalWidthCm|Species|\n",
            "+-------------+------------+-------------+------------+-------+\n",
            "|          5.1|         3.5|          1.4|         0.2| setosa|\n",
            "|          4.9|         3.0|          1.4|         0.2| setosa|\n",
            "|          4.7|         3.2|          1.3|         0.2| setosa|\n",
            "|          4.6|         3.1|          1.5|         0.2| setosa|\n",
            "|          5.0|         3.6|          1.4|         0.2| setosa|\n",
            "+-------------+------------+-------------+------------+-------+\n",
            "only showing top 5 rows\n",
            "\n"
          ]
        }
      ]
    },
    {
      "cell_type": "markdown",
      "source": [
        "### PREPROCESSING DATA\n",
        "##### We are combining features into one single vector and renaming 'Species' to 'label'"
      ],
      "metadata": {
        "id": "s7TxebdBfrZW"
      }
    },
    {
      "cell_type": "code",
      "source": [
        "df = (StringIndexer(inputCol=\"Species\",outputCol=\"label\")\n",
        "          .fit(df)\n",
        "          .transform(VectorAssembler(inputCols=[\"SepalLengthCm\", \"SepalWidthCm\",\"PetalLengthCm\",\"PetalWidthCm\"],outputCol='features')\n",
        "                         .transform(df))\n",
        "          .drop('Id','SepalLengthCm','SepalWidthCm','PetalLengthCm','PetalWidthCm','Species')\n",
        "          .distinct())"
      ],
      "metadata": {
        "id": "o0Spv-izeR4z"
      },
      "execution_count": null,
      "outputs": []
    },
    {
      "cell_type": "code",
      "source": [
        "df.show()"
      ],
      "metadata": {
        "colab": {
          "base_uri": "https://localhost:8080/"
        },
        "id": "ifd3HGcbeR1Y",
        "outputId": "551c4576-4ada-481b-cd92-a88260c57842"
      },
      "execution_count": null,
      "outputs": [
        {
          "output_type": "stream",
          "name": "stdout",
          "text": [
            "+-----------------+-----+\n",
            "|         features|label|\n",
            "+-----------------+-----+\n",
            "|[7.7,2.6,6.9,2.3]|  2.0|\n",
            "|[4.9,2.4,3.3,1.0]|  1.0|\n",
            "|[7.7,3.8,6.7,2.2]|  2.0|\n",
            "|[5.5,2.3,4.0,1.3]|  1.0|\n",
            "|[5.4,3.7,1.5,0.2]|  0.0|\n",
            "|[5.7,2.8,4.5,1.3]|  1.0|\n",
            "|[6.0,2.2,5.0,1.5]|  2.0|\n",
            "|[5.4,3.9,1.3,0.4]|  0.0|\n",
            "|[6.7,3.3,5.7,2.5]|  2.0|\n",
            "|[5.8,4.0,1.2,0.2]|  0.0|\n",
            "|[5.1,3.7,1.5,0.4]|  0.0|\n",
            "|[4.8,3.4,1.9,0.2]|  0.0|\n",
            "|[5.5,2.5,4.0,1.3]|  1.0|\n",
            "|[6.6,3.0,4.4,1.4]|  1.0|\n",
            "|[6.4,3.2,5.3,2.3]|  2.0|\n",
            "|[6.5,3.0,5.8,2.2]|  2.0|\n",
            "|[5.4,3.4,1.5,0.4]|  0.0|\n",
            "|[5.6,2.8,4.9,2.0]|  2.0|\n",
            "|[5.2,4.1,1.5,0.1]|  0.0|\n",
            "|[5.9,3.0,4.2,1.5]|  1.0|\n",
            "+-----------------+-----+\n",
            "only showing top 20 rows\n",
            "\n"
          ]
        }
      ]
    },
    {
      "cell_type": "markdown",
      "source": [
        "## Training Model\n",
        "### We are creating a train function to reduce code repeating"
      ],
      "metadata": {
        "id": "uYIxqTXvfkTb"
      }
    },
    {
      "cell_type": "code",
      "source": [
        "def train(df, classifier):\n",
        "  (train, test) = df.randomSplit([.7,.3])\n",
        "\n",
        "  model = classifier.fit(train)\n",
        "\n",
        "  pred = model.transform(test)\n",
        "\n",
        "  eval_accuracy = (MulticlassClassificationEvaluator\n",
        "        (labelCol=\"label\", predictionCol=\"prediction\", metricName=\"accuracy\"))\n",
        "  \n",
        "  eval_precision = (MulticlassClassificationEvaluator\n",
        "        (labelCol=\"label\", predictionCol=\"prediction\", metricName=\"weightedPrecision\"))\n",
        "  \n",
        "  eval_recall = (MulticlassClassificationEvaluator\n",
        "        (labelCol=\"label\", predictionCol=\"prediction\", metricName=\"weightedRecall\"))\n",
        "  \n",
        "  eval_f1 = (MulticlassClassificationEvaluator\n",
        "        (labelCol=\"label\", predictionCol=\"prediction\", metricName=\"f1\"))\n",
        "\n",
        "  accuracy = eval_accuracy.evaluate(pred)\n",
        "\n",
        "  precision =  eval_precision.evaluate(pred)\n",
        "\n",
        "  recall =  eval_recall.evaluate(pred)\n",
        "\n",
        "  f1 =  eval_f1.evaluate(pred)\n",
        "\n",
        "  print(f\"\"\"\n",
        "  Accuracy  = {accuracy}\n",
        "  Error     = {1-accuracy}\n",
        "  Precision = {precision}\n",
        "  Recall    = {recall}\n",
        "  F1        = {f1}\"\"\")\n",
        "\n",
        "  return model, pred"
      ],
      "metadata": {
        "id": "PiA7tmLjeRxv"
      },
      "execution_count": null,
      "outputs": []
    },
    {
      "cell_type": "code",
      "source": [
        "rf = RandomForestClassifier(labelCol=\"label\", featuresCol=\"features\")\n",
        "\n",
        "_ , pred = train(df,rf)\n",
        "\n",
        "pred.select(\"prediction\", \"label\", \"features\").show()"
      ],
      "metadata": {
        "colab": {
          "base_uri": "https://localhost:8080/"
        },
        "id": "1KPB0vBVeRt0",
        "outputId": "1b7c73c3-0116-44f7-cf25-2e021843f774"
      },
      "execution_count": null,
      "outputs": [
        {
          "output_type": "stream",
          "name": "stdout",
          "text": [
            "\n",
            "  Accuracy  = 0.9607843137254902\n",
            "  Error     = 0.039215686274509776\n",
            "  Precision = 0.9636891793754538\n",
            "  Recall    = 0.9607843137254901\n",
            "  F1        = 0.9599044746103569\n",
            "+----------+-----+-----------------+\n",
            "|prediction|label|         features|\n",
            "+----------+-----+-----------------+\n",
            "|       0.0|  0.0|[4.4,2.9,1.4,0.2]|\n",
            "|       0.0|  0.0|[4.6,3.6,1.0,0.2]|\n",
            "|       0.0|  0.0|[4.7,3.2,1.3,0.2]|\n",
            "|       0.0|  0.0|[4.8,3.1,1.6,0.2]|\n",
            "|       1.0|  1.0|[4.9,2.4,3.3,1.0]|\n",
            "|       0.0|  0.0|[4.9,3.0,1.4,0.2]|\n",
            "|       1.0|  1.0|[5.0,2.0,3.5,1.0]|\n",
            "|       1.0|  1.0|[5.0,2.3,3.3,1.0]|\n",
            "|       0.0|  0.0|[5.0,3.3,1.4,0.2]|\n",
            "|       0.0|  0.0|[5.0,3.4,1.5,0.2]|\n",
            "|       1.0|  1.0|[5.1,2.5,3.0,1.1]|\n",
            "|       0.0|  0.0|[5.1,3.4,1.5,0.2]|\n",
            "|       0.0|  0.0|[5.1,3.5,1.4,0.3]|\n",
            "|       0.0|  0.0|[5.1,3.8,1.5,0.3]|\n",
            "|       1.0|  1.0|[5.4,3.0,4.5,1.5]|\n",
            "|       0.0|  0.0|[5.4,3.4,1.5,0.4]|\n",
            "|       0.0|  0.0|[5.4,3.7,1.5,0.2]|\n",
            "|       0.0|  0.0|[5.4,3.9,1.3,0.4]|\n",
            "|       1.0|  1.0|[5.5,2.3,4.0,1.3]|\n",
            "|       1.0|  1.0|[5.5,2.4,3.7,1.0]|\n",
            "+----------+-----+-----------------+\n",
            "only showing top 20 rows\n",
            "\n"
          ]
        }
      ]
    },
    {
      "cell_type": "code",
      "source": [
        ""
      ],
      "metadata": {
        "id": "-HEOqYGSeRQS"
      },
      "execution_count": null,
      "outputs": []
    },
    {
      "cell_type": "markdown",
      "source": [
        "### Pipeline Example -1"
      ],
      "metadata": {
        "id": "gBgInIzFcsBM"
      }
    },
    {
      "cell_type": "code",
      "source": [
        "from pyspark.ml import Pipeline\n",
        "\n",
        "# create a sample dataframe\n",
        "sample_df = spark.createDataFrame([\n",
        "    (1, 'L101', 'R'),\n",
        "    (2, 'L201', 'C'),\n",
        "    (3, 'D111', 'R'),\n",
        "    (4, 'F210', 'R'),\n",
        "    (5, 'D110', 'C')\n",
        "], ['id', 'category_1', 'category_2'])\n",
        "\n",
        "sample_df.show()"
      ],
      "metadata": {
        "colab": {
          "base_uri": "https://localhost:8080/"
        },
        "id": "RbN9Lo37W8l-",
        "outputId": "70091bda-a59e-4e47-9815-e5ebd1424648"
      },
      "execution_count": null,
      "outputs": [
        {
          "output_type": "stream",
          "name": "stdout",
          "text": [
            "+---+----------+----------+\n",
            "| id|category_1|category_2|\n",
            "+---+----------+----------+\n",
            "|  1|      L101|         R|\n",
            "|  2|      L201|         C|\n",
            "|  3|      D111|         R|\n",
            "|  4|      F210|         R|\n",
            "|  5|      D110|         C|\n",
            "+---+----------+----------+\n",
            "\n"
          ]
        }
      ]
    },
    {
      "cell_type": "markdown",
      "source": [
        "### Pipeline Example -2"
      ],
      "metadata": {
        "id": "Ap4wEdyvcyA7"
      }
    },
    {
      "cell_type": "code",
      "source": [
        "# define stage 1 : transform the column category_1 to numeric\n",
        "stage_1 = StringIndexer(inputCol= 'category_1', outputCol= 'category_1_index')\n",
        "# define stage 2 : transform the column category_2 to numeric\n",
        "stage_2 = StringIndexer(inputCol= 'category_2', outputCol= 'category_2_index')\n",
        "# define stage 3 : one hot encode the numeric category_2 column\n",
        "stage_3 = OneHotEncoder(inputCols=['category_2_index'], outputCols=['category_2_OHE'])\n",
        "\n",
        "# setup the pipeline\n",
        "pipeline = Pipeline(stages=[stage_1, stage_2, stage_3])\n",
        "\n",
        "# fit the pipeline model and transform the data as defined\n",
        "pipeline_model = pipeline.fit(sample_df)\n",
        "sample_df_updated = pipeline_model.transform(sample_df)\n",
        "\n",
        "# view the transformed data\n",
        "sample_df_updated.show()"
      ],
      "metadata": {
        "colab": {
          "base_uri": "https://localhost:8080/"
        },
        "id": "VikCuAIvYjYj",
        "outputId": "f8135d35-5345-4133-84cd-54cf2641199f"
      },
      "execution_count": null,
      "outputs": [
        {
          "output_type": "stream",
          "name": "stdout",
          "text": [
            "+---+----------+----------+----------------+----------------+--------------+\n",
            "| id|category_1|category_2|category_1_index|category_2_index|category_2_OHE|\n",
            "+---+----------+----------+----------------+----------------+--------------+\n",
            "|  1|      L101|         R|             3.0|             0.0| (1,[0],[1.0])|\n",
            "|  2|      L201|         C|             4.0|             1.0|     (1,[],[])|\n",
            "|  3|      D111|         R|             1.0|             0.0| (1,[0],[1.0])|\n",
            "|  4|      F210|         R|             2.0|             0.0| (1,[0],[1.0])|\n",
            "|  5|      D110|         C|             0.0|             1.0|     (1,[],[])|\n",
            "+---+----------+----------+----------------+----------------+--------------+\n",
            "\n"
          ]
        }
      ]
    },
    {
      "cell_type": "markdown",
      "source": [
        "### Classification with Pipeline"
      ],
      "metadata": {
        "id": "5g-lwksKc9Fn"
      }
    },
    {
      "cell_type": "code",
      "source": [
        "from pyspark.ml.classification import LogisticRegression\n",
        "\n",
        "# create a sample dataframe with 4 features and 1 label column\n",
        "sample_data_train = spark.createDataFrame([\n",
        "    (2.0, 'A', 'S10', 40, 1.0),\n",
        "    (1.0, 'X', 'E10', 25, 1.0),\n",
        "    (4.0, 'X', 'S20', 10, 0.0),\n",
        "    (3.0, 'Z', 'S10', 20, 0.0),\n",
        "    (4.0, 'A', 'E10', 30, 1.0),\n",
        "    (2.0, 'Z', 'S10', 40, 0.0),\n",
        "    (5.0, 'X', 'D10', 10, 1.0),\n",
        "], ['feature_1', 'feature_2', 'feature_3', 'feature_4', 'label'])\n",
        "\n",
        "# view the data\n",
        "sample_data_train.show()"
      ],
      "metadata": {
        "colab": {
          "base_uri": "https://localhost:8080/"
        },
        "id": "DZ3zxoIDYy7e",
        "outputId": "69d267fe-e539-48be-dd64-e46bc7712e71"
      },
      "execution_count": null,
      "outputs": [
        {
          "output_type": "stream",
          "name": "stdout",
          "text": [
            "+---------+---------+---------+---------+-----+\n",
            "|feature_1|feature_2|feature_3|feature_4|label|\n",
            "+---------+---------+---------+---------+-----+\n",
            "|      2.0|        A|      S10|       40|  1.0|\n",
            "|      1.0|        X|      E10|       25|  1.0|\n",
            "|      4.0|        X|      S20|       10|  0.0|\n",
            "|      3.0|        Z|      S10|       20|  0.0|\n",
            "|      4.0|        A|      E10|       30|  1.0|\n",
            "|      2.0|        Z|      S10|       40|  0.0|\n",
            "|      5.0|        X|      D10|       10|  1.0|\n",
            "+---------+---------+---------+---------+-----+\n",
            "\n"
          ]
        }
      ]
    },
    {
      "cell_type": "code",
      "source": [
        "# define stage 1: transform the column feature_2 to numeric\n",
        "stage_1 = StringIndexer(inputCol= 'feature_2', outputCol= 'feature_2_index')\n",
        "# define stage 2: transform the column feature_3 to numeric\n",
        "stage_2 = StringIndexer(inputCol= 'feature_3', outputCol= 'feature_3_index')\n",
        "# define stage 3: one hot encode the numeric versions of feature 2 and 3 generated from stage 1 and stage 2\n",
        "stage_3 = OneHotEncoder(inputCols=[stage_1.getOutputCol(), stage_2.getOutputCol()], \n",
        "                                 outputCols= ['feature_2_encoded', 'feature_3_encoded'])\n",
        "# define stage 4: create a vector of all the features required to train the logistic regression model \n",
        "stage_4 = VectorAssembler(inputCols=['feature_1', 'feature_2_encoded', 'feature_3_encoded', 'feature_4'],\n",
        "                          outputCol='features')\n",
        "# define stage 5: logistic regression model                          \n",
        "stage_5 = LogisticRegression(featuresCol='features',labelCol='label')"
      ],
      "metadata": {
        "id": "LQS2Q1ZU_X8x"
      },
      "execution_count": null,
      "outputs": []
    },
    {
      "cell_type": "code",
      "source": [
        "# setup the pipeline\n",
        "regression_pipeline = Pipeline(stages= [stage_1, stage_2, stage_3, stage_4, stage_5])"
      ],
      "metadata": {
        "id": "__l3Plw2ADnC"
      },
      "execution_count": null,
      "outputs": []
    },
    {
      "cell_type": "code",
      "source": [
        "# fit the pipeline for the trainind data\n",
        "model = regression_pipeline.fit(sample_data_train)"
      ],
      "metadata": {
        "id": "8teHuUb3AJ1W"
      },
      "execution_count": null,
      "outputs": []
    },
    {
      "cell_type": "code",
      "source": [
        "# transform the data\n",
        "sample_data_train = model.transform(sample_data_train)"
      ],
      "metadata": {
        "id": "OK16BmaJANDs"
      },
      "execution_count": null,
      "outputs": []
    },
    {
      "cell_type": "code",
      "source": [
        "# view some of the columns generated\n",
        "sample_data_train.select('features', 'label', 'rawPrediction', 'probability', 'prediction').show()"
      ],
      "metadata": {
        "colab": {
          "base_uri": "https://localhost:8080/"
        },
        "id": "q447TetsY5QU",
        "outputId": "13ac3be2-962d-41e2-acf8-a7c34752422b"
      },
      "execution_count": null,
      "outputs": [
        {
          "output_type": "stream",
          "name": "stdout",
          "text": [
            "+--------------------+-----+--------------------+--------------------+----------+\n",
            "|            features|label|       rawPrediction|         probability|prediction|\n",
            "+--------------------+-----+--------------------+--------------------+----------+\n",
            "|[2.0,0.0,1.0,1.0,...|  1.0|[-18.225955511073...|[1.21497709009896...|       1.0|\n",
            "|[1.0,1.0,0.0,0.0,...|  1.0|[-18.358243459851...|[1.06442768895384...|       1.0|\n",
            "|(7,[0,1,6],[4.0,1...|  0.0|[18.3563077658455...|[0.99999998933509...|       0.0|\n",
            "|(7,[0,3,6],[3.0,1...|  0.0|[27.4123701842630...|[0.99999999999875...|       0.0|\n",
            "|[4.0,0.0,1.0,0.0,...|  1.0|[-35.975077013624...|[2.37805868027895...|       1.0|\n",
            "|(7,[0,3,6],[2.0,1...|  0.0|[18.2316263610007...|[0.99999998791893...|       0.0|\n",
            "|[5.0,1.0,0.0,0.0,...|  1.0|[-19.243972131253...|[4.38984404457991...|       1.0|\n",
            "+--------------------+-----+--------------------+--------------------+----------+\n",
            "\n"
          ]
        }
      ]
    },
    {
      "cell_type": "code",
      "source": [
        "# create a sample data without the labels\n",
        "sample_data_test = spark.createDataFrame([\n",
        "    (3.0, 'Z', 'S10', 40),\n",
        "    (1.0, 'X', 'E10', 20),\n",
        "    (4.0, 'A', 'S20', 10),\n",
        "    (3.0, 'A', 'S10', 20),\n",
        "    (4.0, 'X', 'D10', 30),\n",
        "    (1.0, 'Z', 'E10', 20),\n",
        "    (4.0, 'A', 'S10', 30),\n",
        "], ['feature_1', 'feature_2', 'feature_3', 'feature_4'])"
      ],
      "metadata": {
        "id": "Ubd0sb2fAyay"
      },
      "execution_count": null,
      "outputs": []
    },
    {
      "cell_type": "code",
      "source": [
        "# transform the data using the pipeline\n",
        "sample_data_test = model.transform(sample_data_test)"
      ],
      "metadata": {
        "id": "6uxnuk0qA7yo"
      },
      "execution_count": null,
      "outputs": []
    },
    {
      "cell_type": "code",
      "source": [
        "# see the prediction on the test data\n",
        "sample_data_test.select('features', 'rawPrediction', 'probability', 'prediction').show()"
      ],
      "metadata": {
        "colab": {
          "base_uri": "https://localhost:8080/"
        },
        "id": "Gc_T994LY-ds",
        "outputId": "4c1f5bd7-164e-4876-e25c-a2099a64eca5"
      },
      "execution_count": null,
      "outputs": [
        {
          "output_type": "stream",
          "name": "stdout",
          "text": [
            "+--------------------+--------------------+--------------------+----------+\n",
            "|            features|       rawPrediction|         probability|prediction|\n",
            "+--------------------+--------------------+--------------------+----------+\n",
            "|(7,[0,3,6],[3.0,1...|[22.1178979709695...|[0.99999999975207...|       0.0|\n",
            "|[1.0,1.0,0.0,0.0,...|[-17.034625406528...|[3.99904385954833...|       1.0|\n",
            "|(7,[0,2,6],[4.0,1...|[-9.5957225645106...|[6.80144359960515...|       1.0|\n",
            "|[3.0,0.0,1.0,1.0,...|[-9.0452116878111...|[1.17940578148844...|       1.0|\n",
            "|[4.0,1.0,0.0,0.0,...|[-28.424715954515...|[4.52171006114669...|       1.0|\n",
            "|(7,[0,4,6],[1.0,1...|[-8.5290738648104...|[1.97598871597202...|       1.0|\n",
            "|[4.0,0.0,1.0,1.0,...|[-7.8061761844890...|[4.07046424555585...|       1.0|\n",
            "+--------------------+--------------------+--------------------+----------+\n",
            "\n"
          ]
        }
      ]
    },
    {
      "cell_type": "code",
      "source": [
        ""
      ],
      "metadata": {
        "id": "0kl1x5u4ZHZZ"
      },
      "execution_count": null,
      "outputs": []
    }
  ],
  "metadata": {
    "kernelspec": {
      "display_name": "Python 3 (ipykernel)",
      "language": "python",
      "name": "python3"
    },
    "language_info": {
      "codemirror_mode": {
        "name": "ipython",
        "version": 3
      },
      "file_extension": ".py",
      "mimetype": "text/x-python",
      "name": "python",
      "nbconvert_exporter": "python",
      "pygments_lexer": "ipython3",
      "version": "3.9.7"
    },
    "varInspector": {
      "cols": {
        "lenName": 16,
        "lenType": 16,
        "lenVar": 40
      },
      "kernels_config": {
        "python": {
          "delete_cmd_postfix": "",
          "delete_cmd_prefix": "del ",
          "library": "var_list.py",
          "varRefreshCmd": "print(var_dic_list())"
        },
        "r": {
          "delete_cmd_postfix": ") ",
          "delete_cmd_prefix": "rm(",
          "library": "var_list.r",
          "varRefreshCmd": "cat(var_dic_list()) "
        }
      },
      "types_to_exclude": [
        "module",
        "function",
        "builtin_function_or_method",
        "instance",
        "_Feature"
      ],
      "window_display": false
    },
    "colab": {
      "name": "Regression-Classification-Pipeline Creation using Pyspark.ipynb",
      "provenance": [],
      "collapsed_sections": [
        "pqPOqDSZ-E7R"
      ]
    }
  },
  "nbformat": 4,
  "nbformat_minor": 0
}